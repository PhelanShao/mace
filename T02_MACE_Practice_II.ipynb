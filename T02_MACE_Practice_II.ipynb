{
  "cells": [
    {
      "cell_type": "markdown",
      "metadata": {
        "id": "view-in-github",
        "colab_type": "text"
      },
      "source": [
        "<a href=\"https://colab.research.google.com/github/PhelanShao/mace/blob/main/T02_MACE_Practice_II.ipynb\" target=\"_parent\"><img src=\"https://colab.research.google.com/assets/colab-badge.svg\" alt=\"Open In Colab\"/></a>"
      ]
    },
    {
      "cell_type": "markdown",
      "metadata": {
        "cell_id": "a40121600b3c467da428477bc8bf55e0",
        "deepnote_cell_type": "markdown",
        "id": "XXosxKoCxNVG"
      },
      "source": [
        "# MACE in Practice II"
      ]
    },
    {
      "cell_type": "markdown",
      "metadata": {
        "cell_id": "95057ab91ce54145b569a1b35cc81742",
        "deepnote_cell_type": "markdown",
        "id": "XYamp68VxNVI",
        "tags": []
      },
      "source": [
        "In this tutorial, you will learn how to improve MLIP models by using iterative training and active learning. We illustrate these training workflows on MACE, but they are broadly applicable to all MLIPs. We will also showcase the state-of-the-art [foundational models](https://matbench-discovery.materialsproject.org/) - the latest development in the field of MLIPs. These models are trained on massive training sets of [inorganic](https://doi.org/10.48550/arXiv.2401.00096) and [organic](https://doi.org/10.48550/arXiv.2312.15211) databases and show a great deal of `out-of-the-box` MD stability in an extensive variety of [applications](https://doi.org/10.48550/arXiv.2401.00096). We will discuss [fine-tunning](https://doi.org/10.48550/arXiv.2405.20217) which is an actively-researched technique to tweak these foundational models to new systems (out of training) and/or new levels of reference theory.\n",
        "This notebook was made by Ioan Magdău and Ilyes Batatia and Will Baldwin.\n",
        "\n",
        "## Learning Objectives for today:\n",
        "\n",
        "1. **Iterative Training: improving stability and accuracy**\n",
        "2. **Active learning: committee models**\n",
        "3. **Foundational models and fine-tuning**"
      ]
    },
    {
      "cell_type": "code",
      "source": [
        "!git clone https://github.com/imagdau/Tutorials.git\n",
        "!pip install xtb nglview ipywidgets rdkit x3dase\n",
        "!pip install git+https://github.com/imagdau/aseMolec@main\n",
        "!pip install git+https://github.com/acesuit/mace@develop\n",
        "%cd Tutorials"
      ],
      "metadata": {
        "colab": {
          "base_uri": "https://localhost:8080/"
        },
        "id": "G2k2lPB-Eyku",
        "outputId": "2fa94b32-e860-46d6-d0d5-73668bfeeedc"
      },
      "execution_count": null,
      "outputs": [
        {
          "output_type": "stream",
          "name": "stdout",
          "text": [
            "fatal: destination path 'Tutorials' already exists and is not an empty directory.\n",
            "Requirement already satisfied: xtb in /usr/local/lib/python3.10/dist-packages (22.1)\n",
            "Requirement already satisfied: nglview in /usr/local/lib/python3.10/dist-packages (3.1.2)\n",
            "Requirement already satisfied: ipywidgets in /usr/local/lib/python3.10/dist-packages (8.1.5)\n",
            "Requirement already satisfied: rdkit in /usr/local/lib/python3.10/dist-packages (2024.3.5)\n",
            "Requirement already satisfied: x3dase in /usr/local/lib/python3.10/dist-packages (1.1.4)\n",
            "Requirement already satisfied: cffi in /usr/local/lib/python3.10/dist-packages (from xtb) (1.17.0)\n",
            "Requirement already satisfied: numpy in /usr/local/lib/python3.10/dist-packages (from xtb) (1.26.4)\n",
            "Requirement already satisfied: notebook>=7 in /usr/local/lib/python3.10/dist-packages (from nglview) (7.2.2)\n",
            "Requirement already satisfied: jupyterlab-widgets in /usr/local/lib/python3.10/dist-packages (from nglview) (3.0.13)\n",
            "Requirement already satisfied: comm>=0.1.3 in /usr/local/lib/python3.10/dist-packages (from ipywidgets) (0.2.2)\n",
            "Requirement already satisfied: ipython>=6.1.0 in /usr/local/lib/python3.10/dist-packages (from ipywidgets) (7.34.0)\n",
            "Requirement already satisfied: traitlets>=4.3.1 in /usr/local/lib/python3.10/dist-packages (from ipywidgets) (5.7.1)\n",
            "Requirement already satisfied: widgetsnbextension~=4.0.12 in /usr/local/lib/python3.10/dist-packages (from ipywidgets) (4.0.13)\n",
            "Requirement already satisfied: Pillow in /usr/local/lib/python3.10/dist-packages (from rdkit) (9.4.0)\n",
            "Requirement already satisfied: ase in /usr/local/lib/python3.10/dist-packages (from x3dase) (3.23.0)\n",
            "Requirement already satisfied: scipy in /usr/local/lib/python3.10/dist-packages (from x3dase) (1.13.1)\n",
            "Requirement already satisfied: setuptools>=18.5 in /usr/local/lib/python3.10/dist-packages (from ipython>=6.1.0->ipywidgets) (71.0.4)\n",
            "Requirement already satisfied: jedi>=0.16 in /usr/local/lib/python3.10/dist-packages (from ipython>=6.1.0->ipywidgets) (0.19.1)\n",
            "Requirement already satisfied: decorator in /usr/local/lib/python3.10/dist-packages (from ipython>=6.1.0->ipywidgets) (4.4.2)\n",
            "Requirement already satisfied: pickleshare in /usr/local/lib/python3.10/dist-packages (from ipython>=6.1.0->ipywidgets) (0.7.5)\n",
            "Requirement already satisfied: prompt-toolkit!=3.0.0,!=3.0.1,<3.1.0,>=2.0.0 in /usr/local/lib/python3.10/dist-packages (from ipython>=6.1.0->ipywidgets) (3.0.47)\n",
            "Requirement already satisfied: pygments in /usr/local/lib/python3.10/dist-packages (from ipython>=6.1.0->ipywidgets) (2.16.1)\n",
            "Requirement already satisfied: backcall in /usr/local/lib/python3.10/dist-packages (from ipython>=6.1.0->ipywidgets) (0.2.0)\n",
            "Requirement already satisfied: matplotlib-inline in /usr/local/lib/python3.10/dist-packages (from ipython>=6.1.0->ipywidgets) (0.1.7)\n",
            "Requirement already satisfied: pexpect>4.3 in /usr/local/lib/python3.10/dist-packages (from ipython>=6.1.0->ipywidgets) (4.9.0)\n",
            "Requirement already satisfied: jupyter-server<3,>=2.4.0 in /usr/local/lib/python3.10/dist-packages (from notebook>=7->nglview) (2.14.2)\n",
            "Requirement already satisfied: jupyterlab-server<3,>=2.27.1 in /usr/local/lib/python3.10/dist-packages (from notebook>=7->nglview) (2.27.3)\n",
            "Requirement already satisfied: jupyterlab<4.3,>=4.2.0 in /usr/local/lib/python3.10/dist-packages (from notebook>=7->nglview) (4.2.5)\n",
            "Requirement already satisfied: notebook-shim<0.3,>=0.2 in /usr/local/lib/python3.10/dist-packages (from notebook>=7->nglview) (0.2.4)\n",
            "Requirement already satisfied: tornado>=6.2.0 in /usr/local/lib/python3.10/dist-packages (from notebook>=7->nglview) (6.3.3)\n",
            "Requirement already satisfied: matplotlib>=3.3.4 in /usr/local/lib/python3.10/dist-packages (from ase->x3dase) (3.7.1)\n",
            "Requirement already satisfied: pycparser in /usr/local/lib/python3.10/dist-packages (from cffi->xtb) (2.22)\n",
            "Requirement already satisfied: parso<0.9.0,>=0.8.3 in /usr/local/lib/python3.10/dist-packages (from jedi>=0.16->ipython>=6.1.0->ipywidgets) (0.8.4)\n",
            "Requirement already satisfied: anyio>=3.1.0 in /usr/local/lib/python3.10/dist-packages (from jupyter-server<3,>=2.4.0->notebook>=7->nglview) (3.7.1)\n",
            "Requirement already satisfied: argon2-cffi>=21.1 in /usr/local/lib/python3.10/dist-packages (from jupyter-server<3,>=2.4.0->notebook>=7->nglview) (23.1.0)\n",
            "Requirement already satisfied: jinja2>=3.0.3 in /usr/local/lib/python3.10/dist-packages (from jupyter-server<3,>=2.4.0->notebook>=7->nglview) (3.1.4)\n",
            "Requirement already satisfied: jupyter-client>=7.4.4 in /usr/local/lib/python3.10/dist-packages (from jupyter-server<3,>=2.4.0->notebook>=7->nglview) (8.6.2)\n",
            "Requirement already satisfied: jupyter-core!=5.0.*,>=4.12 in /usr/local/lib/python3.10/dist-packages (from jupyter-server<3,>=2.4.0->notebook>=7->nglview) (5.7.2)\n",
            "Requirement already satisfied: jupyter-events>=0.9.0 in /usr/local/lib/python3.10/dist-packages (from jupyter-server<3,>=2.4.0->notebook>=7->nglview) (0.10.0)\n",
            "Requirement already satisfied: jupyter-server-terminals>=0.4.4 in /usr/local/lib/python3.10/dist-packages (from jupyter-server<3,>=2.4.0->notebook>=7->nglview) (0.5.3)\n",
            "Requirement already satisfied: nbconvert>=6.4.4 in /usr/local/lib/python3.10/dist-packages (from jupyter-server<3,>=2.4.0->notebook>=7->nglview) (6.5.4)\n",
            "Requirement already satisfied: nbformat>=5.3.0 in /usr/local/lib/python3.10/dist-packages (from jupyter-server<3,>=2.4.0->notebook>=7->nglview) (5.10.4)\n",
            "Requirement already satisfied: overrides>=5.0 in /usr/local/lib/python3.10/dist-packages (from jupyter-server<3,>=2.4.0->notebook>=7->nglview) (7.7.0)\n",
            "Requirement already satisfied: packaging>=22.0 in /usr/local/lib/python3.10/dist-packages (from jupyter-server<3,>=2.4.0->notebook>=7->nglview) (24.1)\n",
            "Requirement already satisfied: prometheus-client>=0.9 in /usr/local/lib/python3.10/dist-packages (from jupyter-server<3,>=2.4.0->notebook>=7->nglview) (0.20.0)\n",
            "Requirement already satisfied: pyzmq>=24 in /usr/local/lib/python3.10/dist-packages (from jupyter-server<3,>=2.4.0->notebook>=7->nglview) (24.0.1)\n",
            "Requirement already satisfied: send2trash>=1.8.2 in /usr/local/lib/python3.10/dist-packages (from jupyter-server<3,>=2.4.0->notebook>=7->nglview) (1.8.3)\n",
            "Requirement already satisfied: terminado>=0.8.3 in /usr/local/lib/python3.10/dist-packages (from jupyter-server<3,>=2.4.0->notebook>=7->nglview) (0.18.1)\n",
            "Requirement already satisfied: websocket-client>=1.7 in /usr/local/lib/python3.10/dist-packages (from jupyter-server<3,>=2.4.0->notebook>=7->nglview) (1.8.0)\n",
            "Requirement already satisfied: async-lru>=1.0.0 in /usr/local/lib/python3.10/dist-packages (from jupyterlab<4.3,>=4.2.0->notebook>=7->nglview) (2.0.4)\n",
            "Requirement already satisfied: httpx>=0.25.0 in /usr/local/lib/python3.10/dist-packages (from jupyterlab<4.3,>=4.2.0->notebook>=7->nglview) (0.27.2)\n",
            "Requirement already satisfied: ipykernel>=6.5.0 in /usr/local/lib/python3.10/dist-packages (from jupyterlab<4.3,>=4.2.0->notebook>=7->nglview) (6.29.5)\n",
            "Requirement already satisfied: jupyter-lsp>=2.0.0 in /usr/local/lib/python3.10/dist-packages (from jupyterlab<4.3,>=4.2.0->notebook>=7->nglview) (2.2.5)\n",
            "Requirement already satisfied: tomli>=1.2.2 in /usr/local/lib/python3.10/dist-packages (from jupyterlab<4.3,>=4.2.0->notebook>=7->nglview) (2.0.1)\n",
            "Requirement already satisfied: babel>=2.10 in /usr/local/lib/python3.10/dist-packages (from jupyterlab-server<3,>=2.27.1->notebook>=7->nglview) (2.16.0)\n",
            "Requirement already satisfied: json5>=0.9.0 in /usr/local/lib/python3.10/dist-packages (from jupyterlab-server<3,>=2.27.1->notebook>=7->nglview) (0.9.25)\n",
            "Requirement already satisfied: jsonschema>=4.18.0 in /usr/local/lib/python3.10/dist-packages (from jupyterlab-server<3,>=2.27.1->notebook>=7->nglview) (4.23.0)\n",
            "Requirement already satisfied: requests>=2.31 in /usr/local/lib/python3.10/dist-packages (from jupyterlab-server<3,>=2.27.1->notebook>=7->nglview) (2.32.3)\n",
            "Requirement already satisfied: contourpy>=1.0.1 in /usr/local/lib/python3.10/dist-packages (from matplotlib>=3.3.4->ase->x3dase) (1.3.0)\n",
            "Requirement already satisfied: cycler>=0.10 in /usr/local/lib/python3.10/dist-packages (from matplotlib>=3.3.4->ase->x3dase) (0.12.1)\n",
            "Requirement already satisfied: fonttools>=4.22.0 in /usr/local/lib/python3.10/dist-packages (from matplotlib>=3.3.4->ase->x3dase) (4.53.1)\n",
            "Requirement already satisfied: kiwisolver>=1.0.1 in /usr/local/lib/python3.10/dist-packages (from matplotlib>=3.3.4->ase->x3dase) (1.4.5)\n",
            "Requirement already satisfied: pyparsing>=2.3.1 in /usr/local/lib/python3.10/dist-packages (from matplotlib>=3.3.4->ase->x3dase) (3.1.4)\n",
            "Requirement already satisfied: python-dateutil>=2.7 in /usr/local/lib/python3.10/dist-packages (from matplotlib>=3.3.4->ase->x3dase) (2.8.2)\n",
            "Requirement already satisfied: ptyprocess>=0.5 in /usr/local/lib/python3.10/dist-packages (from pexpect>4.3->ipython>=6.1.0->ipywidgets) (0.7.0)\n",
            "Requirement already satisfied: wcwidth in /usr/local/lib/python3.10/dist-packages (from prompt-toolkit!=3.0.0,!=3.0.1,<3.1.0,>=2.0.0->ipython>=6.1.0->ipywidgets) (0.2.13)\n",
            "Requirement already satisfied: idna>=2.8 in /usr/local/lib/python3.10/dist-packages (from anyio>=3.1.0->jupyter-server<3,>=2.4.0->notebook>=7->nglview) (3.8)\n",
            "Requirement already satisfied: sniffio>=1.1 in /usr/local/lib/python3.10/dist-packages (from anyio>=3.1.0->jupyter-server<3,>=2.4.0->notebook>=7->nglview) (1.3.1)\n",
            "Requirement already satisfied: exceptiongroup in /usr/local/lib/python3.10/dist-packages (from anyio>=3.1.0->jupyter-server<3,>=2.4.0->notebook>=7->nglview) (1.2.2)\n",
            "Requirement already satisfied: argon2-cffi-bindings in /usr/local/lib/python3.10/dist-packages (from argon2-cffi>=21.1->jupyter-server<3,>=2.4.0->notebook>=7->nglview) (21.2.0)\n",
            "Requirement already satisfied: typing-extensions>=4.0.0 in /usr/local/lib/python3.10/dist-packages (from async-lru>=1.0.0->jupyterlab<4.3,>=4.2.0->notebook>=7->nglview) (4.12.2)\n",
            "Requirement already satisfied: certifi in /usr/local/lib/python3.10/dist-packages (from httpx>=0.25.0->jupyterlab<4.3,>=4.2.0->notebook>=7->nglview) (2024.8.30)\n",
            "Requirement already satisfied: httpcore==1.* in /usr/local/lib/python3.10/dist-packages (from httpx>=0.25.0->jupyterlab<4.3,>=4.2.0->notebook>=7->nglview) (1.0.5)\n",
            "Requirement already satisfied: h11<0.15,>=0.13 in /usr/local/lib/python3.10/dist-packages (from httpcore==1.*->httpx>=0.25.0->jupyterlab<4.3,>=4.2.0->notebook>=7->nglview) (0.14.0)\n",
            "Requirement already satisfied: debugpy>=1.6.5 in /usr/local/lib/python3.10/dist-packages (from ipykernel>=6.5.0->jupyterlab<4.3,>=4.2.0->notebook>=7->nglview) (1.6.6)\n",
            "Requirement already satisfied: nest-asyncio in /usr/local/lib/python3.10/dist-packages (from ipykernel>=6.5.0->jupyterlab<4.3,>=4.2.0->notebook>=7->nglview) (1.6.0)\n",
            "Requirement already satisfied: psutil in /usr/local/lib/python3.10/dist-packages (from ipykernel>=6.5.0->jupyterlab<4.3,>=4.2.0->notebook>=7->nglview) (5.9.5)\n",
            "Requirement already satisfied: MarkupSafe>=2.0 in /usr/local/lib/python3.10/dist-packages (from jinja2>=3.0.3->jupyter-server<3,>=2.4.0->notebook>=7->nglview) (2.1.5)\n",
            "Requirement already satisfied: attrs>=22.2.0 in /usr/local/lib/python3.10/dist-packages (from jsonschema>=4.18.0->jupyterlab-server<3,>=2.27.1->notebook>=7->nglview) (24.2.0)\n",
            "Requirement already satisfied: jsonschema-specifications>=2023.03.6 in /usr/local/lib/python3.10/dist-packages (from jsonschema>=4.18.0->jupyterlab-server<3,>=2.27.1->notebook>=7->nglview) (2023.12.1)\n",
            "Requirement already satisfied: referencing>=0.28.4 in /usr/local/lib/python3.10/dist-packages (from jsonschema>=4.18.0->jupyterlab-server<3,>=2.27.1->notebook>=7->nglview) (0.35.1)\n",
            "Requirement already satisfied: rpds-py>=0.7.1 in /usr/local/lib/python3.10/dist-packages (from jsonschema>=4.18.0->jupyterlab-server<3,>=2.27.1->notebook>=7->nglview) (0.20.0)\n",
            "Requirement already satisfied: platformdirs>=2.5 in /usr/local/lib/python3.10/dist-packages (from jupyter-core!=5.0.*,>=4.12->jupyter-server<3,>=2.4.0->notebook>=7->nglview) (4.2.2)\n",
            "Requirement already satisfied: python-json-logger>=2.0.4 in /usr/local/lib/python3.10/dist-packages (from jupyter-events>=0.9.0->jupyter-server<3,>=2.4.0->notebook>=7->nglview) (2.0.7)\n",
            "Requirement already satisfied: pyyaml>=5.3 in /usr/local/lib/python3.10/dist-packages (from jupyter-events>=0.9.0->jupyter-server<3,>=2.4.0->notebook>=7->nglview) (6.0.2)\n",
            "Requirement already satisfied: rfc3339-validator in /usr/local/lib/python3.10/dist-packages (from jupyter-events>=0.9.0->jupyter-server<3,>=2.4.0->notebook>=7->nglview) (0.1.4)\n",
            "Requirement already satisfied: rfc3986-validator>=0.1.1 in /usr/local/lib/python3.10/dist-packages (from jupyter-events>=0.9.0->jupyter-server<3,>=2.4.0->notebook>=7->nglview) (0.1.1)\n",
            "Requirement already satisfied: lxml in /usr/local/lib/python3.10/dist-packages (from nbconvert>=6.4.4->jupyter-server<3,>=2.4.0->notebook>=7->nglview) (4.9.4)\n",
            "Requirement already satisfied: beautifulsoup4 in /usr/local/lib/python3.10/dist-packages (from nbconvert>=6.4.4->jupyter-server<3,>=2.4.0->notebook>=7->nglview) (4.12.3)\n",
            "Requirement already satisfied: bleach in /usr/local/lib/python3.10/dist-packages (from nbconvert>=6.4.4->jupyter-server<3,>=2.4.0->notebook>=7->nglview) (6.1.0)\n",
            "Requirement already satisfied: defusedxml in /usr/local/lib/python3.10/dist-packages (from nbconvert>=6.4.4->jupyter-server<3,>=2.4.0->notebook>=7->nglview) (0.7.1)\n",
            "Requirement already satisfied: entrypoints>=0.2.2 in /usr/local/lib/python3.10/dist-packages (from nbconvert>=6.4.4->jupyter-server<3,>=2.4.0->notebook>=7->nglview) (0.4)\n",
            "Requirement already satisfied: jupyterlab-pygments in /usr/local/lib/python3.10/dist-packages (from nbconvert>=6.4.4->jupyter-server<3,>=2.4.0->notebook>=7->nglview) (0.3.0)\n",
            "Requirement already satisfied: mistune<2,>=0.8.1 in /usr/local/lib/python3.10/dist-packages (from nbconvert>=6.4.4->jupyter-server<3,>=2.4.0->notebook>=7->nglview) (0.8.4)\n",
            "Requirement already satisfied: nbclient>=0.5.0 in /usr/local/lib/python3.10/dist-packages (from nbconvert>=6.4.4->jupyter-server<3,>=2.4.0->notebook>=7->nglview) (0.10.0)\n",
            "Requirement already satisfied: pandocfilters>=1.4.1 in /usr/local/lib/python3.10/dist-packages (from nbconvert>=6.4.4->jupyter-server<3,>=2.4.0->notebook>=7->nglview) (1.5.1)\n",
            "Requirement already satisfied: tinycss2 in /usr/local/lib/python3.10/dist-packages (from nbconvert>=6.4.4->jupyter-server<3,>=2.4.0->notebook>=7->nglview) (1.3.0)\n",
            "Requirement already satisfied: fastjsonschema>=2.15 in /usr/local/lib/python3.10/dist-packages (from nbformat>=5.3.0->jupyter-server<3,>=2.4.0->notebook>=7->nglview) (2.20.0)\n",
            "Requirement already satisfied: six>=1.5 in /usr/local/lib/python3.10/dist-packages (from python-dateutil>=2.7->matplotlib>=3.3.4->ase->x3dase) (1.16.0)\n",
            "Requirement already satisfied: charset-normalizer<4,>=2 in /usr/local/lib/python3.10/dist-packages (from requests>=2.31->jupyterlab-server<3,>=2.27.1->notebook>=7->nglview) (3.3.2)\n",
            "Requirement already satisfied: urllib3<3,>=1.21.1 in /usr/local/lib/python3.10/dist-packages (from requests>=2.31->jupyterlab-server<3,>=2.27.1->notebook>=7->nglview) (2.0.7)\n",
            "Requirement already satisfied: fqdn in /usr/local/lib/python3.10/dist-packages (from jsonschema[format-nongpl]>=4.18.0->jupyter-events>=0.9.0->jupyter-server<3,>=2.4.0->notebook>=7->nglview) (1.5.1)\n",
            "Requirement already satisfied: isoduration in /usr/local/lib/python3.10/dist-packages (from jsonschema[format-nongpl]>=4.18.0->jupyter-events>=0.9.0->jupyter-server<3,>=2.4.0->notebook>=7->nglview) (20.11.0)\n",
            "Requirement already satisfied: jsonpointer>1.13 in /usr/local/lib/python3.10/dist-packages (from jsonschema[format-nongpl]>=4.18.0->jupyter-events>=0.9.0->jupyter-server<3,>=2.4.0->notebook>=7->nglview) (3.0.0)\n",
            "Requirement already satisfied: uri-template in /usr/local/lib/python3.10/dist-packages (from jsonschema[format-nongpl]>=4.18.0->jupyter-events>=0.9.0->jupyter-server<3,>=2.4.0->notebook>=7->nglview) (1.3.0)\n",
            "Requirement already satisfied: webcolors>=24.6.0 in /usr/local/lib/python3.10/dist-packages (from jsonschema[format-nongpl]>=4.18.0->jupyter-events>=0.9.0->jupyter-server<3,>=2.4.0->notebook>=7->nglview) (24.8.0)\n",
            "Requirement already satisfied: soupsieve>1.2 in /usr/local/lib/python3.10/dist-packages (from beautifulsoup4->nbconvert>=6.4.4->jupyter-server<3,>=2.4.0->notebook>=7->nglview) (2.6)\n",
            "Requirement already satisfied: webencodings in /usr/local/lib/python3.10/dist-packages (from bleach->nbconvert>=6.4.4->jupyter-server<3,>=2.4.0->notebook>=7->nglview) (0.5.1)\n",
            "Requirement already satisfied: arrow>=0.15.0 in /usr/local/lib/python3.10/dist-packages (from isoduration->jsonschema[format-nongpl]>=4.18.0->jupyter-events>=0.9.0->jupyter-server<3,>=2.4.0->notebook>=7->nglview) (1.3.0)\n",
            "Requirement already satisfied: types-python-dateutil>=2.8.10 in /usr/local/lib/python3.10/dist-packages (from arrow>=0.15.0->isoduration->jsonschema[format-nongpl]>=4.18.0->jupyter-events>=0.9.0->jupyter-server<3,>=2.4.0->notebook>=7->nglview) (2.9.0.20240821)\n",
            "Collecting git+https://github.com/imagdau/aseMolec@main\n",
            "  Cloning https://github.com/imagdau/aseMolec (to revision main) to /tmp/pip-req-build-fw2lu4fn\n",
            "  Running command git clone --filter=blob:none --quiet https://github.com/imagdau/aseMolec /tmp/pip-req-build-fw2lu4fn\n",
            "  Resolved https://github.com/imagdau/aseMolec to commit 2633a672eb235c49a5c7d7161f76f52f4e218e99\n",
            "  Preparing metadata (setup.py) ... \u001b[?25l\u001b[?25hdone\n",
            "Collecting git+https://github.com/acesuit/mace@develop\n",
            "  Cloning https://github.com/acesuit/mace (to revision develop) to /tmp/pip-req-build-4e4ay6qn\n",
            "  Running command git clone --filter=blob:none --quiet https://github.com/acesuit/mace /tmp/pip-req-build-4e4ay6qn\n",
            "  Running command git checkout -b develop --track origin/develop\n",
            "  Switched to a new branch 'develop'\n",
            "  Branch 'develop' set up to track remote branch 'develop' from 'origin'.\n",
            "  Resolved https://github.com/acesuit/mace to commit 6d768c2703dc6c033eccab460ae5ddc04f13bdf9\n",
            "  Installing build dependencies ... \u001b[?25l\u001b[?25hdone\n",
            "  Getting requirements to build wheel ... \u001b[?25l\u001b[?25hdone\n",
            "  Preparing metadata (pyproject.toml) ... \u001b[?25l\u001b[?25hdone\n",
            "Requirement already satisfied: torch>=1.12 in /usr/local/lib/python3.10/dist-packages (from mace-torch==0.3.7) (2.4.0+cu121)\n",
            "Requirement already satisfied: e3nn==0.4.4 in /usr/local/lib/python3.10/dist-packages (from mace-torch==0.3.7) (0.4.4)\n",
            "Requirement already satisfied: numpy<2.0 in /usr/local/lib/python3.10/dist-packages (from mace-torch==0.3.7) (1.26.4)\n",
            "Requirement already satisfied: opt-einsum in /usr/local/lib/python3.10/dist-packages (from mace-torch==0.3.7) (3.3.0)\n",
            "Requirement already satisfied: ase in /usr/local/lib/python3.10/dist-packages (from mace-torch==0.3.7) (3.23.0)\n",
            "Requirement already satisfied: torch-ema in /usr/local/lib/python3.10/dist-packages (from mace-torch==0.3.7) (0.3)\n",
            "Requirement already satisfied: prettytable in /usr/local/lib/python3.10/dist-packages (from mace-torch==0.3.7) (3.11.0)\n",
            "Requirement already satisfied: matscipy in /usr/local/lib/python3.10/dist-packages (from mace-torch==0.3.7) (1.1.0)\n",
            "Requirement already satisfied: h5py in /usr/local/lib/python3.10/dist-packages (from mace-torch==0.3.7) (3.11.0)\n",
            "Requirement already satisfied: torchmetrics in /usr/local/lib/python3.10/dist-packages (from mace-torch==0.3.7) (1.4.1)\n",
            "Requirement already satisfied: python-hostlist in /usr/local/lib/python3.10/dist-packages (from mace-torch==0.3.7) (1.23.0)\n",
            "Requirement already satisfied: configargparse in /usr/local/lib/python3.10/dist-packages (from mace-torch==0.3.7) (1.7)\n",
            "Requirement already satisfied: GitPython in /usr/local/lib/python3.10/dist-packages (from mace-torch==0.3.7) (3.1.43)\n",
            "Requirement already satisfied: pyYAML in /usr/local/lib/python3.10/dist-packages (from mace-torch==0.3.7) (6.0.2)\n",
            "Requirement already satisfied: tqdm in /usr/local/lib/python3.10/dist-packages (from mace-torch==0.3.7) (4.66.5)\n",
            "Requirement already satisfied: matplotlib in /usr/local/lib/python3.10/dist-packages (from mace-torch==0.3.7) (3.7.1)\n",
            "Requirement already satisfied: pandas in /usr/local/lib/python3.10/dist-packages (from mace-torch==0.3.7) (2.1.4)\n",
            "Requirement already satisfied: sympy in /usr/local/lib/python3.10/dist-packages (from e3nn==0.4.4->mace-torch==0.3.7) (1.13.2)\n",
            "Requirement already satisfied: scipy in /usr/local/lib/python3.10/dist-packages (from e3nn==0.4.4->mace-torch==0.3.7) (1.13.1)\n",
            "Requirement already satisfied: opt-einsum-fx>=0.1.4 in /usr/local/lib/python3.10/dist-packages (from e3nn==0.4.4->mace-torch==0.3.7) (0.1.4)\n",
            "Requirement already satisfied: filelock in /usr/local/lib/python3.10/dist-packages (from torch>=1.12->mace-torch==0.3.7) (3.15.4)\n",
            "Requirement already satisfied: typing-extensions>=4.8.0 in /usr/local/lib/python3.10/dist-packages (from torch>=1.12->mace-torch==0.3.7) (4.12.2)\n",
            "Requirement already satisfied: networkx in /usr/local/lib/python3.10/dist-packages (from torch>=1.12->mace-torch==0.3.7) (3.3)\n",
            "Requirement already satisfied: jinja2 in /usr/local/lib/python3.10/dist-packages (from torch>=1.12->mace-torch==0.3.7) (3.1.4)\n",
            "Requirement already satisfied: fsspec in /usr/local/lib/python3.10/dist-packages (from torch>=1.12->mace-torch==0.3.7) (2024.6.1)\n",
            "Requirement already satisfied: contourpy>=1.0.1 in /usr/local/lib/python3.10/dist-packages (from matplotlib->mace-torch==0.3.7) (1.3.0)\n",
            "Requirement already satisfied: cycler>=0.10 in /usr/local/lib/python3.10/dist-packages (from matplotlib->mace-torch==0.3.7) (0.12.1)\n",
            "Requirement already satisfied: fonttools>=4.22.0 in /usr/local/lib/python3.10/dist-packages (from matplotlib->mace-torch==0.3.7) (4.53.1)\n",
            "Requirement already satisfied: kiwisolver>=1.0.1 in /usr/local/lib/python3.10/dist-packages (from matplotlib->mace-torch==0.3.7) (1.4.5)\n",
            "Requirement already satisfied: packaging>=20.0 in /usr/local/lib/python3.10/dist-packages (from matplotlib->mace-torch==0.3.7) (24.1)\n",
            "Requirement already satisfied: pillow>=6.2.0 in /usr/local/lib/python3.10/dist-packages (from matplotlib->mace-torch==0.3.7) (9.4.0)\n",
            "Requirement already satisfied: pyparsing>=2.3.1 in /usr/local/lib/python3.10/dist-packages (from matplotlib->mace-torch==0.3.7) (3.1.4)\n",
            "Requirement already satisfied: python-dateutil>=2.7 in /usr/local/lib/python3.10/dist-packages (from matplotlib->mace-torch==0.3.7) (2.8.2)\n",
            "Requirement already satisfied: gitdb<5,>=4.0.1 in /usr/local/lib/python3.10/dist-packages (from GitPython->mace-torch==0.3.7) (4.0.11)\n",
            "Requirement already satisfied: pytz>=2020.1 in /usr/local/lib/python3.10/dist-packages (from pandas->mace-torch==0.3.7) (2024.1)\n",
            "Requirement already satisfied: tzdata>=2022.1 in /usr/local/lib/python3.10/dist-packages (from pandas->mace-torch==0.3.7) (2024.1)\n",
            "Requirement already satisfied: wcwidth in /usr/local/lib/python3.10/dist-packages (from prettytable->mace-torch==0.3.7) (0.2.13)\n",
            "Requirement already satisfied: lightning-utilities>=0.8.0 in /usr/local/lib/python3.10/dist-packages (from torchmetrics->mace-torch==0.3.7) (0.11.7)\n",
            "Requirement already satisfied: smmap<6,>=3.0.1 in /usr/local/lib/python3.10/dist-packages (from gitdb<5,>=4.0.1->GitPython->mace-torch==0.3.7) (5.0.1)\n",
            "Requirement already satisfied: setuptools in /usr/local/lib/python3.10/dist-packages (from lightning-utilities>=0.8.0->torchmetrics->mace-torch==0.3.7) (71.0.4)\n",
            "Requirement already satisfied: six>=1.5 in /usr/local/lib/python3.10/dist-packages (from python-dateutil>=2.7->matplotlib->mace-torch==0.3.7) (1.16.0)\n",
            "Requirement already satisfied: MarkupSafe>=2.0 in /usr/local/lib/python3.10/dist-packages (from jinja2->torch>=1.12->mace-torch==0.3.7) (2.1.5)\n",
            "Requirement already satisfied: mpmath<1.4,>=1.1.0 in /usr/local/lib/python3.10/dist-packages (from sympy->e3nn==0.4.4->mace-torch==0.3.7) (1.3.0)\n",
            "/content/Tutorials\n"
          ]
        }
      ]
    },
    {
      "cell_type": "markdown",
      "metadata": {
        "cell_id": "6334ee06bcc24a8db4c5a87dfc2d7985",
        "deepnote_cell_type": "markdown",
        "id": "KSAoZccQxNVJ"
      },
      "source": [
        "## 1. Iterative Training"
      ]
    },
    {
      "cell_type": "markdown",
      "metadata": {
        "id": "8ieIGRPOxNVK"
      },
      "source": [
        "### 1.1 MD with a smaller MACE model"
      ]
    },
    {
      "cell_type": "markdown",
      "metadata": {
        "cell_id": "bfa824eb023047b0ab1ce1d1754e1430",
        "deepnote_cell_type": "markdown",
        "id": "UTK__Hd8xNVK"
      },
      "source": [
        "The model we trained in our previous tutorial was already stable in MD and quite accurate with little training. This is both because MACE models are smooth and very accurate but also because the task of simulating a single molecule for a few picoseconds is not all that difficult. In general, in real research applications, achieving MD stability and accuracy is not always straightforward from the get-go. Models can be improved through iterative training and active learning which expands the training data to fix errors on the model's potential energy surface.\n",
        "\n",
        "**To illustrate these concepts in practice, let's first train a less accurate MACE by reducing a lot the model size and amount of training data: we will make a model with just 20 training configurations. Note that a larger model would probably work out of the box for this example.**"
      ]
    },
    {
      "cell_type": "code",
      "execution_count": null,
      "metadata": {
        "id": "9FRg6XJ0D2yG"
      },
      "outputs": [],
      "source": [
        "from ase.io import read, write\n",
        "db = read('data/solvent_xtb.xyz', ':')\n",
        "write('data/solvent_xtb_train_50.xyz', db[:53]) #first 50 configs plus the 3 E0s, we'll use only 20 of them for training!"
      ]
    },
    {
      "cell_type": "markdown",
      "metadata": {
        "id": "VleNMLWZD2yH"
      },
      "source": [
        "Let's make an input config."
      ]
    },
    {
      "cell_type": "code",
      "execution_count": null,
      "metadata": {
        "colab": {
          "base_uri": "https://localhost:8080/"
        },
        "id": "Ek3iJ6rFD2yH",
        "outputId": "8d424b7f-5f0c-400d-82f9-6375f99ea28f"
      },
      "outputs": [
        {
          "output_type": "stream",
          "name": "stdout",
          "text": [
            "Overwriting config/config-03.yml\n"
          ]
        }
      ],
      "source": [
        "%%writefile config/config-03.yml\n",
        "\n",
        "model: \"MACE\"\n",
        "num_channels: 32\n",
        "max_L: 0\n",
        "r_max: 4.0\n",
        "name: \"mace02_com1\"\n",
        "model_dir: \"MACE_models\"\n",
        "log_dir: \"MACE_models\"\n",
        "checkpoints_dir: \"MACE_models\"\n",
        "results_dir: \"MACE_models\"\n",
        "train_file: \"data/solvent_xtb_train_20.xyz\"\n",
        "valid_file: \"data/solvent_xtb_train_50.xyz\"\n",
        "test_file: \"data/solvent_xtb_test.xyz\"\n",
        "energy_key: \"energy_xtb\"\n",
        "forces_key: \"forces_xtb\"\n",
        "device: cuda\n",
        "batch_size: 5\n",
        "max_num_epochs: 300\n",
        "swa: True\n",
        "seed: 123\n"
      ]
    },
    {
      "cell_type": "code",
      "execution_count": null,
      "metadata": {
        "id": "QiAR1bg1D2yH"
      },
      "outputs": [],
      "source": [
        "import warnings\n",
        "warnings.filterwarnings(\"ignore\")\n",
        "from mace.cli.run_train import main as mace_run_train_main\n",
        "import sys\n",
        "import logging\n",
        "\n",
        "def train_mace(config_file_path):\n",
        "    logging.getLogger().handlers.clear()\n",
        "    sys.argv = [\"program\", \"--config\", config_file_path]\n",
        "    mace_run_train_main()"
      ]
    },
    {
      "cell_type": "code",
      "execution_count": null,
      "metadata": {
        "colab": {
          "base_uri": "https://localhost:8080/"
        },
        "id": "Cl9JEPvuD2yI",
        "outputId": "f17140c5-93e6-4b3d-9614-7155db762064"
      },
      "outputs": [
        {
          "output_type": "stream",
          "name": "stdout",
          "text": [
            "2024-09-05 16:59:03.007 INFO: ===========VERIFYING SETTINGS===========\n",
            "2024-09-05 16:59:03.008 INFO: MACE version: 0.3.7\n",
            "2024-09-05 16:59:03.066 INFO: CUDA version: 12.1, CUDA device: 0\n",
            "2024-09-05 16:59:03.115 INFO: ===========LOADING INPUT DATA===========\n",
            "2024-09-05 16:59:03.116 INFO: Using heads: ['default']\n",
            "2024-09-05 16:59:03.117 INFO: =============    Processing head default     ===========\n",
            "2024-09-05 16:59:03.153 INFO: Using isolated atom energies from training file\n",
            "2024-09-05 16:59:03.156 INFO: Training set [18 configs, 18 energy, 1539 forces] loaded from 'data/solvent_xtb_train_20.xyz'\n",
            "2024-09-05 16:59:03.202 INFO: Validation set [53 configs, 53 energy, 4437 forces] loaded from 'data/solvent_xtb_train_50.xyz'\n",
            "2024-09-05 16:59:03.601 INFO: Test set (1000 configs) loaded from 'data/solvent_xtb_test.xyz':\n",
            "2024-09-05 16:59:03.603 INFO: Default_Default: 1000 configs, 1000 energy, 90228 forces\n",
            "2024-09-05 16:59:03.604 INFO: Total number of configurations: train=18, valid=53, tests=[Default_Default: 1000],\n",
            "2024-09-05 16:59:03.605 INFO: Atomic Numbers used: [1, 6, 8]\n",
            "2024-09-05 16:59:03.606 INFO: Atomic Energies used (z: eV) for head default: {1: -10.707211383396714, 6: -48.847445262804705, 8: -102.57117256025786}\n",
            "2024-09-05 16:59:03.671 INFO: Computing average number of neighbors\n",
            "2024-09-05 16:59:03.802 INFO: Average number of neighbors: 9.923809523809524\n",
            "2024-09-05 16:59:03.804 INFO: During training the following quantities will be reported: energy, forces\n",
            "2024-09-05 16:59:03.805 INFO: ===========MODEL DETAILS===========\n",
            "2024-09-05 16:59:03.820 INFO: Building model\n",
            "2024-09-05 16:59:03.821 INFO: Message passing with 32 channels and max_L=0 (32x0e)\n",
            "2024-09-05 16:59:03.822 INFO: 2 layers, each with correlation order: 3 (body order: 4) and spherical harmonics up to: l=3\n",
            "2024-09-05 16:59:03.823 INFO: 8 radial and 5 basis functions\n",
            "2024-09-05 16:59:03.824 INFO: Radial cutoff: 4.0 A (total receptive field for each atom: 8.0 A)\n",
            "2024-09-05 16:59:03.825 INFO: Distance transform for radial basis functions: None\n",
            "2024-09-05 16:59:03.826 INFO: Hidden irreps: 32x0e\n",
            "2024-09-05 16:59:05.421 INFO: Total number of parameters: 67472\n",
            "2024-09-05 16:59:05.422 INFO: \n",
            "2024-09-05 16:59:05.423 INFO: ===========OPTIMIZER INFORMATION===========\n",
            "2024-09-05 16:59:05.424 INFO: Using ADAM as parameter optimizer\n",
            "2024-09-05 16:59:05.425 INFO: Batch size: 5\n",
            "2024-09-05 16:59:05.427 INFO: Number of gradient updates: 1080\n",
            "2024-09-05 16:59:05.429 INFO: Learning rate: 0.01, weight decay: 5e-07\n",
            "2024-09-05 16:59:05.430 INFO: WeightedEnergyForcesLoss(energy_weight=1.000, forces_weight=100.000)\n",
            "2024-09-05 16:59:05.432 INFO: Stage Two (after 225 epochs) with loss function: WeightedEnergyForcesLoss(energy_weight=1000.000, forces_weight=100.000), with energy weight : 1000.0, forces weight : 100.0 and learning rate : 0.001\n",
            "2024-09-05 16:59:05.536 INFO: Using gradient clipping with tolerance=10.000\n",
            "2024-09-05 16:59:05.537 INFO: \n",
            "2024-09-05 16:59:05.538 INFO: ===========TRAINING===========\n",
            "2024-09-05 16:59:05.540 INFO: Started training, reporting errors on validation set\n",
            "2024-09-05 16:59:05.540 INFO: Loss metrics on validation set\n",
            "2024-09-05 16:59:12.796 INFO: Initial: head: default, loss= 37.4061, RMSE_E_per_atom=  6051.9 meV, RMSE_F=  1775.0 meV / A\n",
            "2024-09-05 16:59:17.712 INFO: Epoch 0: head: default, loss= 32.5349, RMSE_E_per_atom=  5977.3 meV, RMSE_F=  1646.4 meV / A\n",
            "2024-09-05 16:59:22.706 INFO: Epoch 1: head: default, loss= 25.0441, RMSE_E_per_atom=  5765.4 meV, RMSE_F=  1424.1 meV / A\n",
            "2024-09-05 16:59:23.094 INFO: Epoch 2: head: default, loss= 24.4361, RMSE_E_per_atom=  5342.5 meV, RMSE_F=  1398.3 meV / A\n",
            "2024-09-05 16:59:23.486 INFO: Epoch 3: head: default, loss= 26.5409, RMSE_E_per_atom=  5126.1 meV, RMSE_F=  1459.3 meV / A\n",
            "2024-09-05 16:59:23.860 INFO: Epoch 4: head: default, loss= 19.9622, RMSE_E_per_atom=  5205.5 meV, RMSE_F=  1238.6 meV / A\n",
            "2024-09-05 16:59:24.258 INFO: Epoch 5: head: default, loss= 17.0512, RMSE_E_per_atom=  5294.8 meV, RMSE_F=  1122.2 meV / A\n",
            "2024-09-05 16:59:24.662 INFO: Epoch 6: head: default, loss= 16.0190, RMSE_E_per_atom=  5228.4 meV, RMSE_F=  1071.3 meV / A\n",
            "2024-09-05 16:59:25.065 INFO: Epoch 7: head: default, loss= 13.3976, RMSE_E_per_atom=  5180.2 meV, RMSE_F=   957.1 meV / A\n",
            "2024-09-05 16:59:25.468 INFO: Epoch 8: head: default, loss= 11.0361, RMSE_E_per_atom=  5063.5 meV, RMSE_F=   848.8 meV / A\n",
            "2024-09-05 16:59:25.864 INFO: Epoch 9: head: default, loss= 11.0478, RMSE_E_per_atom=  4975.7 meV, RMSE_F=   849.3 meV / A\n",
            "2024-09-05 16:59:26.241 INFO: Epoch 10: head: default, loss=  9.3299, RMSE_E_per_atom=  4837.7 meV, RMSE_F=   771.5 meV / A\n",
            "2024-09-05 16:59:26.633 INFO: Epoch 11: head: default, loss=  9.6225, RMSE_E_per_atom=  4845.6 meV, RMSE_F=   788.8 meV / A\n",
            "2024-09-05 16:59:27.010 INFO: Epoch 12: head: default, loss=  8.4427, RMSE_E_per_atom=  4734.4 meV, RMSE_F=   719.4 meV / A\n",
            "2024-09-05 16:59:27.406 INFO: Epoch 13: head: default, loss=  7.0475, RMSE_E_per_atom=  4745.0 meV, RMSE_F=   627.0 meV / A\n",
            "2024-09-05 16:59:27.809 INFO: Epoch 14: head: default, loss=  6.7492, RMSE_E_per_atom=  4733.5 meV, RMSE_F=   609.0 meV / A\n",
            "2024-09-05 16:59:28.208 INFO: Epoch 15: head: default, loss=  7.4374, RMSE_E_per_atom=  4711.5 meV, RMSE_F=   658.6 meV / A\n",
            "2024-09-05 16:59:28.595 INFO: Epoch 16: head: default, loss=  6.3770, RMSE_E_per_atom=  4684.5 meV, RMSE_F=   583.7 meV / A\n",
            "2024-09-05 16:59:28.998 INFO: Epoch 17: head: default, loss=  5.8731, RMSE_E_per_atom=  4710.6 meV, RMSE_F=   544.1 meV / A\n",
            "2024-09-05 16:59:29.397 INFO: Epoch 18: head: default, loss=  5.4394, RMSE_E_per_atom=  4676.4 meV, RMSE_F=   509.3 meV / A\n",
            "2024-09-05 16:59:29.801 INFO: Epoch 19: head: default, loss=  4.9197, RMSE_E_per_atom=  4613.3 meV, RMSE_F=   469.8 meV / A\n",
            "2024-09-05 16:59:30.200 INFO: Epoch 20: head: default, loss=  4.9908, RMSE_E_per_atom=  4547.1 meV, RMSE_F=   479.7 meV / A\n",
            "2024-09-05 16:59:30.583 INFO: Epoch 21: head: default, loss=  4.9340, RMSE_E_per_atom=  4486.2 meV, RMSE_F=   484.6 meV / A\n",
            "2024-09-05 16:59:30.959 INFO: Epoch 22: head: default, loss=  4.9915, RMSE_E_per_atom=  4448.5 meV, RMSE_F=   489.7 meV / A\n",
            "2024-09-05 16:59:31.333 INFO: Epoch 23: head: default, loss=  5.1738, RMSE_E_per_atom=  4337.1 meV, RMSE_F=   520.4 meV / A\n",
            "2024-09-05 16:59:31.708 INFO: Epoch 24: head: default, loss=  4.7509, RMSE_E_per_atom=  4355.9 meV, RMSE_F=   476.7 meV / A\n",
            "2024-09-05 16:59:32.107 INFO: Epoch 25: head: default, loss=  4.4550, RMSE_E_per_atom=  4263.4 meV, RMSE_F=   458.5 meV / A\n",
            "2024-09-05 16:59:32.504 INFO: Epoch 26: head: default, loss=  4.1567, RMSE_E_per_atom=  4166.0 meV, RMSE_F=   439.0 meV / A\n",
            "2024-09-05 16:59:32.900 INFO: Epoch 27: head: default, loss=  3.9203, RMSE_E_per_atom=  4130.5 meV, RMSE_F=   414.0 meV / A\n",
            "2024-09-05 16:59:33.298 INFO: Epoch 28: head: default, loss=  3.8943, RMSE_E_per_atom=  4112.4 meV, RMSE_F=   412.2 meV / A\n",
            "2024-09-05 16:59:33.695 INFO: Epoch 29: head: default, loss=  3.6402, RMSE_E_per_atom=  3957.6 meV, RMSE_F=   400.6 meV / A\n",
            "2024-09-05 16:59:34.092 INFO: Epoch 30: head: default, loss=  3.6530, RMSE_E_per_atom=  3895.6 meV, RMSE_F=   407.4 meV / A\n",
            "2024-09-05 16:59:34.502 INFO: Epoch 31: head: default, loss=  3.7914, RMSE_E_per_atom=  3860.7 meV, RMSE_F=   428.1 meV / A\n",
            "2024-09-05 16:59:34.901 INFO: Epoch 32: head: default, loss=  3.8093, RMSE_E_per_atom=  3692.2 meV, RMSE_F=   441.5 meV / A\n",
            "2024-09-05 16:59:35.296 INFO: Epoch 33: head: default, loss=  3.5186, RMSE_E_per_atom=  3669.6 meV, RMSE_F=   414.4 meV / A\n",
            "2024-09-05 16:59:35.736 INFO: Epoch 34: head: default, loss=  3.1293, RMSE_E_per_atom=  3528.3 meV, RMSE_F=   382.7 meV / A\n",
            "2024-09-05 16:59:36.148 INFO: Epoch 35: head: default, loss=  3.5488, RMSE_E_per_atom=  3420.1 meV, RMSE_F=   441.2 meV / A\n",
            "2024-09-05 16:59:36.550 INFO: Epoch 36: head: default, loss=  3.2095, RMSE_E_per_atom=  3199.0 meV, RMSE_F=   420.3 meV / A\n",
            "2024-09-05 16:59:36.943 INFO: Epoch 37: head: default, loss=  3.0723, RMSE_E_per_atom=  3134.6 meV, RMSE_F=   411.4 meV / A\n",
            "2024-09-05 16:59:37.358 INFO: Epoch 38: head: default, loss=  2.9160, RMSE_E_per_atom=  3065.1 meV, RMSE_F=   396.5 meV / A\n",
            "2024-09-05 16:59:37.768 INFO: Epoch 39: head: default, loss=  2.9521, RMSE_E_per_atom=  2934.0 meV, RMSE_F=   411.0 meV / A\n",
            "2024-09-05 16:59:38.147 INFO: Epoch 40: head: default, loss=  2.3532, RMSE_E_per_atom=  2827.7 meV, RMSE_F=   351.0 meV / A\n",
            "2024-09-05 16:59:38.550 INFO: Epoch 41: head: default, loss=  2.3529, RMSE_E_per_atom=  2728.8 meV, RMSE_F=   361.2 meV / A\n",
            "2024-09-05 16:59:38.958 INFO: Epoch 42: head: default, loss=  2.3210, RMSE_E_per_atom=  2720.5 meV, RMSE_F=   355.7 meV / A\n",
            "2024-09-05 16:59:39.356 INFO: Epoch 43: head: default, loss=  2.5407, RMSE_E_per_atom=  2655.6 meV, RMSE_F=   386.2 meV / A\n",
            "2024-09-05 16:59:39.739 INFO: Epoch 44: head: default, loss=  2.2327, RMSE_E_per_atom=  2571.4 meV, RMSE_F=   357.1 meV / A\n",
            "2024-09-05 16:59:40.135 INFO: Epoch 45: head: default, loss=  2.0442, RMSE_E_per_atom=  2582.8 meV, RMSE_F=   334.8 meV / A\n",
            "2024-09-05 16:59:40.543 INFO: Epoch 46: head: default, loss=  2.4431, RMSE_E_per_atom=  2470.5 meV, RMSE_F=   387.0 meV / A\n",
            "2024-09-05 16:59:40.925 INFO: Epoch 47: head: default, loss=  1.9325, RMSE_E_per_atom=  2373.6 meV, RMSE_F=   330.9 meV / A\n",
            "2024-09-05 16:59:41.331 INFO: Epoch 48: head: default, loss=  2.2264, RMSE_E_per_atom=  2326.8 meV, RMSE_F=   374.5 meV / A\n",
            "2024-09-05 16:59:41.713 INFO: Epoch 49: head: default, loss=  2.0280, RMSE_E_per_atom=  2103.9 meV, RMSE_F=   360.8 meV / A\n",
            "2024-09-05 16:59:42.095 INFO: Epoch 50: head: default, loss=  2.0725, RMSE_E_per_atom=  1864.3 meV, RMSE_F=   381.5 meV / A\n",
            "2024-09-05 16:59:42.479 INFO: Epoch 51: head: default, loss=  3.0924, RMSE_E_per_atom=  1961.9 meV, RMSE_F=   482.5 meV / A\n",
            "2024-09-05 16:59:42.865 INFO: Epoch 52: head: default, loss=  3.6248, RMSE_E_per_atom=  1967.3 meV, RMSE_F=   530.8 meV / A\n",
            "2024-09-05 16:59:43.248 INFO: Epoch 53: head: default, loss=  2.5411, RMSE_E_per_atom=  1820.1 meV, RMSE_F=   434.2 meV / A\n",
            "2024-09-05 16:59:43.622 INFO: Epoch 54: head: default, loss=  2.4276, RMSE_E_per_atom=  1876.2 meV, RMSE_F=   415.1 meV / A\n",
            "2024-09-05 16:59:44.000 INFO: Epoch 55: head: default, loss=  2.5236, RMSE_E_per_atom=  1809.8 meV, RMSE_F=   431.0 meV / A\n",
            "2024-09-05 16:59:44.382 INFO: Epoch 56: head: default, loss=  2.1838, RMSE_E_per_atom=  1882.0 meV, RMSE_F=   390.7 meV / A\n",
            "2024-09-05 16:59:44.758 INFO: Epoch 57: head: default, loss=  2.3209, RMSE_E_per_atom=  1818.3 meV, RMSE_F=   410.1 meV / A\n",
            "2024-09-05 16:59:45.126 INFO: Epoch 58: head: default, loss=  2.1631, RMSE_E_per_atom=  1892.8 meV, RMSE_F=   388.3 meV / A\n",
            "2024-09-05 16:59:45.504 INFO: Epoch 59: head: default, loss=  1.9028, RMSE_E_per_atom=  1818.2 meV, RMSE_F=   361.9 meV / A\n",
            "2024-09-05 16:59:45.893 INFO: Epoch 60: head: default, loss=  2.2440, RMSE_E_per_atom=  1850.2 meV, RMSE_F=   399.7 meV / A\n",
            "2024-09-05 16:59:46.255 INFO: Epoch 61: head: default, loss=  1.8331, RMSE_E_per_atom=  1763.9 meV, RMSE_F=   356.8 meV / A\n",
            "2024-09-05 16:59:46.650 INFO: Epoch 62: head: default, loss=  1.9465, RMSE_E_per_atom=  1799.3 meV, RMSE_F=   368.7 meV / A\n",
            "2024-09-05 16:59:47.020 INFO: Epoch 63: head: default, loss=  1.8793, RMSE_E_per_atom=  1704.1 meV, RMSE_F=   365.3 meV / A\n",
            "2024-09-05 16:59:47.400 INFO: Epoch 64: head: default, loss=  2.0234, RMSE_E_per_atom=  1744.0 meV, RMSE_F=   380.9 meV / A\n",
            "2024-09-05 16:59:47.763 INFO: Epoch 65: head: default, loss=  1.9754, RMSE_E_per_atom=  1662.9 meV, RMSE_F=   378.1 meV / A\n",
            "2024-09-05 16:59:48.143 INFO: Epoch 66: head: default, loss=  1.9707, RMSE_E_per_atom=  1742.7 meV, RMSE_F=   374.7 meV / A\n",
            "2024-09-05 16:59:48.537 INFO: Epoch 67: head: default, loss=  1.7763, RMSE_E_per_atom=  1622.7 meV, RMSE_F=   355.7 meV / A\n",
            "2024-09-05 16:59:48.924 INFO: Epoch 68: head: default, loss=  1.6561, RMSE_E_per_atom=  1633.3 meV, RMSE_F=   339.4 meV / A\n",
            "2024-09-05 16:59:49.311 INFO: Epoch 69: head: default, loss=  1.7034, RMSE_E_per_atom=  1542.7 meV, RMSE_F=   349.4 meV / A\n",
            "2024-09-05 16:59:49.674 INFO: Epoch 70: head: default, loss=  2.0195, RMSE_E_per_atom=  1585.9 meV, RMSE_F=   387.1 meV / A\n",
            "2024-09-05 16:59:50.044 INFO: Epoch 71: head: default, loss=  1.3463, RMSE_E_per_atom=  1471.0 meV, RMSE_F=   304.1 meV / A\n",
            "2024-09-05 16:59:50.430 INFO: Epoch 72: head: default, loss=  1.7177, RMSE_E_per_atom=  1465.6 meV, RMSE_F=   356.2 meV / A\n",
            "2024-09-05 16:59:50.796 INFO: Epoch 73: head: default, loss=  1.6878, RMSE_E_per_atom=  1382.5 meV, RMSE_F=   353.9 meV / A\n",
            "2024-09-05 16:59:51.164 INFO: Epoch 74: head: default, loss=  1.8204, RMSE_E_per_atom=  1382.7 meV, RMSE_F=   371.1 meV / A\n",
            "2024-09-05 16:59:51.527 INFO: Epoch 75: head: default, loss=  1.3718, RMSE_E_per_atom=  1290.1 meV, RMSE_F=   315.8 meV / A\n",
            "2024-09-05 16:59:51.904 INFO: Epoch 76: head: default, loss=  1.3644, RMSE_E_per_atom=  1344.7 meV, RMSE_F=   316.0 meV / A\n",
            "2024-09-05 16:59:52.265 INFO: Epoch 77: head: default, loss=  1.3864, RMSE_E_per_atom=  1218.5 meV, RMSE_F=   319.0 meV / A\n",
            "2024-09-05 16:59:52.630 INFO: Epoch 78: head: default, loss=  1.3283, RMSE_E_per_atom=  1186.1 meV, RMSE_F=   317.0 meV / A\n",
            "2024-09-05 16:59:53.009 INFO: Epoch 79: head: default, loss=  1.2478, RMSE_E_per_atom=  1169.0 meV, RMSE_F=   303.7 meV / A\n",
            "2024-09-05 16:59:53.388 INFO: Epoch 80: head: default, loss=  1.0016, RMSE_E_per_atom=  1054.6 meV, RMSE_F=   271.6 meV / A\n",
            "2024-09-05 16:59:53.767 INFO: Epoch 81: head: default, loss=  1.0372, RMSE_E_per_atom=   978.5 meV, RMSE_F=   281.8 meV / A\n",
            "2024-09-05 16:59:54.134 INFO: Epoch 82: head: default, loss=  1.2117, RMSE_E_per_atom=   956.5 meV, RMSE_F=   303.5 meV / A\n",
            "2024-09-05 16:59:54.496 INFO: Epoch 83: head: default, loss=  0.9780, RMSE_E_per_atom=   959.1 meV, RMSE_F=   268.3 meV / A\n",
            "2024-09-05 16:59:54.883 INFO: Epoch 84: head: default, loss=  1.3535, RMSE_E_per_atom=   758.5 meV, RMSE_F=   337.4 meV / A\n",
            "2024-09-05 16:59:55.252 INFO: Epoch 85: head: default, loss=  1.3046, RMSE_E_per_atom=   810.8 meV, RMSE_F=   326.6 meV / A\n",
            "2024-09-05 16:59:55.613 INFO: Epoch 86: head: default, loss=  2.2216, RMSE_E_per_atom=  1033.2 meV, RMSE_F=   419.2 meV / A\n",
            "2024-09-05 16:59:55.979 INFO: Epoch 87: head: default, loss=  1.3575, RMSE_E_per_atom=   974.3 meV, RMSE_F=   324.9 meV / A\n",
            "2024-09-05 16:59:56.351 INFO: Epoch 88: head: default, loss=  1.2743, RMSE_E_per_atom=   858.4 meV, RMSE_F=   315.6 meV / A\n",
            "2024-09-05 16:59:56.720 INFO: Epoch 89: head: default, loss=  1.1651, RMSE_E_per_atom=   919.4 meV, RMSE_F=   304.8 meV / A\n",
            "2024-09-05 16:59:57.090 INFO: Epoch 90: head: default, loss=  1.2789, RMSE_E_per_atom=   952.9 meV, RMSE_F=   320.7 meV / A\n",
            "2024-09-05 16:59:57.462 INFO: Epoch 91: head: default, loss=  1.1889, RMSE_E_per_atom=   738.9 meV, RMSE_F=   309.6 meV / A\n",
            "2024-09-05 16:59:57.829 INFO: Epoch 92: head: default, loss=  0.9179, RMSE_E_per_atom=   775.9 meV, RMSE_F=   269.8 meV / A\n",
            "2024-09-05 16:59:58.215 INFO: Epoch 93: head: default, loss=  1.0931, RMSE_E_per_atom=   822.5 meV, RMSE_F=   294.2 meV / A\n",
            "2024-09-05 16:59:58.594 INFO: Epoch 94: head: default, loss=  1.0199, RMSE_E_per_atom=   775.6 meV, RMSE_F=   285.2 meV / A\n",
            "2024-09-05 16:59:58.978 INFO: Epoch 95: head: default, loss=  0.9409, RMSE_E_per_atom=   686.8 meV, RMSE_F=   271.7 meV / A\n",
            "2024-09-05 16:59:59.362 INFO: Epoch 96: head: default, loss=  0.8460, RMSE_E_per_atom=   642.3 meV, RMSE_F=   261.0 meV / A\n",
            "2024-09-05 16:59:59.778 INFO: Epoch 97: head: default, loss=  1.0322, RMSE_E_per_atom=   624.9 meV, RMSE_F=   288.1 meV / A\n",
            "2024-09-05 17:00:00.163 INFO: Epoch 98: head: default, loss=  0.8102, RMSE_E_per_atom=   560.1 meV, RMSE_F=   254.7 meV / A\n",
            "2024-09-05 17:00:00.554 INFO: Epoch 99: head: default, loss=  1.0933, RMSE_E_per_atom=   472.3 meV, RMSE_F=   303.4 meV / A\n",
            "2024-09-05 17:00:00.926 INFO: Epoch 100: head: default, loss=  1.0383, RMSE_E_per_atom=   397.4 meV, RMSE_F=   294.2 meV / A\n",
            "2024-09-05 17:00:01.292 INFO: Epoch 101: head: default, loss=  1.0259, RMSE_E_per_atom=   495.2 meV, RMSE_F=   291.0 meV / A\n",
            "2024-09-05 17:00:01.663 INFO: Epoch 102: head: default, loss=  0.9999, RMSE_E_per_atom=   496.1 meV, RMSE_F=   285.9 meV / A\n",
            "2024-09-05 17:00:02.031 INFO: Epoch 103: head: default, loss=  0.8536, RMSE_E_per_atom=   414.9 meV, RMSE_F=   267.0 meV / A\n",
            "2024-09-05 17:00:02.403 INFO: Epoch 104: head: default, loss=  1.2053, RMSE_E_per_atom=   436.2 meV, RMSE_F=   316.6 meV / A\n",
            "2024-09-05 17:00:02.777 INFO: Epoch 105: head: default, loss=  1.0499, RMSE_E_per_atom=   551.2 meV, RMSE_F=   289.2 meV / A\n",
            "2024-09-05 17:00:03.145 INFO: Epoch 106: head: default, loss=  0.9971, RMSE_E_per_atom=   485.6 meV, RMSE_F=   291.3 meV / A\n",
            "2024-09-05 17:00:03.511 INFO: Epoch 107: head: default, loss=  0.9051, RMSE_E_per_atom=   441.8 meV, RMSE_F=   273.0 meV / A\n",
            "2024-09-05 17:00:03.879 INFO: Epoch 108: head: default, loss=  0.8428, RMSE_E_per_atom=   422.3 meV, RMSE_F=   266.2 meV / A\n",
            "2024-09-05 17:00:04.248 INFO: Epoch 109: head: default, loss=  0.7875, RMSE_E_per_atom=   436.1 meV, RMSE_F=   249.5 meV / A\n",
            "2024-09-05 17:00:04.635 INFO: Epoch 110: head: default, loss=  0.9413, RMSE_E_per_atom=   410.6 meV, RMSE_F=   275.7 meV / A\n",
            "2024-09-05 17:00:04.999 INFO: Epoch 111: head: default, loss=  0.8585, RMSE_E_per_atom=   401.5 meV, RMSE_F=   269.3 meV / A\n",
            "2024-09-05 17:00:05.359 INFO: Epoch 112: head: default, loss=  0.9368, RMSE_E_per_atom=   398.9 meV, RMSE_F=   278.6 meV / A\n",
            "2024-09-05 17:00:05.721 INFO: Epoch 113: head: default, loss=  0.7029, RMSE_E_per_atom=   419.5 meV, RMSE_F=   238.2 meV / A\n",
            "2024-09-05 17:00:06.101 INFO: Epoch 114: head: default, loss=  0.7956, RMSE_E_per_atom=   302.2 meV, RMSE_F=   256.5 meV / A\n",
            "2024-09-05 17:00:06.471 INFO: Epoch 115: head: default, loss=  0.6293, RMSE_E_per_atom=   351.9 meV, RMSE_F=   224.5 meV / A\n",
            "2024-09-05 17:00:06.869 INFO: Epoch 116: head: default, loss=  0.8102, RMSE_E_per_atom=   378.8 meV, RMSE_F=   255.0 meV / A\n",
            "2024-09-05 17:00:07.239 INFO: Epoch 117: head: default, loss=  0.9418, RMSE_E_per_atom=   315.9 meV, RMSE_F=   278.9 meV / A\n",
            "2024-09-05 17:00:07.612 INFO: Epoch 118: head: default, loss=  1.2420, RMSE_E_per_atom=   351.7 meV, RMSE_F=   328.5 meV / A\n",
            "2024-09-05 17:00:07.986 INFO: Epoch 119: head: default, loss=  0.9440, RMSE_E_per_atom=   303.1 meV, RMSE_F=   278.7 meV / A\n",
            "2024-09-05 17:00:08.362 INFO: Epoch 120: head: default, loss=  0.6613, RMSE_E_per_atom=   381.5 meV, RMSE_F=   230.4 meV / A\n",
            "2024-09-05 17:00:08.736 INFO: Epoch 121: head: default, loss=  1.0418, RMSE_E_per_atom=   371.6 meV, RMSE_F=   296.7 meV / A\n",
            "2024-09-05 17:00:09.099 INFO: Epoch 122: head: default, loss=  0.8330, RMSE_E_per_atom=   414.6 meV, RMSE_F=   263.1 meV / A\n",
            "2024-09-05 17:00:09.469 INFO: Epoch 123: head: default, loss=  1.1175, RMSE_E_per_atom=   385.4 meV, RMSE_F=   303.8 meV / A\n",
            "2024-09-05 17:00:09.830 INFO: Epoch 124: head: default, loss=  0.8262, RMSE_E_per_atom=   488.8 meV, RMSE_F=   258.8 meV / A\n",
            "2024-09-05 17:00:10.201 INFO: Epoch 125: head: default, loss=  0.8330, RMSE_E_per_atom=   478.8 meV, RMSE_F=   258.8 meV / A\n",
            "2024-09-05 17:00:10.581 INFO: Epoch 126: head: default, loss=  0.8293, RMSE_E_per_atom=   464.0 meV, RMSE_F=   260.9 meV / A\n",
            "2024-09-05 17:00:10.956 INFO: Epoch 127: head: default, loss=  0.8625, RMSE_E_per_atom=   410.1 meV, RMSE_F=   264.4 meV / A\n",
            "2024-09-05 17:00:11.339 INFO: Epoch 128: head: default, loss=  0.8058, RMSE_E_per_atom=   456.2 meV, RMSE_F=   254.1 meV / A\n",
            "2024-09-05 17:00:11.727 INFO: Epoch 129: head: default, loss=  0.7431, RMSE_E_per_atom=   434.2 meV, RMSE_F=   246.9 meV / A\n",
            "2024-09-05 17:00:12.096 INFO: Epoch 130: head: default, loss=  0.6322, RMSE_E_per_atom=   404.9 meV, RMSE_F=   226.5 meV / A\n",
            "2024-09-05 17:00:12.466 INFO: Epoch 131: head: default, loss=  0.5683, RMSE_E_per_atom=   431.0 meV, RMSE_F=   211.9 meV / A\n",
            "2024-09-05 17:00:12.856 INFO: Epoch 132: head: default, loss=  1.4864, RMSE_E_per_atom=   431.4 meV, RMSE_F=   351.5 meV / A\n",
            "2024-09-05 17:00:13.226 INFO: Epoch 133: head: default, loss=  0.9606, RMSE_E_per_atom=   326.6 meV, RMSE_F=   283.2 meV / A\n",
            "2024-09-05 17:00:13.601 INFO: Epoch 134: head: default, loss=  0.7114, RMSE_E_per_atom=   358.8 meV, RMSE_F=   238.2 meV / A\n",
            "2024-09-05 17:00:13.968 INFO: Epoch 135: head: default, loss=  0.5813, RMSE_E_per_atom=   359.4 meV, RMSE_F=   217.5 meV / A\n",
            "2024-09-05 17:00:14.332 INFO: Epoch 136: head: default, loss=  0.6835, RMSE_E_per_atom=   316.3 meV, RMSE_F=   236.1 meV / A\n",
            "2024-09-05 17:00:14.739 INFO: Epoch 137: head: default, loss=  0.8220, RMSE_E_per_atom=   335.7 meV, RMSE_F=   256.8 meV / A\n",
            "2024-09-05 17:00:15.102 INFO: Epoch 138: head: default, loss=  0.6387, RMSE_E_per_atom=   290.7 meV, RMSE_F=   227.0 meV / A\n",
            "2024-09-05 17:00:15.475 INFO: Epoch 139: head: default, loss=  0.6133, RMSE_E_per_atom=   248.4 meV, RMSE_F=   224.2 meV / A\n",
            "2024-09-05 17:00:15.844 INFO: Epoch 140: head: default, loss=  0.6562, RMSE_E_per_atom=   286.6 meV, RMSE_F=   228.6 meV / A\n",
            "2024-09-05 17:00:16.203 INFO: Epoch 141: head: default, loss=  0.6871, RMSE_E_per_atom=   223.0 meV, RMSE_F=   234.6 meV / A\n",
            "2024-09-05 17:00:16.575 INFO: Epoch 142: head: default, loss=  0.6022, RMSE_E_per_atom=   250.5 meV, RMSE_F=   219.0 meV / A\n",
            "2024-09-05 17:00:16.948 INFO: Epoch 143: head: default, loss=  0.6139, RMSE_E_per_atom=   231.5 meV, RMSE_F=   222.4 meV / A\n",
            "2024-09-05 17:00:17.321 INFO: Epoch 144: head: default, loss=  0.7993, RMSE_E_per_atom=   207.8 meV, RMSE_F=   253.5 meV / A\n",
            "2024-09-05 17:00:17.697 INFO: Epoch 145: head: default, loss=  0.9451, RMSE_E_per_atom=   228.9 meV, RMSE_F=   283.7 meV / A\n",
            "2024-09-05 17:00:18.068 INFO: Epoch 146: head: default, loss=  0.8970, RMSE_E_per_atom=   212.9 meV, RMSE_F=   266.9 meV / A\n",
            "2024-09-05 17:00:18.439 INFO: Epoch 147: head: default, loss=  0.6332, RMSE_E_per_atom=   292.8 meV, RMSE_F=   227.1 meV / A\n",
            "2024-09-05 17:00:18.815 INFO: Epoch 148: head: default, loss=  0.5815, RMSE_E_per_atom=   257.8 meV, RMSE_F=   214.8 meV / A\n",
            "2024-09-05 17:00:19.179 INFO: Epoch 149: head: default, loss=  0.7556, RMSE_E_per_atom=   264.5 meV, RMSE_F=   244.5 meV / A\n",
            "2024-09-05 17:00:19.548 INFO: Epoch 150: head: default, loss=  0.7374, RMSE_E_per_atom=   273.2 meV, RMSE_F=   243.3 meV / A\n",
            "2024-09-05 17:00:19.918 INFO: Epoch 151: head: default, loss=  0.6453, RMSE_E_per_atom=   267.7 meV, RMSE_F=   226.9 meV / A\n",
            "2024-09-05 17:00:20.288 INFO: Epoch 152: head: default, loss=  0.5627, RMSE_E_per_atom=   278.8 meV, RMSE_F=   213.1 meV / A\n",
            "2024-09-05 17:00:20.686 INFO: Epoch 153: head: default, loss=  0.5732, RMSE_E_per_atom=   220.5 meV, RMSE_F=   213.4 meV / A\n",
            "2024-09-05 17:00:21.062 INFO: Epoch 154: head: default, loss=  0.5851, RMSE_E_per_atom=   242.9 meV, RMSE_F=   219.8 meV / A\n",
            "2024-09-05 17:00:21.430 INFO: Epoch 155: head: default, loss=  1.0154, RMSE_E_per_atom=   165.4 meV, RMSE_F=   285.4 meV / A\n",
            "2024-09-05 17:00:21.813 INFO: Epoch 156: head: default, loss=  0.7039, RMSE_E_per_atom=   234.5 meV, RMSE_F=   239.9 meV / A\n",
            "2024-09-05 17:00:22.189 INFO: Epoch 157: head: default, loss=  0.7143, RMSE_E_per_atom=   185.6 meV, RMSE_F=   245.7 meV / A\n",
            "2024-09-05 17:00:22.573 INFO: Epoch 158: head: default, loss=  0.6372, RMSE_E_per_atom=   209.5 meV, RMSE_F=   228.0 meV / A\n",
            "2024-09-05 17:00:22.973 INFO: Epoch 159: head: default, loss=  0.6296, RMSE_E_per_atom=   218.6 meV, RMSE_F=   225.9 meV / A\n",
            "2024-09-05 17:00:23.353 INFO: Epoch 160: head: default, loss=  0.8826, RMSE_E_per_atom=   218.4 meV, RMSE_F=   271.5 meV / A\n",
            "2024-09-05 17:00:23.722 INFO: Epoch 161: head: default, loss=  0.8242, RMSE_E_per_atom=   264.1 meV, RMSE_F=   256.6 meV / A\n",
            "2024-09-05 17:00:24.095 INFO: Epoch 162: head: default, loss=  0.7670, RMSE_E_per_atom=   311.4 meV, RMSE_F=   248.8 meV / A\n",
            "2024-09-05 17:00:24.458 INFO: Epoch 163: head: default, loss=  0.6391, RMSE_E_per_atom=   314.7 meV, RMSE_F=   228.9 meV / A\n",
            "2024-09-05 17:00:24.847 INFO: Epoch 164: head: default, loss=  0.5191, RMSE_E_per_atom=   293.9 meV, RMSE_F=   200.1 meV / A\n",
            "2024-09-05 17:00:25.239 INFO: Epoch 165: head: default, loss=  0.9480, RMSE_E_per_atom=   227.6 meV, RMSE_F=   281.3 meV / A\n",
            "2024-09-05 17:00:25.624 INFO: Epoch 166: head: default, loss=  0.6742, RMSE_E_per_atom=   321.5 meV, RMSE_F=   234.2 meV / A\n",
            "2024-09-05 17:00:25.995 INFO: Epoch 167: head: default, loss=  0.7596, RMSE_E_per_atom=   253.4 meV, RMSE_F=   248.5 meV / A\n",
            "2024-09-05 17:00:26.367 INFO: Epoch 168: head: default, loss=  0.5975, RMSE_E_per_atom=   283.4 meV, RMSE_F=   216.9 meV / A\n",
            "2024-09-05 17:00:26.743 INFO: Epoch 169: head: default, loss=  0.5024, RMSE_E_per_atom=   299.5 meV, RMSE_F=   194.7 meV / A\n",
            "2024-09-05 17:00:27.165 INFO: Epoch 170: head: default, loss=  0.5745, RMSE_E_per_atom=   220.2 meV, RMSE_F=   213.5 meV / A\n",
            "2024-09-05 17:00:27.536 INFO: Epoch 171: head: default, loss=  0.7127, RMSE_E_per_atom=   284.2 meV, RMSE_F=   245.1 meV / A\n",
            "2024-09-05 17:00:27.906 INFO: Epoch 172: head: default, loss=  0.6453, RMSE_E_per_atom=   204.4 meV, RMSE_F=   227.6 meV / A\n",
            "2024-09-05 17:00:28.264 INFO: Epoch 173: head: default, loss=  0.7126, RMSE_E_per_atom=   168.1 meV, RMSE_F=   240.2 meV / A\n",
            "2024-09-05 17:00:28.630 INFO: Epoch 174: head: default, loss=  0.7876, RMSE_E_per_atom=   237.0 meV, RMSE_F=   256.5 meV / A\n",
            "2024-09-05 17:00:28.987 INFO: Epoch 175: head: default, loss=  0.8592, RMSE_E_per_atom=   191.5 meV, RMSE_F=   264.2 meV / A\n",
            "2024-09-05 17:00:29.358 INFO: Epoch 176: head: default, loss=  0.8764, RMSE_E_per_atom=   260.7 meV, RMSE_F=   273.3 meV / A\n",
            "2024-09-05 17:00:29.728 INFO: Epoch 177: head: default, loss=  1.1246, RMSE_E_per_atom=   272.5 meV, RMSE_F=   302.5 meV / A\n",
            "2024-09-05 17:00:30.098 INFO: Epoch 178: head: default, loss=  0.9128, RMSE_E_per_atom=   319.3 meV, RMSE_F=   275.7 meV / A\n",
            "2024-09-05 17:00:30.470 INFO: Epoch 179: head: default, loss=  0.7750, RMSE_E_per_atom=   325.9 meV, RMSE_F=   249.1 meV / A\n",
            "2024-09-05 17:00:30.852 INFO: Epoch 180: head: default, loss=  0.7025, RMSE_E_per_atom=   319.0 meV, RMSE_F=   239.4 meV / A\n",
            "2024-09-05 17:00:31.213 INFO: Epoch 181: head: default, loss=  0.7529, RMSE_E_per_atom=   306.8 meV, RMSE_F=   245.7 meV / A\n",
            "2024-09-05 17:00:31.578 INFO: Epoch 182: head: default, loss=  0.7483, RMSE_E_per_atom=   327.7 meV, RMSE_F=   247.0 meV / A\n",
            "2024-09-05 17:00:31.947 INFO: Epoch 183: head: default, loss=  0.6637, RMSE_E_per_atom=   246.8 meV, RMSE_F=   232.3 meV / A\n",
            "2024-09-05 17:00:32.340 INFO: Epoch 184: head: default, loss=  0.5800, RMSE_E_per_atom=   289.4 meV, RMSE_F=   211.5 meV / A\n",
            "2024-09-05 17:00:32.735 INFO: Epoch 185: head: default, loss=  0.5123, RMSE_E_per_atom=   251.5 meV, RMSE_F=   200.6 meV / A\n",
            "2024-09-05 17:00:33.118 INFO: Epoch 186: head: default, loss=  0.5202, RMSE_E_per_atom=   224.4 meV, RMSE_F=   201.8 meV / A\n",
            "2024-09-05 17:00:33.520 INFO: Epoch 187: head: default, loss=  0.5188, RMSE_E_per_atom=   185.4 meV, RMSE_F=   199.7 meV / A\n",
            "2024-09-05 17:00:33.910 INFO: Epoch 188: head: default, loss=  0.4804, RMSE_E_per_atom=   197.6 meV, RMSE_F=   193.8 meV / A\n",
            "2024-09-05 17:00:34.359 INFO: Epoch 189: head: default, loss=  0.5631, RMSE_E_per_atom=   173.8 meV, RMSE_F=   214.0 meV / A\n",
            "2024-09-05 17:00:34.770 INFO: Epoch 190: head: default, loss=  0.5348, RMSE_E_per_atom=   160.1 meV, RMSE_F=   206.0 meV / A\n",
            "2024-09-05 17:00:35.148 INFO: Epoch 191: head: default, loss=  0.7673, RMSE_E_per_atom=   138.8 meV, RMSE_F=   248.4 meV / A\n",
            "2024-09-05 17:00:35.541 INFO: Epoch 192: head: default, loss=  0.7238, RMSE_E_per_atom=   182.0 meV, RMSE_F=   243.8 meV / A\n",
            "2024-09-05 17:00:35.944 INFO: Epoch 193: head: default, loss=  0.6006, RMSE_E_per_atom=   169.1 meV, RMSE_F=   217.3 meV / A\n",
            "2024-09-05 17:00:36.338 INFO: Epoch 194: head: default, loss=  0.5910, RMSE_E_per_atom=   179.5 meV, RMSE_F=   217.7 meV / A\n",
            "2024-09-05 17:00:36.729 INFO: Epoch 195: head: default, loss=  0.5545, RMSE_E_per_atom=   214.1 meV, RMSE_F=   214.5 meV / A\n",
            "2024-09-05 17:00:37.121 INFO: Epoch 196: head: default, loss=  0.7271, RMSE_E_per_atom=   176.1 meV, RMSE_F=   241.3 meV / A\n",
            "2024-09-05 17:00:37.503 INFO: Epoch 197: head: default, loss=  0.7974, RMSE_E_per_atom=   212.3 meV, RMSE_F=   259.0 meV / A\n",
            "2024-09-05 17:00:37.890 INFO: Epoch 198: head: default, loss=  0.8430, RMSE_E_per_atom=   236.1 meV, RMSE_F=   258.0 meV / A\n",
            "2024-09-05 17:00:38.287 INFO: Epoch 199: head: default, loss=  0.9599, RMSE_E_per_atom=   230.9 meV, RMSE_F=   280.9 meV / A\n",
            "2024-09-05 17:00:38.672 INFO: Epoch 200: head: default, loss=  0.8320, RMSE_E_per_atom=   238.2 meV, RMSE_F=   257.6 meV / A\n",
            "2024-09-05 17:00:39.053 INFO: Epoch 201: head: default, loss=  0.7999, RMSE_E_per_atom=   247.4 meV, RMSE_F=   257.3 meV / A\n",
            "2024-09-05 17:00:39.435 INFO: Epoch 202: head: default, loss=  1.0589, RMSE_E_per_atom=   213.5 meV, RMSE_F=   291.1 meV / A\n",
            "2024-09-05 17:00:39.810 INFO: Epoch 203: head: default, loss=  0.6924, RMSE_E_per_atom=   288.8 meV, RMSE_F=   236.1 meV / A\n",
            "2024-09-05 17:00:40.186 INFO: Epoch 204: head: default, loss=  0.6215, RMSE_E_per_atom=   216.8 meV, RMSE_F=   223.2 meV / A\n",
            "2024-09-05 17:00:40.584 INFO: Epoch 205: head: default, loss=  0.7623, RMSE_E_per_atom=   247.5 meV, RMSE_F=   250.8 meV / A\n",
            "2024-09-05 17:00:40.967 INFO: Epoch 206: head: default, loss=  1.2793, RMSE_E_per_atom=   233.9 meV, RMSE_F=   326.3 meV / A\n",
            "2024-09-05 17:00:41.364 INFO: Epoch 207: head: default, loss=  0.8938, RMSE_E_per_atom=   218.6 meV, RMSE_F=   269.6 meV / A\n",
            "2024-09-05 17:00:41.761 INFO: Epoch 208: head: default, loss=  0.6207, RMSE_E_per_atom=   266.4 meV, RMSE_F=   226.3 meV / A\n",
            "2024-09-05 17:00:42.147 INFO: Epoch 209: head: default, loss=  0.5465, RMSE_E_per_atom=   282.8 meV, RMSE_F=   202.8 meV / A\n",
            "2024-09-05 17:00:42.520 INFO: Epoch 210: head: default, loss=  0.9182, RMSE_E_per_atom=   223.7 meV, RMSE_F=   273.5 meV / A\n",
            "2024-09-05 17:00:42.905 INFO: Epoch 211: head: default, loss=  0.6754, RMSE_E_per_atom=   343.6 meV, RMSE_F=   234.5 meV / A\n",
            "2024-09-05 17:00:43.283 INFO: Epoch 212: head: default, loss=  0.5510, RMSE_E_per_atom=   272.0 meV, RMSE_F=   212.0 meV / A\n",
            "2024-09-05 17:00:43.651 INFO: Epoch 213: head: default, loss=  0.8957, RMSE_E_per_atom=   201.7 meV, RMSE_F=   270.7 meV / A\n",
            "2024-09-05 17:00:44.023 INFO: Epoch 214: head: default, loss=  0.5942, RMSE_E_per_atom=   279.0 meV, RMSE_F=   217.0 meV / A\n",
            "2024-09-05 17:00:44.399 INFO: Epoch 215: head: default, loss=  0.5752, RMSE_E_per_atom=   270.2 meV, RMSE_F=   216.6 meV / A\n",
            "2024-09-05 17:00:44.798 INFO: Epoch 216: head: default, loss=  0.5932, RMSE_E_per_atom=   195.8 meV, RMSE_F=   217.2 meV / A\n",
            "2024-09-05 17:00:45.186 INFO: Epoch 217: head: default, loss=  0.6083, RMSE_E_per_atom=   239.6 meV, RMSE_F=   219.2 meV / A\n",
            "2024-09-05 17:00:45.579 INFO: Epoch 218: head: default, loss=  0.5021, RMSE_E_per_atom=   227.9 meV, RMSE_F=   197.1 meV / A\n",
            "2024-09-05 17:00:45.962 INFO: Epoch 219: head: default, loss=  0.5009, RMSE_E_per_atom=   215.1 meV, RMSE_F=   197.0 meV / A\n",
            "2024-09-05 17:00:46.364 INFO: Epoch 220: head: default, loss=  0.4884, RMSE_E_per_atom=   195.2 meV, RMSE_F=   195.5 meV / A\n",
            "2024-09-05 17:00:46.755 INFO: Epoch 221: head: default, loss=  0.6565, RMSE_E_per_atom=   184.6 meV, RMSE_F=   227.8 meV / A\n",
            "2024-09-05 17:00:47.151 INFO: Epoch 222: head: default, loss=  0.5148, RMSE_E_per_atom=   185.3 meV, RMSE_F=   200.2 meV / A\n",
            "2024-09-05 17:00:47.568 INFO: Epoch 223: head: default, loss=  0.4999, RMSE_E_per_atom=   156.8 meV, RMSE_F=   198.2 meV / A\n",
            "2024-09-05 17:00:47.947 INFO: Epoch 224: head: default, loss=  0.4465, RMSE_E_per_atom=   161.6 meV, RMSE_F=   186.4 meV / A\n",
            "2024-09-05 17:00:47.968 INFO: Changing loss based on Stage Two Weights\n",
            "2024-09-05 17:00:48.359 INFO: Epoch 225: head: default, loss=  3.1068, RMSE_E_per_atom=   158.3 meV, RMSE_F=   191.5 meV / A\n",
            "2024-09-05 17:00:48.764 INFO: Epoch 226: head: default, loss=  2.6959, RMSE_E_per_atom=   147.0 meV, RMSE_F=   183.8 meV / A\n",
            "2024-09-05 17:00:49.152 INFO: Epoch 227: head: default, loss=  2.3277, RMSE_E_per_atom=   135.4 meV, RMSE_F=   180.5 meV / A\n",
            "2024-09-05 17:00:49.555 INFO: Epoch 228: head: default, loss=  1.9955, RMSE_E_per_atom=   123.0 meV, RMSE_F=   180.0 meV / A\n",
            "2024-09-05 17:00:49.944 INFO: Epoch 229: head: default, loss=  1.8513, RMSE_E_per_atom=   116.9 meV, RMSE_F=   177.6 meV / A\n",
            "2024-09-05 17:00:50.336 INFO: Epoch 230: head: default, loss=  1.9449, RMSE_E_per_atom=   119.4 meV, RMSE_F=   176.5 meV / A\n",
            "2024-09-05 17:00:50.717 INFO: Epoch 231: head: default, loss=  1.2350, RMSE_E_per_atom=    88.3 meV, RMSE_F=   178.6 meV / A\n",
            "2024-09-05 17:00:51.143 INFO: Epoch 232: head: default, loss=  1.0937, RMSE_E_per_atom=    79.6 meV, RMSE_F=   180.0 meV / A\n",
            "2024-09-05 17:00:51.549 INFO: Epoch 233: head: default, loss=  1.0222, RMSE_E_per_atom=    74.8 meV, RMSE_F=   177.9 meV / A\n",
            "2024-09-05 17:00:51.961 INFO: Epoch 234: head: default, loss=  0.9322, RMSE_E_per_atom=    68.0 meV, RMSE_F=   179.8 meV / A\n",
            "2024-09-05 17:00:52.370 INFO: Epoch 235: head: default, loss=  0.7628, RMSE_E_per_atom=    53.4 meV, RMSE_F=   185.6 meV / A\n",
            "2024-09-05 17:00:52.777 INFO: Epoch 236: head: default, loss=  0.6017, RMSE_E_per_atom=    37.5 meV, RMSE_F=   184.9 meV / A\n",
            "2024-09-05 17:00:53.179 INFO: Epoch 237: head: default, loss=  0.6051, RMSE_E_per_atom=    37.5 meV, RMSE_F=   184.9 meV / A\n",
            "2024-09-05 17:00:53.573 INFO: Epoch 238: head: default, loss=  0.5115, RMSE_E_per_atom=    24.5 meV, RMSE_F=   183.7 meV / A\n",
            "2024-09-05 17:00:53.961 INFO: Epoch 239: head: default, loss=  0.4965, RMSE_E_per_atom=    24.7 meV, RMSE_F=   180.1 meV / A\n",
            "2024-09-05 17:00:54.356 INFO: Epoch 240: head: default, loss=  0.5043, RMSE_E_per_atom=    27.9 meV, RMSE_F=   177.6 meV / A\n",
            "2024-09-05 17:00:54.730 INFO: Epoch 241: head: default, loss=  0.4901, RMSE_E_per_atom=    26.4 meV, RMSE_F=   176.4 meV / A\n",
            "2024-09-05 17:00:55.129 INFO: Epoch 242: head: default, loss=  0.5007, RMSE_E_per_atom=    27.8 meV, RMSE_F=   176.0 meV / A\n",
            "2024-09-05 17:00:55.510 INFO: Epoch 243: head: default, loss=  0.5099, RMSE_E_per_atom=    30.3 meV, RMSE_F=   174.9 meV / A\n",
            "2024-09-05 17:00:55.891 INFO: Epoch 244: head: default, loss=  0.4876, RMSE_E_per_atom=    27.3 meV, RMSE_F=   174.2 meV / A\n",
            "2024-09-05 17:00:56.304 INFO: Epoch 245: head: default, loss=  0.7028, RMSE_E_per_atom=    50.3 meV, RMSE_F=   175.6 meV / A\n",
            "2024-09-05 17:00:56.687 INFO: Epoch 246: head: default, loss=  0.4986, RMSE_E_per_atom=    28.1 meV, RMSE_F=   174.6 meV / A\n",
            "2024-09-05 17:00:57.071 INFO: Epoch 247: head: default, loss=  0.4661, RMSE_E_per_atom=    24.9 meV, RMSE_F=   172.2 meV / A\n",
            "2024-09-05 17:00:57.470 INFO: Epoch 248: head: default, loss=  0.4578, RMSE_E_per_atom=    23.7 meV, RMSE_F=   171.3 meV / A\n",
            "2024-09-05 17:00:57.864 INFO: Epoch 249: head: default, loss=  0.4463, RMSE_E_per_atom=    24.0 meV, RMSE_F=   169.0 meV / A\n",
            "2024-09-05 17:00:58.267 INFO: Epoch 250: head: default, loss=  0.4017, RMSE_E_per_atom=    12.4 meV, RMSE_F=   169.6 meV / A\n",
            "2024-09-05 17:00:58.664 INFO: Epoch 251: head: default, loss=  0.4945, RMSE_E_per_atom=    30.1 meV, RMSE_F=   170.1 meV / A\n",
            "2024-09-05 17:00:59.046 INFO: Epoch 252: head: default, loss=  0.4304, RMSE_E_per_atom=    21.1 meV, RMSE_F=   168.2 meV / A\n",
            "2024-09-05 17:00:59.429 INFO: Epoch 253: head: default, loss=  0.4010, RMSE_E_per_atom=    11.7 meV, RMSE_F=   169.0 meV / A\n",
            "2024-09-05 17:00:59.833 INFO: Epoch 254: head: default, loss=  0.3867, RMSE_E_per_atom=    10.4 meV, RMSE_F=   166.8 meV / A\n",
            "2024-09-05 17:01:00.254 INFO: Epoch 255: head: default, loss=  0.4120, RMSE_E_per_atom=    19.0 meV, RMSE_F=   166.6 meV / A\n",
            "2024-09-05 17:01:00.651 INFO: Epoch 256: head: default, loss=  0.3890, RMSE_E_per_atom=    11.8 meV, RMSE_F=   166.2 meV / A\n",
            "2024-09-05 17:01:01.030 INFO: Epoch 257: head: default, loss=  0.3999, RMSE_E_per_atom=    12.8 meV, RMSE_F=   167.9 meV / A\n",
            "2024-09-05 17:01:01.405 INFO: Epoch 258: head: default, loss=  0.3865, RMSE_E_per_atom=    11.0 meV, RMSE_F=   165.9 meV / A\n",
            "2024-09-05 17:01:01.820 INFO: Epoch 259: head: default, loss=  0.3764, RMSE_E_per_atom=     9.0 meV, RMSE_F=   165.2 meV / A\n",
            "2024-09-05 17:01:02.218 INFO: Epoch 260: head: default, loss=  0.3769, RMSE_E_per_atom=     8.8 meV, RMSE_F=   164.9 meV / A\n",
            "2024-09-05 17:01:02.601 INFO: Epoch 261: head: default, loss=  0.3827, RMSE_E_per_atom=    10.3 meV, RMSE_F=   165.5 meV / A\n",
            "2024-09-05 17:01:02.975 INFO: Epoch 262: head: default, loss=  0.4088, RMSE_E_per_atom=    17.7 meV, RMSE_F=   165.6 meV / A\n",
            "2024-09-05 17:01:03.353 INFO: Epoch 263: head: default, loss=  0.3771, RMSE_E_per_atom=     9.5 meV, RMSE_F=   164.5 meV / A\n",
            "2024-09-05 17:01:03.731 INFO: Epoch 264: head: default, loss=  0.3748, RMSE_E_per_atom=     8.7 meV, RMSE_F=   164.4 meV / A\n",
            "2024-09-05 17:01:04.122 INFO: Epoch 265: head: default, loss=  0.3802, RMSE_E_per_atom=     9.5 meV, RMSE_F=   164.7 meV / A\n",
            "2024-09-05 17:01:04.515 INFO: Epoch 266: head: default, loss=  0.4091, RMSE_E_per_atom=    15.7 meV, RMSE_F=   166.5 meV / A\n",
            "2024-09-05 17:01:04.899 INFO: Epoch 267: head: default, loss=  0.3791, RMSE_E_per_atom=     8.3 meV, RMSE_F=   164.9 meV / A\n",
            "2024-09-05 17:01:05.274 INFO: Epoch 268: head: default, loss=  0.3754, RMSE_E_per_atom=     8.7 meV, RMSE_F=   164.7 meV / A\n",
            "2024-09-05 17:01:05.657 INFO: Epoch 269: head: default, loss=  0.3800, RMSE_E_per_atom=     8.4 meV, RMSE_F=   165.4 meV / A\n",
            "2024-09-05 17:01:06.035 INFO: Epoch 270: head: default, loss=  0.3730, RMSE_E_per_atom=     8.0 meV, RMSE_F=   164.3 meV / A\n",
            "2024-09-05 17:01:06.466 INFO: Epoch 271: head: default, loss=  0.4445, RMSE_E_per_atom=    26.7 meV, RMSE_F=   164.2 meV / A\n",
            "2024-09-05 17:01:06.865 INFO: Epoch 272: head: default, loss=  0.4321, RMSE_E_per_atom=    23.4 meV, RMSE_F=   164.4 meV / A\n",
            "2024-09-05 17:01:07.253 INFO: Epoch 273: head: default, loss=  0.3901, RMSE_E_per_atom=    15.6 meV, RMSE_F=   163.0 meV / A\n",
            "2024-09-05 17:01:07.642 INFO: Epoch 274: head: default, loss=  0.3748, RMSE_E_per_atom=     9.6 meV, RMSE_F=   163.1 meV / A\n",
            "2024-09-05 17:01:08.035 INFO: Epoch 275: head: default, loss=  0.4312, RMSE_E_per_atom=    24.0 meV, RMSE_F=   163.0 meV / A\n",
            "2024-09-05 17:01:08.428 INFO: Epoch 276: head: default, loss=  0.4202, RMSE_E_per_atom=    23.3 meV, RMSE_F=   162.6 meV / A\n",
            "2024-09-05 17:01:08.823 INFO: Epoch 277: head: default, loss=  0.3891, RMSE_E_per_atom=    15.7 meV, RMSE_F=   162.4 meV / A\n",
            "2024-09-05 17:01:09.233 INFO: Epoch 278: head: default, loss=  0.3704, RMSE_E_per_atom=     9.6 meV, RMSE_F=   162.3 meV / A\n",
            "2024-09-05 17:01:09.628 INFO: Epoch 279: head: default, loss=  0.4326, RMSE_E_per_atom=    25.8 meV, RMSE_F=   162.1 meV / A\n",
            "2024-09-05 17:01:10.009 INFO: Epoch 280: head: default, loss=  0.4105, RMSE_E_per_atom=    20.5 meV, RMSE_F=   162.6 meV / A\n",
            "2024-09-05 17:01:10.391 INFO: Epoch 281: head: default, loss=  0.3924, RMSE_E_per_atom=    17.7 meV, RMSE_F=   162.0 meV / A\n",
            "2024-09-05 17:01:10.808 INFO: Epoch 282: head: default, loss=  0.3688, RMSE_E_per_atom=     9.0 meV, RMSE_F=   162.5 meV / A\n",
            "2024-09-05 17:01:11.211 INFO: Epoch 283: head: default, loss=  0.4657, RMSE_E_per_atom=    29.6 meV, RMSE_F=   163.4 meV / A\n",
            "2024-09-05 17:01:11.594 INFO: Epoch 284: head: default, loss=  0.3877, RMSE_E_per_atom=    15.9 meV, RMSE_F=   162.3 meV / A\n",
            "2024-09-05 17:01:11.968 INFO: Epoch 285: head: default, loss=  0.4089, RMSE_E_per_atom=    19.8 meV, RMSE_F=   162.8 meV / A\n",
            "2024-09-05 17:01:12.372 INFO: Epoch 286: head: default, loss=  0.3694, RMSE_E_per_atom=     9.1 meV, RMSE_F=   162.7 meV / A\n",
            "2024-09-05 17:01:12.766 INFO: Epoch 287: head: default, loss=  0.4417, RMSE_E_per_atom=    27.5 meV, RMSE_F=   162.4 meV / A\n",
            "2024-09-05 17:01:13.149 INFO: Epoch 288: head: default, loss=  0.4010, RMSE_E_per_atom=    18.3 meV, RMSE_F=   163.2 meV / A\n",
            "2024-09-05 17:01:13.526 INFO: Epoch 289: head: default, loss=  0.4022, RMSE_E_per_atom=    19.7 meV, RMSE_F=   162.5 meV / A\n",
            "2024-09-05 17:01:13.939 INFO: Epoch 290: head: default, loss=  0.3777, RMSE_E_per_atom=    12.6 meV, RMSE_F=   162.3 meV / A\n",
            "2024-09-05 17:01:14.311 INFO: Epoch 291: head: default, loss=  0.4218, RMSE_E_per_atom=    22.0 meV, RMSE_F=   163.2 meV / A\n",
            "2024-09-05 17:01:14.689 INFO: Epoch 292: head: default, loss=  0.4115, RMSE_E_per_atom=    21.4 meV, RMSE_F=   162.3 meV / A\n",
            "2024-09-05 17:01:15.078 INFO: Epoch 293: head: default, loss=  0.4092, RMSE_E_per_atom=    20.1 meV, RMSE_F=   162.7 meV / A\n",
            "2024-09-05 17:01:15.451 INFO: Epoch 294: head: default, loss=  0.3893, RMSE_E_per_atom=    15.6 meV, RMSE_F=   162.4 meV / A\n",
            "2024-09-05 17:01:15.838 INFO: Epoch 295: head: default, loss=  0.4070, RMSE_E_per_atom=    20.5 meV, RMSE_F=   162.2 meV / A\n",
            "2024-09-05 17:01:16.214 INFO: Epoch 296: head: default, loss=  0.4128, RMSE_E_per_atom=    20.6 meV, RMSE_F=   163.0 meV / A\n",
            "2024-09-05 17:01:16.585 INFO: Epoch 297: head: default, loss=  0.3801, RMSE_E_per_atom=    14.8 meV, RMSE_F=   161.7 meV / A\n",
            "2024-09-05 17:01:16.977 INFO: Epoch 298: head: default, loss=  0.3798, RMSE_E_per_atom=    12.9 meV, RMSE_F=   162.5 meV / A\n",
            "2024-09-05 17:01:17.376 INFO: Epoch 299: head: default, loss=  0.3687, RMSE_E_per_atom=    10.1 meV, RMSE_F=   161.2 meV / A\n",
            "2024-09-05 17:01:17.396 INFO: Training complete\n",
            "2024-09-05 17:01:17.397 INFO: \n",
            "2024-09-05 17:01:17.397 INFO: ===========RESULTS===========\n",
            "2024-09-05 17:01:17.398 INFO: Computing metrics for training, validation, and test sets\n",
            "data/solvent_xtb_test.xyz\n",
            "Default_Default\n",
            "Default_Default\n",
            "2024-09-05 17:01:18.112 INFO: Loading checkpoint: MACE_models/mace02_com1_run-123_epoch-224.pt\n",
            "2024-09-05 17:01:18.146 INFO: Loaded Stage one model from epoch 224 for evaluation\n",
            "2024-09-05 17:01:18.148 INFO: Evaluating train_default ...\n",
            "2024-09-05 17:01:18.245 INFO: Evaluating valid_default ...\n",
            "2024-09-05 17:01:18.442 INFO: Error-table on TRAIN and VALID:\n",
            "+---------------+---------------------+------------------+-------------------+\n",
            "|  config_type  | RMSE E / meV / atom | RMSE F / meV / A | relative F RMSE % |\n",
            "+---------------+---------------------+------------------+-------------------+\n",
            "| train_default |          122.5      |        134.7     |          7.53     |\n",
            "| valid_default |          161.6      |        186.4     |         10.44     |\n",
            "+---------------+---------------------+------------------+-------------------+\n",
            "2024-09-05 17:01:18.443 INFO: Evaluating Default_Default ...\n",
            "2024-09-05 17:01:22.719 INFO: Error-table on TEST:\n",
            "+-----------------+---------------------+------------------+-------------------+\n",
            "|   config_type   | RMSE E / meV / atom | RMSE F / meV / A | relative F RMSE % |\n",
            "+-----------------+---------------------+------------------+-------------------+\n",
            "| Default_Default |          144.1      |        466.1     |         20.35     |\n",
            "+-----------------+---------------------+------------------+-------------------+\n",
            "2024-09-05 17:01:22.720 INFO: Saving model to MACE_models/mace02_com1_run-123.model\n",
            "2024-09-05 17:01:22.794 INFO: Compiling model, saving metadata to MACE_models/mace02_com1_compiled.model\n",
            "2024-09-05 17:01:23.550 INFO: Loading checkpoint: MACE_models/mace02_com1_run-123_epoch-299_swa.pt\n",
            "2024-09-05 17:01:23.581 INFO: Loaded Stage two model from epoch 299 for evaluation\n",
            "2024-09-05 17:01:23.583 INFO: Evaluating train_default ...\n",
            "2024-09-05 17:01:23.687 INFO: Evaluating valid_default ...\n",
            "2024-09-05 17:01:23.877 INFO: Error-table on TRAIN and VALID:\n",
            "+---------------+---------------------+------------------+-------------------+\n",
            "|  config_type  | RMSE E / meV / atom | RMSE F / meV / A | relative F RMSE % |\n",
            "+---------------+---------------------+------------------+-------------------+\n",
            "| train_default |            9.8      |         96.6     |          4.51     |\n",
            "| valid_default |           10.1      |        161.2     |          9.03     |\n",
            "+---------------+---------------------+------------------+-------------------+\n",
            "2024-09-05 17:01:23.878 INFO: Evaluating Default_Default ...\n",
            "2024-09-05 17:01:27.683 INFO: Error-table on TEST:\n",
            "+-----------------+---------------------+------------------+-------------------+\n",
            "|   config_type   | RMSE E / meV / atom | RMSE F / meV / A | relative F RMSE % |\n",
            "+-----------------+---------------------+------------------+-------------------+\n",
            "| Default_Default |           12.6      |        458.3     |         20.01     |\n",
            "+-----------------+---------------------+------------------+-------------------+\n",
            "2024-09-05 17:01:27.685 INFO: Saving model to MACE_models/mace02_com1_run-123_stagetwo.model\n",
            "2024-09-05 17:01:27.759 INFO: Compiling model, saving metadata MACE_models/mace02_com1_stagetwo_compiled.model\n",
            "2024-09-05 17:01:28.503 INFO: Done\n"
          ]
        }
      ],
      "source": [
        "train_mace(\"config/config-03.yml\")"
      ]
    },
    {
      "cell_type": "code",
      "execution_count": null,
      "metadata": {
        "id": "gyJtdwaIxNVK"
      },
      "outputs": [],
      "source": [
        "#remove checkpoints since they may cause errors on retraining a model with the same name but a different architecture\n",
        "import glob\n",
        "import os\n",
        "for file in glob.glob(\"MACE_models/*.pt\"):\n",
        "    os.remove(file)"
      ]
    },
    {
      "cell_type": "markdown",
      "metadata": {
        "id": "30ij5FnzxNVL"
      },
      "source": [
        "Notice, we are getting substantially larger errors than before. Now, let's run some dynamics:"
      ]
    },
    {
      "cell_type": "code",
      "execution_count": null,
      "metadata": {
        "id": "l3Y0XqKCxNVL",
        "colab": {
          "base_uri": "https://localhost:8080/",
          "height": 1000
        },
        "outputId": "1d74bf05-1f23-48ea-9b6c-37fc240d70cb"
      },
      "outputs": [
        {
          "output_type": "display_data",
          "data": {
            "text/plain": [
              "<Figure size 600x600 with 2 Axes>"
            ],
            "image/png": "[encoded data removed]"
          },
          "metadata": {}
        },
        {
          "output_type": "stream",
          "name": "stdout",
          "text": [
            "MD finished in 2.07 minutes!\n"
          ]
        },
        {
          "output_type": "display_data",
          "data": {
            "text/plain": [
              "<Figure size 600x600 with 2 Axes>"
            ],
            "image/png": "[encoded data removed]"
          },
          "metadata": {}
        }
      ],
      "source": [
        "from ase.io import read, write\n",
        "from ase import units\n",
        "from ase.md.langevin import Langevin\n",
        "from ase.md.velocitydistribution import Stationary, ZeroRotation, MaxwellBoltzmannDistribution\n",
        "from aseMolec import extAtoms as ea\n",
        "\n",
        "import os\n",
        "import time\n",
        "import numpy as np\n",
        "import pylab as pl\n",
        "from IPython import display\n",
        "np.random.seed(701) #just making sure the MD failure is reproducible\n",
        "\n",
        "def simpleMD(init_conf, temp, calc, fname, s, T):\n",
        "    init_conf.set_calculator(calc)\n",
        "\n",
        "    #initialize the temperature\n",
        "\n",
        "    MaxwellBoltzmannDistribution(init_conf, temperature_K=300) #initialize temperature at 300\n",
        "    Stationary(init_conf)\n",
        "    ZeroRotation(init_conf)\n",
        "\n",
        "    dyn = Langevin(init_conf, 1.0*units.fs, temperature_K=temp, friction=0.1) #drive system to desired temperature\n",
        "\n",
        "    %matplotlib inline\n",
        "\n",
        "    time_fs = []\n",
        "    temperature = []\n",
        "    energies = []\n",
        "\n",
        "    #remove previously stored trajectory with the same name\n",
        "    os.system('rm -rfv '+fname)\n",
        "\n",
        "    fig, ax = pl.subplots(2, 1, figsize=(6,6), sharex='all', gridspec_kw={'hspace': 0, 'wspace': 0})\n",
        "\n",
        "    def write_frame():\n",
        "            dyn.atoms.info['energy_mace'] = dyn.atoms.get_potential_energy()\n",
        "            dyn.atoms.arrays['force_mace'] = dyn.atoms.calc.get_forces()\n",
        "            dyn.atoms.write(fname, append=True)\n",
        "            time_fs.append(dyn.get_time()/units.fs)\n",
        "            temperature.append(dyn.atoms.get_temperature())\n",
        "            energies.append(dyn.atoms.get_potential_energy()/len(dyn.atoms))\n",
        "\n",
        "            ax[0].plot(np.array(time_fs), np.array(energies), color=\"b\")\n",
        "            ax[0].set_ylabel('E (eV/atom)')\n",
        "\n",
        "            # plot the temperature of the system as subplots\n",
        "            ax[1].plot(np.array(time_fs), temperature, color=\"r\")\n",
        "            ax[1].set_ylabel('T (K)')\n",
        "            ax[1].set_xlabel('Time (fs)')\n",
        "\n",
        "            display.clear_output(wait=True)\n",
        "            display.display(pl.gcf())\n",
        "            time.sleep(0.01)\n",
        "\n",
        "    dyn.attach(write_frame, interval=s)\n",
        "    t0 = time.time()\n",
        "    dyn.run(T)\n",
        "    t1 = time.time()\n",
        "    print(\"MD finished in {0:.2f} minutes!\".format((t1-t0)/60))\n",
        "\n",
        "#let us start with a single molecule\n",
        "init_conf = ea.sel_by_info_val(read('data/solvent_molecs.xyz',':'), 'Nmols', 1)[0].copy()\n",
        "\n",
        "#we can use MACE as a calculator in ASE!\n",
        "from mace.calculators import MACECalculator\n",
        "mace_calc = MACECalculator(model_paths=['MACE_models/mace02_com1_run-123_stagetwo.model'], device='cuda')\n",
        "\n",
        "simpleMD(init_conf, temp=1200, calc=mace_calc, fname='moldyn/mace02_md.xyz', s=10, T=2000)"
      ]
    },
    {
      "cell_type": "markdown",
      "metadata": {
        "id": "O9elyP0FxNVM"
      },
      "source": [
        "Depending on the random seed for the MD, you may see different things. At first sight, the energy against time doesn't look too bad, although the long time scale wandering of the energy is a little weird. Lets look at the trajectory. You might even see an explosion."
      ]
    },
    {
      "cell_type": "code",
      "execution_count": null,
      "metadata": {
        "id": "22uVfg2UxNVM",
        "colab": {
          "base_uri": "https://localhost:8080/",
          "height": 521
        },
        "outputId": "ce1f6336-2042-43af-9036-932efbd83e4f"
      },
      "outputs": [
        {
          "output_type": "execute_result",
          "data": {
            "text/plain": [
              "<IPython.lib.display.IFrame at 0x7a685c6c91b0>"
            ],
            "text/html": [
              "\n",
              "        <iframe\n",
              "            width=\"1000px\"\n",
              "            height=\"500px\"\n",
              "            src=\"x3dase.html\"\n",
              "            frameborder=\"0\"\n",
              "            allowfullscreen\n",
              "            \n",
              "        ></iframe>\n",
              "        "
            ]
          },
          "metadata": {},
          "execution_count": 13
        }
      ],
      "source": [
        "from ase.io import read, write\n",
        "from x3dase.visualize import view_x3d_n\n",
        "\n",
        "traj = read('moldyn/mace02_md.xyz', ':')\n",
        "view_x3d_n(traj)"
      ]
    },
    {
      "cell_type": "markdown",
      "metadata": {
        "id": "hBbdTtPTxNVN"
      },
      "source": [
        "If you go to the end of the trajectory, you should find that the bond angles are actually very strange - it looks unphsyical."
      ]
    },
    {
      "cell_type": "markdown",
      "metadata": {
        "id": "lwFdVZGSxNVN"
      },
      "source": [
        "### 1.2 Identify the problem and expand training\n",
        "\n",
        "Something doesn't look right with the hydrogen atoms. Let's re-evaluate the first 100 steps from the trajectory on the reference XTB potential energy surface and then plot it against MACE energy."
      ]
    },
    {
      "cell_type": "code",
      "execution_count": null,
      "metadata": {
        "id": "WdwunhD4xNVN",
        "colab": {
          "base_uri": "https://localhost:8080/"
        },
        "outputId": "3b74dc9a-69e7-4709-ffaa-2d041f658549"
      },
      "outputs": [
        {
          "output_type": "stream",
          "name": "stdout",
          "text": [
            "Evaluating MACE configurations with XTB\n"
          ]
        },
        {
          "output_type": "stream",
          "name": "stderr",
          "text": [
            "100%|██████████| 100/100 [00:22<00:00,  4.53it/s]\n"
          ]
        }
      ],
      "source": [
        "from ase.io import read, write\n",
        "from tqdm import tqdm\n",
        "from xtb.ase.calculator import XTB\n",
        "xtb_calc = XTB(method=\"GFN2-xTB\")\n",
        "\n",
        "#compute true reference XTB values\n",
        "print(\"Evaluating MACE configurations with XTB\")\n",
        "traj = read('moldyn/mace02_md.xyz', ':')\n",
        "for at in tqdm(traj[:100]):\n",
        "    at.calc = None\n",
        "    at.calc = xtb_calc\n",
        "    at.info['energy_xtb'] = at.get_potential_energy()\n",
        "    at.arrays['forces_xtb'] = at.get_forces()\n",
        "    at.calc = None\n",
        "\n",
        "write('data/mace02_md_100_xtb.xyz', traj[:100]) #save full result"
      ]
    },
    {
      "cell_type": "code",
      "execution_count": null,
      "metadata": {
        "id": "a9lNJVNbxNVN",
        "colab": {
          "base_uri": "https://localhost:8080/",
          "height": 466
        },
        "outputId": "ae1b6e41-d889-411e-81f2-8de214859f93"
      },
      "outputs": [
        {
          "output_type": "execute_result",
          "data": {
            "text/plain": [
              "Text(0, 0.5, 'Total Energy per Atom (eV)')"
            ]
          },
          "metadata": {},
          "execution_count": 15
        },
        {
          "output_type": "display_data",
          "data": {
            "text/plain": [
              "<Figure size 640x480 with 1 Axes>"
            ],
            "image/png": "[encoded data removed]"
          },
          "metadata": {}
        }
      ],
      "source": [
        "import numpy as np\n",
        "from aseMolec import extAtoms as ea\n",
        "from matplotlib import pyplot as plt\n",
        "\n",
        "traj = read('data/mace02_md_100_xtb.xyz', ':')\n",
        "plt.plot(np.arange(len(traj)), ea.get_prop(traj, 'info', 'energy_xtb', peratom=True), label='XTB')\n",
        "plt.plot(np.arange(len(traj)), ea.get_prop(traj, 'info', 'energy_mace', peratom=True), label='MACE')\n",
        "plt.legend()\n",
        "plt.xlabel('Time (fs)')\n",
        "plt.ylabel('Total Energy per Atom (eV)')"
      ]
    },
    {
      "cell_type": "markdown",
      "metadata": {
        "id": "V835Pt7KxNVN"
      },
      "source": [
        "Indeed, at around frame 45 the XTB energy diverges, because MACE finds an unphysical config. With older potentials, at this point the MD would explode, but because MACE is much smoother the simulation keeps going, albeit generating the wrong dynamics. Let's take three of these failed configs, add them back to the training set and refit a new model. This is called iterative training:\n",
        "![alt text](https://github.com/imagdau/Tutorials/blob/main/figures/iterative_training.png?raw=1)"
      ]
    },
    {
      "cell_type": "code",
      "execution_count": null,
      "metadata": {
        "id": "B0qytkOCxNVO"
      },
      "outputs": [],
      "source": [
        "db = read('data/solvent_xtb_train_20.xyz', ':')\n",
        "db += traj[40:100:5] #add failed configs to the training set\n",
        "write('data/solvent_xtb_train_23_gen1.xyz', db)"
      ]
    },
    {
      "cell_type": "markdown",
      "metadata": {
        "id": "TU0SLvwFD2yK"
      },
      "source": [
        "A good exercise is to try to pick the configs that have the largest error on forces and energies. Try coding it yourself."
      ]
    },
    {
      "cell_type": "markdown",
      "metadata": {
        "id": "7Gbxj436xNVO"
      },
      "source": [
        "### 1.3 Train a new MACE model and run MD again"
      ]
    },
    {
      "cell_type": "code",
      "execution_count": null,
      "metadata": {
        "colab": {
          "base_uri": "https://localhost:8080/"
        },
        "id": "TirW5fX-D2yK",
        "outputId": "6889b600-7ae3-4e89-974f-be74accd3bae"
      },
      "outputs": [
        {
          "output_type": "stream",
          "name": "stdout",
          "text": [
            "Writing config/config-04.yml\n"
          ]
        }
      ],
      "source": [
        "%%writefile config/config-04.yml\n",
        "\n",
        "model: \"MACE\"\n",
        "num_channels: 32\n",
        "max_L: 0\n",
        "r_max: 4.0\n",
        "name: \"mace02_com1_gen1\"\n",
        "model_dir: \"MACE_models\"\n",
        "log_dir: \"MACE_models\"\n",
        "checkpoints_dir: \"MACE_models\"\n",
        "results_dir: \"MACE_models\"\n",
        "train_file: \"data/solvent_xtb_train_23_gen1.xyz\"\n",
        "valid_file: \"data/solvent_xtb_train_50.xyz\"\n",
        "test_file: \"data/solvent_xtb_test.xyz\"\n",
        "energy_key: \"energy_xtb\"\n",
        "forces_key: \"forces_xtb\"\n",
        "device: cuda\n",
        "batch_size: 10\n",
        "max_num_epochs: 500\n",
        "swa: True\n",
        "seed: 123\n"
      ]
    },
    {
      "cell_type": "code",
      "execution_count": null,
      "metadata": {
        "colab": {
          "base_uri": "https://localhost:8080/"
        },
        "id": "SR1oyfPfD2yK",
        "outputId": "a31df057-646b-4f37-d4ba-7e32166a833d"
      },
      "outputs": [
        {
          "output_type": "stream",
          "name": "stdout",
          "text": [
            "2024-09-05 17:03:58.368 INFO: ===========VERIFYING SETTINGS===========\n",
            "2024-09-05 17:03:58.368 INFO: MACE version: 0.3.7\n",
            "2024-09-05 17:03:58.370 INFO: CUDA version: 12.1, CUDA device: 0\n",
            "2024-09-05 17:03:58.375 INFO: ===========LOADING INPUT DATA===========\n",
            "2024-09-05 17:03:58.376 INFO: Using heads: ['default']\n",
            "2024-09-05 17:03:58.376 INFO: =============    Processing head default     ===========\n",
            "2024-09-05 17:03:58.407 INFO: Using isolated atom energies from training file\n",
            "2024-09-05 17:03:58.410 INFO: Training set [30 configs, 30 energy, 1971 forces] loaded from 'data/solvent_xtb_train_23_gen1.xyz'\n",
            "2024-09-05 17:03:58.448 INFO: Validation set [53 configs, 53 energy, 4437 forces] loaded from 'data/solvent_xtb_train_50.xyz'\n",
            "2024-09-05 17:03:58.840 INFO: Test set (1000 configs) loaded from 'data/solvent_xtb_test.xyz':\n",
            "2024-09-05 17:03:58.841 INFO: Default_Default: 1000 configs, 1000 energy, 90228 forces\n",
            "2024-09-05 17:03:58.842 INFO: Total number of configurations: train=30, valid=53, tests=[Default_Default: 1000],\n",
            "2024-09-05 17:03:58.844 INFO: Atomic Numbers used: [1, 6, 8]\n",
            "2024-09-05 17:03:58.845 INFO: Atomic Energies used (z: eV) for head default: {1: -10.707211383396714, 6: -48.847445262804705, 8: -102.57117256025786}\n",
            "2024-09-05 17:03:58.920 INFO: Computing average number of neighbors\n",
            "2024-09-05 17:03:58.933 INFO: Average number of neighbors: 9.58904109589041\n",
            "2024-09-05 17:03:58.934 INFO: During training the following quantities will be reported: energy, forces\n",
            "2024-09-05 17:03:58.935 INFO: ===========MODEL DETAILS===========\n",
            "2024-09-05 17:03:58.953 INFO: Building model\n",
            "2024-09-05 17:03:58.954 INFO: Message passing with 32 channels and max_L=0 (32x0e)\n",
            "2024-09-05 17:03:58.954 INFO: 2 layers, each with correlation order: 3 (body order: 4) and spherical harmonics up to: l=3\n",
            "2024-09-05 17:03:58.955 INFO: 8 radial and 5 basis functions\n",
            "2024-09-05 17:03:58.957 INFO: Radial cutoff: 4.0 A (total receptive field for each atom: 8.0 A)\n",
            "2024-09-05 17:03:58.957 INFO: Distance transform for radial basis functions: None\n",
            "2024-09-05 17:03:58.958 INFO: Hidden irreps: 32x0e\n",
            "2024-09-05 17:04:00.382 INFO: Total number of parameters: 67472\n",
            "2024-09-05 17:04:00.383 INFO: \n",
            "2024-09-05 17:04:00.384 INFO: ===========OPTIMIZER INFORMATION===========\n",
            "2024-09-05 17:04:00.385 INFO: Using ADAM as parameter optimizer\n",
            "2024-09-05 17:04:00.386 INFO: Batch size: 10\n",
            "2024-09-05 17:04:00.387 INFO: Number of gradient updates: 1500\n",
            "2024-09-05 17:04:00.388 INFO: Learning rate: 0.01, weight decay: 5e-07\n",
            "2024-09-05 17:04:00.389 INFO: WeightedEnergyForcesLoss(energy_weight=1.000, forces_weight=100.000)\n",
            "2024-09-05 17:04:00.390 INFO: Stage Two (after 375 epochs) with loss function: WeightedEnergyForcesLoss(energy_weight=1000.000, forces_weight=100.000), with energy weight : 1000.0, forces weight : 100.0 and learning rate : 0.001\n",
            "2024-09-05 17:04:00.481 INFO: Using gradient clipping with tolerance=10.000\n",
            "2024-09-05 17:04:00.482 INFO: \n",
            "2024-09-05 17:04:00.482 INFO: ===========TRAINING===========\n",
            "2024-09-05 17:04:00.484 INFO: Started training, reporting errors on validation set\n",
            "2024-09-05 17:04:00.485 INFO: Loss metrics on validation set\n",
            "2024-09-05 17:04:00.898 INFO: Initial: head: default, loss= 37.3462, RMSE_E_per_atom=  6052.6 meV, RMSE_F=  1773.5 meV / A\n",
            "2024-09-05 17:04:01.384 INFO: Epoch 0: head: default, loss= 31.3952, RMSE_E_per_atom=  5925.6 meV, RMSE_F=  1615.3 meV / A\n",
            "2024-09-05 17:04:01.845 INFO: Epoch 1: head: default, loss= 23.8392, RMSE_E_per_atom=  5621.5 meV, RMSE_F=  1386.3 meV / A\n",
            "2024-09-05 17:04:02.321 INFO: Epoch 2: head: default, loss= 27.2018, RMSE_E_per_atom=  5167.0 meV, RMSE_F=  1484.4 meV / A\n",
            "2024-09-05 17:04:02.774 INFO: Epoch 3: head: default, loss= 23.7801, RMSE_E_per_atom=  5097.1 meV, RMSE_F=  1369.0 meV / A\n",
            "2024-09-05 17:04:03.238 INFO: Epoch 4: head: default, loss= 19.0661, RMSE_E_per_atom=  5270.4 meV, RMSE_F=  1203.3 meV / A\n",
            "2024-09-05 17:04:03.731 INFO: Epoch 5: head: default, loss= 18.2675, RMSE_E_per_atom=  5293.2 meV, RMSE_F=  1179.8 meV / A\n",
            "2024-09-05 17:04:04.259 INFO: Epoch 6: head: default, loss= 16.6555, RMSE_E_per_atom=  5153.4 meV, RMSE_F=  1109.3 meV / A\n",
            "2024-09-05 17:04:04.749 INFO: Epoch 7: head: default, loss= 15.2220, RMSE_E_per_atom=  5003.0 meV, RMSE_F=  1042.9 meV / A\n",
            "2024-09-05 17:04:05.225 INFO: Epoch 8: head: default, loss= 13.8812, RMSE_E_per_atom=  4868.4 meV, RMSE_F=   988.8 meV / A\n",
            "2024-09-05 17:04:05.671 INFO: Epoch 9: head: default, loss= 10.4202, RMSE_E_per_atom=  4815.2 meV, RMSE_F=   828.6 meV / A\n",
            "2024-09-05 17:04:06.142 INFO: Epoch 10: head: default, loss= 10.9426, RMSE_E_per_atom=  4830.5 meV, RMSE_F=   852.3 meV / A\n",
            "2024-09-05 17:04:06.603 INFO: Epoch 11: head: default, loss= 10.1939, RMSE_E_per_atom=  4721.0 meV, RMSE_F=   818.7 meV / A\n",
            "2024-09-05 17:04:07.089 INFO: Epoch 12: head: default, loss=  8.9503, RMSE_E_per_atom=  4635.3 meV, RMSE_F=   755.3 meV / A\n",
            "2024-09-05 17:04:07.544 INFO: Epoch 13: head: default, loss=  7.4588, RMSE_E_per_atom=  4576.3 meV, RMSE_F=   666.1 meV / A\n",
            "2024-09-05 17:04:08.001 INFO: Epoch 14: head: default, loss=  6.5549, RMSE_E_per_atom=  4577.4 meV, RMSE_F=   606.9 meV / A\n",
            "2024-09-05 17:04:08.464 INFO: Epoch 15: head: default, loss=  6.5282, RMSE_E_per_atom=  4481.1 meV, RMSE_F=   609.3 meV / A\n",
            "2024-09-05 17:04:08.925 INFO: Epoch 16: head: default, loss=  6.6203, RMSE_E_per_atom=  4435.6 meV, RMSE_F=   622.6 meV / A\n",
            "2024-09-05 17:04:09.386 INFO: Epoch 17: head: default, loss=  6.0537, RMSE_E_per_atom=  4412.4 meV, RMSE_F=   580.3 meV / A\n",
            "2024-09-05 17:04:09.831 INFO: Epoch 18: head: default, loss=  5.3428, RMSE_E_per_atom=  4325.4 meV, RMSE_F=   535.5 meV / A\n",
            "2024-09-05 17:04:10.303 INFO: Epoch 19: head: default, loss=  5.9518, RMSE_E_per_atom=  4304.7 meV, RMSE_F=   575.8 meV / A\n",
            "2024-09-05 17:04:10.761 INFO: Epoch 20: head: default, loss=  4.9855, RMSE_E_per_atom=  4283.0 meV, RMSE_F=   498.7 meV / A\n",
            "2024-09-05 17:04:11.196 INFO: Epoch 21: head: default, loss=  4.6068, RMSE_E_per_atom=  4246.0 meV, RMSE_F=   468.2 meV / A\n",
            "2024-09-05 17:04:11.651 INFO: Epoch 22: head: default, loss=  4.7206, RMSE_E_per_atom=  4118.4 meV, RMSE_F=   496.3 meV / A\n",
            "2024-09-05 17:04:12.109 INFO: Epoch 23: head: default, loss=  4.2170, RMSE_E_per_atom=  4051.6 meV, RMSE_F=   451.4 meV / A\n",
            "2024-09-05 17:04:12.569 INFO: Epoch 24: head: default, loss=  3.8892, RMSE_E_per_atom=  4022.3 meV, RMSE_F=   418.3 meV / A\n",
            "2024-09-05 17:04:13.048 INFO: Epoch 25: head: default, loss=  4.7915, RMSE_E_per_atom=  3882.9 meV, RMSE_F=   515.9 meV / A\n",
            "2024-09-05 17:04:13.476 INFO: Epoch 26: head: default, loss=  4.7149, RMSE_E_per_atom=  3895.6 meV, RMSE_F=   502.9 meV / A\n",
            "2024-09-05 17:04:13.912 INFO: Epoch 27: head: default, loss=  4.3288, RMSE_E_per_atom=  3794.3 meV, RMSE_F=   482.4 meV / A\n",
            "2024-09-05 17:04:14.350 INFO: Epoch 28: head: default, loss=  3.8399, RMSE_E_per_atom=  3742.6 meV, RMSE_F=   436.4 meV / A\n",
            "2024-09-05 17:04:14.807 INFO: Epoch 29: head: default, loss=  4.9499, RMSE_E_per_atom=  3706.6 meV, RMSE_F=   547.4 meV / A\n",
            "2024-09-05 17:04:15.234 INFO: Epoch 30: head: default, loss=  3.9164, RMSE_E_per_atom=  3716.8 meV, RMSE_F=   448.4 meV / A\n",
            "2024-09-05 17:04:15.688 INFO: Epoch 31: head: default, loss=  3.5179, RMSE_E_per_atom=  3657.2 meV, RMSE_F=   413.5 meV / A\n",
            "2024-09-05 17:04:16.147 INFO: Epoch 32: head: default, loss=  3.4574, RMSE_E_per_atom=  3595.3 meV, RMSE_F=   412.3 meV / A\n",
            "2024-09-05 17:04:16.607 INFO: Epoch 33: head: default, loss=  3.6297, RMSE_E_per_atom=  3503.7 meV, RMSE_F=   436.5 meV / A\n",
            "2024-09-05 17:04:17.037 INFO: Epoch 34: head: default, loss=  3.0591, RMSE_E_per_atom=  3427.1 meV, RMSE_F=   386.4 meV / A\n",
            "2024-09-05 17:04:17.476 INFO: Epoch 35: head: default, loss=  3.8260, RMSE_E_per_atom=  3432.0 meV, RMSE_F=   461.9 meV / A\n",
            "2024-09-05 17:04:17.950 INFO: Epoch 36: head: default, loss=  3.1657, RMSE_E_per_atom=  3297.8 meV, RMSE_F=   408.7 meV / A\n",
            "2024-09-05 17:04:18.379 INFO: Epoch 37: head: default, loss=  3.0232, RMSE_E_per_atom=  3221.8 meV, RMSE_F=   398.8 meV / A\n",
            "2024-09-05 17:04:18.868 INFO: Epoch 38: head: default, loss=  2.6831, RMSE_E_per_atom=  3197.1 meV, RMSE_F=   362.9 meV / A\n",
            "2024-09-05 17:04:19.311 INFO: Epoch 39: head: default, loss=  3.1573, RMSE_E_per_atom=  3084.5 meV, RMSE_F=   419.5 meV / A\n",
            "2024-09-05 17:04:19.749 INFO: Epoch 40: head: default, loss=  3.2438, RMSE_E_per_atom=  2991.1 meV, RMSE_F=   443.4 meV / A\n",
            "2024-09-05 17:04:20.190 INFO: Epoch 41: head: default, loss=  2.8243, RMSE_E_per_atom=  3023.1 meV, RMSE_F=   394.2 meV / A\n",
            "2024-09-05 17:04:20.622 INFO: Epoch 42: head: default, loss=  2.8577, RMSE_E_per_atom=  2989.1 meV, RMSE_F=   399.3 meV / A\n",
            "2024-09-05 17:04:21.037 INFO: Epoch 43: head: default, loss=  2.5067, RMSE_E_per_atom=  2881.3 meV, RMSE_F=   365.1 meV / A\n",
            "2024-09-05 17:04:21.523 INFO: Epoch 44: head: default, loss=  2.8358, RMSE_E_per_atom=  2855.2 meV, RMSE_F=   408.0 meV / A\n",
            "2024-09-05 17:04:21.951 INFO: Epoch 45: head: default, loss=  2.5211, RMSE_E_per_atom=  2798.0 meV, RMSE_F=   376.4 meV / A\n",
            "2024-09-05 17:04:22.411 INFO: Epoch 46: head: default, loss=  2.8380, RMSE_E_per_atom=  2743.2 meV, RMSE_F=   414.2 meV / A\n",
            "2024-09-05 17:04:22.841 INFO: Epoch 47: head: default, loss=  2.6539, RMSE_E_per_atom=  2709.2 meV, RMSE_F=   396.9 meV / A\n",
            "2024-09-05 17:04:23.284 INFO: Epoch 48: head: default, loss=  2.4627, RMSE_E_per_atom=  2680.3 meV, RMSE_F=   378.6 meV / A\n",
            "2024-09-05 17:04:23.748 INFO: Epoch 49: head: default, loss=  2.5878, RMSE_E_per_atom=  2544.5 meV, RMSE_F=   400.7 meV / A\n",
            "2024-09-05 17:04:24.172 INFO: Epoch 50: head: default, loss=  2.4014, RMSE_E_per_atom=  2551.0 meV, RMSE_F=   375.7 meV / A\n",
            "2024-09-05 17:04:24.644 INFO: Epoch 51: head: default, loss=  2.2663, RMSE_E_per_atom=  2530.7 meV, RMSE_F=   364.0 meV / A\n",
            "2024-09-05 17:04:25.086 INFO: Epoch 52: head: default, loss=  2.1589, RMSE_E_per_atom=  2395.0 meV, RMSE_F=   363.0 meV / A\n",
            "2024-09-05 17:04:25.557 INFO: Epoch 53: head: default, loss=  2.1951, RMSE_E_per_atom=  2324.3 meV, RMSE_F=   370.2 meV / A\n",
            "2024-09-05 17:04:26.010 INFO: Epoch 54: head: default, loss=  2.2014, RMSE_E_per_atom=  2364.1 meV, RMSE_F=   369.4 meV / A\n",
            "2024-09-05 17:04:26.486 INFO: Epoch 55: head: default, loss=  2.2421, RMSE_E_per_atom=  2312.4 meV, RMSE_F=   376.0 meV / A\n",
            "2024-09-05 17:04:26.949 INFO: Epoch 56: head: default, loss=  1.9681, RMSE_E_per_atom=  2181.5 meV, RMSE_F=   351.6 meV / A\n",
            "2024-09-05 17:04:27.442 INFO: Epoch 57: head: default, loss=  1.9813, RMSE_E_per_atom=  2173.1 meV, RMSE_F=   355.1 meV / A\n",
            "2024-09-05 17:04:27.918 INFO: Epoch 58: head: default, loss=  1.8225, RMSE_E_per_atom=  2116.0 meV, RMSE_F=   336.3 meV / A\n",
            "2024-09-05 17:04:28.390 INFO: Epoch 59: head: default, loss=  1.8890, RMSE_E_per_atom=  2058.0 meV, RMSE_F=   350.1 meV / A\n",
            "2024-09-05 17:04:28.814 INFO: Epoch 60: head: default, loss=  2.0071, RMSE_E_per_atom=  2016.7 meV, RMSE_F=   364.1 meV / A\n",
            "2024-09-05 17:04:29.258 INFO: Epoch 61: head: default, loss=  1.9854, RMSE_E_per_atom=  1921.4 meV, RMSE_F=   369.7 meV / A\n",
            "2024-09-05 17:04:29.692 INFO: Epoch 62: head: default, loss=  1.8924, RMSE_E_per_atom=  1931.7 meV, RMSE_F=   354.6 meV / A\n",
            "2024-09-05 17:04:30.126 INFO: Epoch 63: head: default, loss=  1.9641, RMSE_E_per_atom=  1923.9 meV, RMSE_F=   368.6 meV / A\n",
            "2024-09-05 17:04:30.557 INFO: Epoch 64: head: default, loss=  1.7826, RMSE_E_per_atom=  1779.6 meV, RMSE_F=   350.3 meV / A\n",
            "2024-09-05 17:04:31.215 INFO: Epoch 65: head: default, loss=  1.7748, RMSE_E_per_atom=  1766.7 meV, RMSE_F=   350.9 meV / A\n",
            "2024-09-05 17:04:31.683 INFO: Epoch 66: head: default, loss=  1.5040, RMSE_E_per_atom=  1767.8 meV, RMSE_F=   315.0 meV / A\n",
            "2024-09-05 17:04:32.161 INFO: Epoch 67: head: default, loss=  1.6872, RMSE_E_per_atom=  1697.6 meV, RMSE_F=   342.3 meV / A\n",
            "2024-09-05 17:04:32.593 INFO: Epoch 68: head: default, loss=  1.6348, RMSE_E_per_atom=  1630.9 meV, RMSE_F=   338.2 meV / A\n",
            "2024-09-05 17:04:33.013 INFO: Epoch 69: head: default, loss=  1.6817, RMSE_E_per_atom=  1599.5 meV, RMSE_F=   345.9 meV / A\n",
            "2024-09-05 17:04:33.464 INFO: Epoch 70: head: default, loss=  1.8105, RMSE_E_per_atom=  1674.8 meV, RMSE_F=   357.1 meV / A\n",
            "2024-09-05 17:04:33.894 INFO: Epoch 71: head: default, loss=  1.6482, RMSE_E_per_atom=  1598.1 meV, RMSE_F=   339.3 meV / A\n",
            "2024-09-05 17:04:34.333 INFO: Epoch 72: head: default, loss=  1.6486, RMSE_E_per_atom=  1453.2 meV, RMSE_F=   346.3 meV / A\n",
            "2024-09-05 17:04:34.774 INFO: Epoch 73: head: default, loss=  1.5532, RMSE_E_per_atom=  1483.9 meV, RMSE_F=   330.7 meV / A\n",
            "2024-09-05 17:04:35.211 INFO: Epoch 74: head: default, loss=  1.3770, RMSE_E_per_atom=  1450.4 meV, RMSE_F=   307.9 meV / A\n",
            "2024-09-05 17:04:35.682 INFO: Epoch 75: head: default, loss=  1.3655, RMSE_E_per_atom=  1466.5 meV, RMSE_F=   309.5 meV / A\n",
            "2024-09-05 17:04:36.147 INFO: Epoch 76: head: default, loss=  1.5736, RMSE_E_per_atom=  1351.5 meV, RMSE_F=   341.5 meV / A\n",
            "2024-09-05 17:04:36.583 INFO: Epoch 77: head: default, loss=  1.5092, RMSE_E_per_atom=  1297.0 meV, RMSE_F=   334.3 meV / A\n",
            "2024-09-05 17:04:37.025 INFO: Epoch 78: head: default, loss=  1.5175, RMSE_E_per_atom=  1342.8 meV, RMSE_F=   339.5 meV / A\n",
            "2024-09-05 17:04:37.489 INFO: Epoch 79: head: default, loss=  1.4613, RMSE_E_per_atom=  1226.7 meV, RMSE_F=   330.2 meV / A\n",
            "2024-09-05 17:04:37.955 INFO: Epoch 80: head: default, loss=  1.2936, RMSE_E_per_atom=  1222.6 meV, RMSE_F=   308.5 meV / A\n",
            "2024-09-05 17:04:38.411 INFO: Epoch 81: head: default, loss=  1.3382, RMSE_E_per_atom=  1184.6 meV, RMSE_F=   317.2 meV / A\n",
            "2024-09-05 17:04:38.850 INFO: Epoch 82: head: default, loss=  1.2510, RMSE_E_per_atom=  1104.5 meV, RMSE_F=   303.9 meV / A\n",
            "2024-09-05 17:04:39.340 INFO: Epoch 83: head: default, loss=  1.7077, RMSE_E_per_atom=  1135.6 meV, RMSE_F=   366.3 meV / A\n",
            "2024-09-05 17:04:39.823 INFO: Epoch 84: head: default, loss=  1.2027, RMSE_E_per_atom=  1107.8 meV, RMSE_F=   300.7 meV / A\n",
            "2024-09-05 17:04:40.295 INFO: Epoch 85: head: default, loss=  1.6579, RMSE_E_per_atom=  1002.1 meV, RMSE_F=   359.5 meV / A\n",
            "2024-09-05 17:04:40.749 INFO: Epoch 86: head: default, loss=  1.6379, RMSE_E_per_atom=  1094.4 meV, RMSE_F=   361.1 meV / A\n",
            "2024-09-05 17:04:41.206 INFO: Epoch 87: head: default, loss=  1.4168, RMSE_E_per_atom=   984.1 meV, RMSE_F=   333.0 meV / A\n",
            "2024-09-05 17:04:41.648 INFO: Epoch 88: head: default, loss=  1.6052, RMSE_E_per_atom=  1005.3 meV, RMSE_F=   357.2 meV / A\n",
            "2024-09-05 17:04:42.100 INFO: Epoch 89: head: default, loss=  1.1235, RMSE_E_per_atom=   981.5 meV, RMSE_F=   292.5 meV / A\n",
            "2024-09-05 17:04:42.581 INFO: Epoch 90: head: default, loss=  0.9696, RMSE_E_per_atom=   905.0 meV, RMSE_F=   269.1 meV / A\n",
            "2024-09-05 17:04:43.042 INFO: Epoch 91: head: default, loss=  1.0830, RMSE_E_per_atom=   818.9 meV, RMSE_F=   288.6 meV / A\n",
            "2024-09-05 17:04:43.491 INFO: Epoch 92: head: default, loss=  0.9810, RMSE_E_per_atom=   814.3 meV, RMSE_F=   274.6 meV / A\n",
            "2024-09-05 17:04:43.929 INFO: Epoch 93: head: default, loss=  1.2678, RMSE_E_per_atom=   774.8 meV, RMSE_F=   317.7 meV / A\n",
            "2024-09-05 17:04:44.367 INFO: Epoch 94: head: default, loss=  1.8655, RMSE_E_per_atom=   707.5 meV, RMSE_F=   393.4 meV / A\n",
            "2024-09-05 17:04:44.838 INFO: Epoch 95: head: default, loss=  1.4663, RMSE_E_per_atom=   763.1 meV, RMSE_F=   348.2 meV / A\n",
            "2024-09-05 17:04:45.278 INFO: Epoch 96: head: default, loss=  1.4869, RMSE_E_per_atom=   751.0 meV, RMSE_F=   344.3 meV / A\n",
            "2024-09-05 17:04:45.724 INFO: Epoch 97: head: default, loss=  1.3096, RMSE_E_per_atom=   782.1 meV, RMSE_F=   323.0 meV / A\n",
            "2024-09-05 17:04:46.181 INFO: Epoch 98: head: default, loss=  1.4678, RMSE_E_per_atom=   769.0 meV, RMSE_F=   347.0 meV / A\n",
            "2024-09-05 17:04:46.631 INFO: Epoch 99: head: default, loss=  1.1945, RMSE_E_per_atom=   748.5 meV, RMSE_F=   307.3 meV / A\n",
            "2024-09-05 17:04:47.058 INFO: Epoch 100: head: default, loss=  1.5674, RMSE_E_per_atom=   798.6 meV, RMSE_F=   361.7 meV / A\n",
            "2024-09-05 17:04:47.499 INFO: Epoch 101: head: default, loss=  1.4677, RMSE_E_per_atom=   782.2 meV, RMSE_F=   340.7 meV / A\n",
            "2024-09-05 17:04:47.949 INFO: Epoch 102: head: default, loss=  1.4215, RMSE_E_per_atom=   849.6 meV, RMSE_F=   341.0 meV / A\n",
            "2024-09-05 17:04:48.409 INFO: Epoch 103: head: default, loss=  1.2779, RMSE_E_per_atom=   786.9 meV, RMSE_F=   317.9 meV / A\n",
            "2024-09-05 17:04:48.858 INFO: Epoch 104: head: default, loss=  1.0317, RMSE_E_per_atom=   700.7 meV, RMSE_F=   284.9 meV / A\n",
            "2024-09-05 17:04:49.284 INFO: Epoch 105: head: default, loss=  0.9784, RMSE_E_per_atom=   738.2 meV, RMSE_F=   278.2 meV / A\n",
            "2024-09-05 17:04:49.708 INFO: Epoch 106: head: default, loss=  1.0360, RMSE_E_per_atom=   736.2 meV, RMSE_F=   285.1 meV / A\n",
            "2024-09-05 17:04:50.148 INFO: Epoch 107: head: default, loss=  0.9906, RMSE_E_per_atom=   727.4 meV, RMSE_F=   277.9 meV / A\n",
            "2024-09-05 17:04:50.594 INFO: Epoch 108: head: default, loss=  1.5737, RMSE_E_per_atom=   694.7 meV, RMSE_F=   361.8 meV / A\n",
            "2024-09-05 17:04:51.081 INFO: Epoch 109: head: default, loss=  1.1840, RMSE_E_per_atom=   703.0 meV, RMSE_F=   304.8 meV / A\n",
            "2024-09-05 17:04:51.543 INFO: Epoch 110: head: default, loss=  1.2019, RMSE_E_per_atom=   745.0 meV, RMSE_F=   310.8 meV / A\n",
            "2024-09-05 17:04:51.994 INFO: Epoch 111: head: default, loss=  1.4121, RMSE_E_per_atom=   727.7 meV, RMSE_F=   336.1 meV / A\n",
            "2024-09-05 17:04:52.456 INFO: Epoch 112: head: default, loss=  0.8662, RMSE_E_per_atom=   666.6 meV, RMSE_F=   263.1 meV / A\n",
            "2024-09-05 17:04:52.924 INFO: Epoch 113: head: default, loss=  0.9229, RMSE_E_per_atom=   636.9 meV, RMSE_F=   269.0 meV / A\n",
            "2024-09-05 17:04:53.372 INFO: Epoch 114: head: default, loss=  0.9674, RMSE_E_per_atom=   684.2 meV, RMSE_F=   272.8 meV / A\n",
            "2024-09-05 17:04:53.805 INFO: Epoch 115: head: default, loss=  0.9677, RMSE_E_per_atom=   592.8 meV, RMSE_F=   280.7 meV / A\n",
            "2024-09-05 17:04:54.234 INFO: Epoch 116: head: default, loss=  0.8977, RMSE_E_per_atom=   626.1 meV, RMSE_F=   271.0 meV / A\n",
            "2024-09-05 17:04:54.652 INFO: Epoch 117: head: default, loss=  1.4755, RMSE_E_per_atom=   606.8 meV, RMSE_F=   348.3 meV / A\n",
            "2024-09-05 17:04:55.102 INFO: Epoch 118: head: default, loss=  1.1785, RMSE_E_per_atom=   564.3 meV, RMSE_F=   309.1 meV / A\n",
            "2024-09-05 17:04:55.521 INFO: Epoch 119: head: default, loss=  1.0540, RMSE_E_per_atom=   564.4 meV, RMSE_F=   291.8 meV / A\n",
            "2024-09-05 17:04:55.941 INFO: Epoch 120: head: default, loss=  1.0210, RMSE_E_per_atom=   527.7 meV, RMSE_F=   285.8 meV / A\n",
            "2024-09-05 17:04:56.367 INFO: Epoch 121: head: default, loss=  1.0850, RMSE_E_per_atom=   633.8 meV, RMSE_F=   294.4 meV / A\n",
            "2024-09-05 17:04:56.792 INFO: Epoch 122: head: default, loss=  0.9269, RMSE_E_per_atom=   568.3 meV, RMSE_F=   270.7 meV / A\n",
            "2024-09-05 17:04:57.231 INFO: Epoch 123: head: default, loss=  0.9918, RMSE_E_per_atom=   598.2 meV, RMSE_F=   281.8 meV / A\n",
            "2024-09-05 17:04:57.669 INFO: Epoch 124: head: default, loss=  0.9497, RMSE_E_per_atom=   529.5 meV, RMSE_F=   277.4 meV / A\n",
            "2024-09-05 17:04:58.099 INFO: Epoch 125: head: default, loss=  1.1507, RMSE_E_per_atom=   531.2 meV, RMSE_F=   308.8 meV / A\n",
            "2024-09-05 17:04:58.520 INFO: Epoch 126: head: default, loss=  1.0610, RMSE_E_per_atom=   584.3 meV, RMSE_F=   293.7 meV / A\n",
            "2024-09-05 17:04:58.944 INFO: Epoch 127: head: default, loss=  1.0145, RMSE_E_per_atom=   538.0 meV, RMSE_F=   283.7 meV / A\n",
            "2024-09-05 17:04:59.386 INFO: Epoch 128: head: default, loss=  0.9647, RMSE_E_per_atom=   548.0 meV, RMSE_F=   279.8 meV / A\n",
            "2024-09-05 17:04:59.811 INFO: Epoch 129: head: default, loss=  0.8327, RMSE_E_per_atom=   524.5 meV, RMSE_F=   258.9 meV / A\n",
            "2024-09-05 17:05:00.265 INFO: Epoch 130: head: default, loss=  1.0293, RMSE_E_per_atom=   518.2 meV, RMSE_F=   286.0 meV / A\n",
            "2024-09-05 17:05:00.744 INFO: Epoch 131: head: default, loss=  0.8595, RMSE_E_per_atom=   505.4 meV, RMSE_F=   259.6 meV / A\n",
            "2024-09-05 17:05:01.182 INFO: Epoch 132: head: default, loss=  1.0039, RMSE_E_per_atom=   514.9 meV, RMSE_F=   287.1 meV / A\n",
            "2024-09-05 17:05:01.654 INFO: Epoch 133: head: default, loss=  0.8114, RMSE_E_per_atom=   513.2 meV, RMSE_F=   256.7 meV / A\n",
            "2024-09-05 17:05:02.124 INFO: Epoch 134: head: default, loss=  1.0859, RMSE_E_per_atom=   507.7 meV, RMSE_F=   291.9 meV / A\n",
            "2024-09-05 17:05:02.559 INFO: Epoch 135: head: default, loss=  0.8104, RMSE_E_per_atom=   465.7 meV, RMSE_F=   254.6 meV / A\n",
            "2024-09-05 17:05:03.005 INFO: Epoch 136: head: default, loss=  0.9201, RMSE_E_per_atom=   468.0 meV, RMSE_F=   275.3 meV / A\n",
            "2024-09-05 17:05:03.443 INFO: Epoch 137: head: default, loss=  0.7728, RMSE_E_per_atom=   470.7 meV, RMSE_F=   250.2 meV / A\n",
            "2024-09-05 17:05:03.931 INFO: Epoch 138: head: default, loss=  0.8408, RMSE_E_per_atom=   411.9 meV, RMSE_F=   258.7 meV / A\n",
            "2024-09-05 17:05:04.395 INFO: Epoch 139: head: default, loss=  0.8743, RMSE_E_per_atom=   470.1 meV, RMSE_F=   261.6 meV / A\n",
            "2024-09-05 17:05:04.849 INFO: Epoch 140: head: default, loss=  0.7587, RMSE_E_per_atom=   440.7 meV, RMSE_F=   244.9 meV / A\n",
            "2024-09-05 17:05:05.338 INFO: Epoch 141: head: default, loss=  0.7707, RMSE_E_per_atom=   458.6 meV, RMSE_F=   247.7 meV / A\n",
            "2024-09-05 17:05:05.811 INFO: Epoch 142: head: default, loss=  0.8955, RMSE_E_per_atom=   433.3 meV, RMSE_F=   267.4 meV / A\n",
            "2024-09-05 17:05:06.261 INFO: Epoch 143: head: default, loss=  1.1427, RMSE_E_per_atom=   461.8 meV, RMSE_F=   303.7 meV / A\n",
            "2024-09-05 17:05:06.691 INFO: Epoch 144: head: default, loss=  0.9520, RMSE_E_per_atom=   430.4 meV, RMSE_F=   278.9 meV / A\n",
            "2024-09-05 17:05:07.120 INFO: Epoch 145: head: default, loss=  0.9078, RMSE_E_per_atom=   499.6 meV, RMSE_F=   270.5 meV / A\n",
            "2024-09-05 17:05:07.546 INFO: Epoch 146: head: default, loss=  0.9117, RMSE_E_per_atom=   465.5 meV, RMSE_F=   271.7 meV / A\n",
            "2024-09-05 17:05:07.993 INFO: Epoch 147: head: default, loss=  0.7410, RMSE_E_per_atom=   462.5 meV, RMSE_F=   240.5 meV / A\n",
            "2024-09-05 17:05:08.457 INFO: Epoch 148: head: default, loss=  0.8725, RMSE_E_per_atom=   453.4 meV, RMSE_F=   264.9 meV / A\n",
            "2024-09-05 17:05:08.879 INFO: Epoch 149: head: default, loss=  0.6768, RMSE_E_per_atom=   474.7 meV, RMSE_F=   230.6 meV / A\n",
            "2024-09-05 17:05:09.325 INFO: Epoch 150: head: default, loss=  0.7254, RMSE_E_per_atom=   410.3 meV, RMSE_F=   240.6 meV / A\n",
            "2024-09-05 17:05:09.786 INFO: Epoch 151: head: default, loss=  1.0030, RMSE_E_per_atom=   493.8 meV, RMSE_F=   286.3 meV / A\n",
            "2024-09-05 17:05:10.219 INFO: Epoch 152: head: default, loss=  1.2710, RMSE_E_per_atom=   414.4 meV, RMSE_F=   322.3 meV / A\n",
            "2024-09-05 17:05:10.668 INFO: Epoch 153: head: default, loss=  1.9349, RMSE_E_per_atom=   475.7 meV, RMSE_F=   405.1 meV / A\n",
            "2024-09-05 17:05:11.115 INFO: Epoch 154: head: default, loss=  1.4834, RMSE_E_per_atom=   491.9 meV, RMSE_F=   355.9 meV / A\n",
            "2024-09-05 17:05:11.543 INFO: Epoch 155: head: default, loss=  1.3336, RMSE_E_per_atom=   514.4 meV, RMSE_F=   332.7 meV / A\n",
            "2024-09-05 17:05:11.969 INFO: Epoch 156: head: default, loss=  1.1441, RMSE_E_per_atom=   532.7 meV, RMSE_F=   302.1 meV / A\n",
            "2024-09-05 17:05:12.403 INFO: Epoch 157: head: default, loss=  0.9787, RMSE_E_per_atom=   561.1 meV, RMSE_F=   280.8 meV / A\n",
            "2024-09-05 17:05:12.850 INFO: Epoch 158: head: default, loss=  0.8965, RMSE_E_per_atom=   538.3 meV, RMSE_F=   262.6 meV / A\n",
            "2024-09-05 17:05:13.308 INFO: Epoch 159: head: default, loss=  0.7172, RMSE_E_per_atom=   627.1 meV, RMSE_F=   236.8 meV / A\n",
            "2024-09-05 17:05:13.757 INFO: Epoch 160: head: default, loss=  1.1163, RMSE_E_per_atom=   553.3 meV, RMSE_F=   303.9 meV / A\n",
            "2024-09-05 17:05:14.199 INFO: Epoch 161: head: default, loss=  1.0216, RMSE_E_per_atom=   571.2 meV, RMSE_F=   285.4 meV / A\n",
            "2024-09-05 17:05:14.636 INFO: Epoch 162: head: default, loss=  0.8564, RMSE_E_per_atom=   571.9 meV, RMSE_F=   262.7 meV / A\n",
            "2024-09-05 17:05:15.058 INFO: Epoch 163: head: default, loss=  0.8000, RMSE_E_per_atom=   592.1 meV, RMSE_F=   251.2 meV / A\n",
            "2024-09-05 17:05:15.519 INFO: Epoch 164: head: default, loss=  0.8334, RMSE_E_per_atom=   504.4 meV, RMSE_F=   258.3 meV / A\n",
            "2024-09-05 17:05:15.939 INFO: Epoch 165: head: default, loss=  0.7112, RMSE_E_per_atom=   524.5 meV, RMSE_F=   234.5 meV / A\n",
            "2024-09-05 17:05:16.395 INFO: Epoch 166: head: default, loss=  0.9673, RMSE_E_per_atom=   437.1 meV, RMSE_F=   277.5 meV / A\n",
            "2024-09-05 17:05:16.832 INFO: Epoch 167: head: default, loss=  0.6679, RMSE_E_per_atom=   469.8 meV, RMSE_F=   228.8 meV / A\n",
            "2024-09-05 17:05:17.291 INFO: Epoch 168: head: default, loss=  0.7948, RMSE_E_per_atom=   438.2 meV, RMSE_F=   254.5 meV / A\n",
            "2024-09-05 17:05:17.727 INFO: Epoch 169: head: default, loss=  0.7345, RMSE_E_per_atom=   363.8 meV, RMSE_F=   242.1 meV / A\n",
            "2024-09-05 17:05:18.161 INFO: Epoch 170: head: default, loss=  0.9727, RMSE_E_per_atom=   389.3 meV, RMSE_F=   277.9 meV / A\n",
            "2024-09-05 17:05:18.611 INFO: Epoch 171: head: default, loss=  0.9575, RMSE_E_per_atom=   412.1 meV, RMSE_F=   282.7 meV / A\n",
            "2024-09-05 17:05:19.043 INFO: Epoch 172: head: default, loss=  0.7651, RMSE_E_per_atom=   390.5 meV, RMSE_F=   244.8 meV / A\n",
            "2024-09-05 17:05:19.486 INFO: Epoch 173: head: default, loss=  0.6786, RMSE_E_per_atom=   366.1 meV, RMSE_F=   230.1 meV / A\n",
            "2024-09-05 17:05:19.902 INFO: Epoch 174: head: default, loss=  0.7094, RMSE_E_per_atom=   346.0 meV, RMSE_F=   237.6 meV / A\n",
            "2024-09-05 17:05:20.344 INFO: Epoch 175: head: default, loss=  0.8651, RMSE_E_per_atom=   359.3 meV, RMSE_F=   262.7 meV / A\n",
            "2024-09-05 17:05:20.782 INFO: Epoch 176: head: default, loss=  0.7591, RMSE_E_per_atom=   401.7 meV, RMSE_F=   250.4 meV / A\n",
            "2024-09-05 17:05:21.214 INFO: Epoch 177: head: default, loss=  0.8748, RMSE_E_per_atom=   351.6 meV, RMSE_F=   261.4 meV / A\n",
            "2024-09-05 17:05:21.646 INFO: Epoch 178: head: default, loss=  0.7940, RMSE_E_per_atom=   391.8 meV, RMSE_F=   249.9 meV / A\n",
            "2024-09-05 17:05:22.076 INFO: Epoch 179: head: default, loss=  0.7301, RMSE_E_per_atom=   380.7 meV, RMSE_F=   244.6 meV / A\n",
            "2024-09-05 17:05:22.506 INFO: Epoch 180: head: default, loss=  0.5412, RMSE_E_per_atom=   376.7 meV, RMSE_F=   203.9 meV / A\n",
            "2024-09-05 17:05:22.949 INFO: Epoch 181: head: default, loss=  0.6957, RMSE_E_per_atom=   385.3 meV, RMSE_F=   233.7 meV / A\n",
            "2024-09-05 17:05:23.369 INFO: Epoch 182: head: default, loss=  0.6502, RMSE_E_per_atom=   366.9 meV, RMSE_F=   224.0 meV / A\n",
            "2024-09-05 17:05:23.790 INFO: Epoch 183: head: default, loss=  0.6279, RMSE_E_per_atom=   335.8 meV, RMSE_F=   225.8 meV / A\n",
            "2024-09-05 17:05:24.210 INFO: Epoch 184: head: default, loss=  0.7414, RMSE_E_per_atom=   383.6 meV, RMSE_F=   244.5 meV / A\n",
            "2024-09-05 17:05:24.641 INFO: Epoch 185: head: default, loss=  0.9086, RMSE_E_per_atom=   327.0 meV, RMSE_F=   269.5 meV / A\n",
            "2024-09-05 17:05:25.064 INFO: Epoch 186: head: default, loss=  0.7899, RMSE_E_per_atom=   305.5 meV, RMSE_F=   251.7 meV / A\n",
            "2024-09-05 17:05:25.489 INFO: Epoch 187: head: default, loss=  0.8281, RMSE_E_per_atom=   375.2 meV, RMSE_F=   260.9 meV / A\n",
            "2024-09-05 17:05:25.932 INFO: Epoch 188: head: default, loss=  0.7464, RMSE_E_per_atom=   367.6 meV, RMSE_F=   246.6 meV / A\n",
            "2024-09-05 17:05:26.354 INFO: Epoch 189: head: default, loss=  0.9922, RMSE_E_per_atom=   344.8 meV, RMSE_F=   282.5 meV / A\n",
            "2024-09-05 17:05:26.799 INFO: Epoch 190: head: default, loss=  0.7268, RMSE_E_per_atom=   334.8 meV, RMSE_F=   239.4 meV / A\n",
            "2024-09-05 17:05:27.253 INFO: Epoch 191: head: default, loss=  0.9101, RMSE_E_per_atom=   392.0 meV, RMSE_F=   278.1 meV / A\n",
            "2024-09-05 17:05:27.685 INFO: Epoch 192: head: default, loss=  0.7883, RMSE_E_per_atom=   305.3 meV, RMSE_F=   252.0 meV / A\n",
            "2024-09-05 17:05:28.096 INFO: Epoch 193: head: default, loss=  0.7797, RMSE_E_per_atom=   354.0 meV, RMSE_F=   248.0 meV / A\n",
            "2024-09-05 17:05:28.510 INFO: Epoch 194: head: default, loss=  0.9551, RMSE_E_per_atom=   399.8 meV, RMSE_F=   282.3 meV / A\n",
            "2024-09-05 17:05:28.917 INFO: Epoch 195: head: default, loss=  1.1252, RMSE_E_per_atom=   345.4 meV, RMSE_F=   304.7 meV / A\n",
            "2024-09-05 17:05:29.340 INFO: Epoch 196: head: default, loss=  1.1463, RMSE_E_per_atom=   413.4 meV, RMSE_F=   305.5 meV / A\n",
            "2024-09-05 17:05:29.757 INFO: Epoch 197: head: default, loss=  0.8831, RMSE_E_per_atom=   396.9 meV, RMSE_F=   268.4 meV / A\n",
            "2024-09-05 17:05:30.184 INFO: Epoch 198: head: default, loss=  0.8538, RMSE_E_per_atom=   410.4 meV, RMSE_F=   259.6 meV / A\n",
            "2024-09-05 17:05:30.621 INFO: Epoch 199: head: default, loss=  0.5440, RMSE_E_per_atom=   419.7 meV, RMSE_F=   203.8 meV / A\n",
            "2024-09-05 17:05:31.086 INFO: Epoch 200: head: default, loss=  0.7249, RMSE_E_per_atom=   435.6 meV, RMSE_F=   243.1 meV / A\n",
            "2024-09-05 17:05:31.513 INFO: Epoch 201: head: default, loss=  0.8430, RMSE_E_per_atom=   420.5 meV, RMSE_F=   258.6 meV / A\n",
            "2024-09-05 17:05:31.967 INFO: Epoch 202: head: default, loss=  0.9517, RMSE_E_per_atom=   374.1 meV, RMSE_F=   280.8 meV / A\n",
            "2024-09-05 17:05:32.401 INFO: Epoch 203: head: default, loss=  0.8201, RMSE_E_per_atom=   333.6 meV, RMSE_F=   255.4 meV / A\n",
            "2024-09-05 17:05:32.817 INFO: Epoch 204: head: default, loss=  0.6101, RMSE_E_per_atom=   390.4 meV, RMSE_F=   219.1 meV / A\n",
            "2024-09-05 17:05:33.227 INFO: Epoch 205: head: default, loss=  1.0985, RMSE_E_per_atom=   396.0 meV, RMSE_F=   302.7 meV / A\n",
            "2024-09-05 17:05:33.649 INFO: Epoch 206: head: default, loss=  0.7741, RMSE_E_per_atom=   444.3 meV, RMSE_F=   251.0 meV / A\n",
            "2024-09-05 17:05:34.060 INFO: Epoch 207: head: default, loss=  0.6792, RMSE_E_per_atom=   397.4 meV, RMSE_F=   229.8 meV / A\n",
            "2024-09-05 17:05:34.472 INFO: Epoch 208: head: default, loss=  1.0279, RMSE_E_per_atom=   379.3 meV, RMSE_F=   294.2 meV / A\n",
            "2024-09-05 17:05:34.881 INFO: Epoch 209: head: default, loss=  0.7880, RMSE_E_per_atom=   404.2 meV, RMSE_F=   253.8 meV / A\n",
            "2024-09-05 17:05:35.301 INFO: Epoch 210: head: default, loss=  0.6412, RMSE_E_per_atom=   443.3 meV, RMSE_F=   222.6 meV / A\n",
            "2024-09-05 17:05:35.709 INFO: Epoch 211: head: default, loss=  0.6418, RMSE_E_per_atom=   419.1 meV, RMSE_F=   224.3 meV / A\n",
            "2024-09-05 17:05:36.127 INFO: Epoch 212: head: default, loss=  0.9048, RMSE_E_per_atom=   420.6 meV, RMSE_F=   268.2 meV / A\n",
            "2024-09-05 17:05:36.541 INFO: Epoch 213: head: default, loss=  0.9162, RMSE_E_per_atom=   438.5 meV, RMSE_F=   272.8 meV / A\n",
            "2024-09-05 17:05:36.976 INFO: Epoch 214: head: default, loss=  0.7822, RMSE_E_per_atom=   469.6 meV, RMSE_F=   247.0 meV / A\n",
            "2024-09-05 17:05:37.413 INFO: Epoch 215: head: default, loss=  0.7359, RMSE_E_per_atom=   479.2 meV, RMSE_F=   242.4 meV / A\n",
            "2024-09-05 17:05:37.819 INFO: Epoch 216: head: default, loss=  0.5772, RMSE_E_per_atom=   437.7 meV, RMSE_F=   209.3 meV / A\n",
            "2024-09-05 17:05:38.230 INFO: Epoch 217: head: default, loss=  0.6885, RMSE_E_per_atom=   441.1 meV, RMSE_F=   236.1 meV / A\n",
            "2024-09-05 17:05:38.651 INFO: Epoch 218: head: default, loss=  0.8207, RMSE_E_per_atom=   427.0 meV, RMSE_F=   254.7 meV / A\n",
            "2024-09-05 17:05:39.085 INFO: Epoch 219: head: default, loss=  0.8163, RMSE_E_per_atom=   380.0 meV, RMSE_F=   260.7 meV / A\n",
            "2024-09-05 17:05:39.519 INFO: Epoch 220: head: default, loss=  0.8167, RMSE_E_per_atom=   456.6 meV, RMSE_F=   254.9 meV / A\n",
            "2024-09-05 17:05:39.952 INFO: Epoch 221: head: default, loss=  0.5822, RMSE_E_per_atom=   442.7 meV, RMSE_F=   210.8 meV / A\n",
            "2024-09-05 17:05:40.374 INFO: Epoch 222: head: default, loss=  0.6102, RMSE_E_per_atom=   441.8 meV, RMSE_F=   216.8 meV / A\n",
            "2024-09-05 17:05:40.810 INFO: Epoch 223: head: default, loss=  0.6725, RMSE_E_per_atom=   398.7 meV, RMSE_F=   232.2 meV / A\n",
            "2024-09-05 17:05:41.225 INFO: Epoch 224: head: default, loss=  0.7114, RMSE_E_per_atom=   402.8 meV, RMSE_F=   238.0 meV / A\n",
            "2024-09-05 17:05:41.652 INFO: Epoch 225: head: default, loss=  0.7708, RMSE_E_per_atom=   338.9 meV, RMSE_F=   246.9 meV / A\n",
            "2024-09-05 17:05:42.107 INFO: Epoch 226: head: default, loss=  0.6658, RMSE_E_per_atom=   466.2 meV, RMSE_F=   232.3 meV / A\n",
            "2024-09-05 17:05:42.559 INFO: Epoch 227: head: default, loss=  0.7173, RMSE_E_per_atom=   411.8 meV, RMSE_F=   235.7 meV / A\n",
            "2024-09-05 17:05:43.001 INFO: Epoch 228: head: default, loss=  0.7174, RMSE_E_per_atom=   418.6 meV, RMSE_F=   241.5 meV / A\n",
            "2024-09-05 17:05:43.465 INFO: Epoch 229: head: default, loss=  1.1509, RMSE_E_per_atom=   420.6 meV, RMSE_F=   305.1 meV / A\n",
            "2024-09-05 17:05:43.938 INFO: Epoch 230: head: default, loss=  0.9588, RMSE_E_per_atom=   422.5 meV, RMSE_F=   282.5 meV / A\n",
            "2024-09-05 17:05:44.366 INFO: Epoch 231: head: default, loss=  0.9051, RMSE_E_per_atom=   488.9 meV, RMSE_F=   269.6 meV / A\n",
            "2024-09-05 17:05:44.824 INFO: Epoch 232: head: default, loss=  1.0811, RMSE_E_per_atom=   441.0 meV, RMSE_F=   295.2 meV / A\n",
            "2024-09-05 17:05:45.266 INFO: Epoch 233: head: default, loss=  0.6994, RMSE_E_per_atom=   444.9 meV, RMSE_F=   235.6 meV / A\n",
            "2024-09-05 17:05:45.691 INFO: Epoch 234: head: default, loss=  0.7439, RMSE_E_per_atom=   395.0 meV, RMSE_F=   245.3 meV / A\n",
            "2024-09-05 17:05:46.107 INFO: Epoch 235: head: default, loss=  0.6294, RMSE_E_per_atom=   402.7 meV, RMSE_F=   222.8 meV / A\n",
            "2024-09-05 17:05:46.518 INFO: Epoch 236: head: default, loss=  0.6267, RMSE_E_per_atom=   454.5 meV, RMSE_F=   225.5 meV / A\n",
            "2024-09-05 17:05:46.938 INFO: Epoch 237: head: default, loss=  0.6969, RMSE_E_per_atom=   304.6 meV, RMSE_F=   236.8 meV / A\n",
            "2024-09-05 17:05:47.373 INFO: Epoch 238: head: default, loss=  0.5925, RMSE_E_per_atom=   388.9 meV, RMSE_F=   218.2 meV / A\n",
            "2024-09-05 17:05:47.795 INFO: Epoch 239: head: default, loss=  0.7882, RMSE_E_per_atom=   317.8 meV, RMSE_F=   248.9 meV / A\n",
            "2024-09-05 17:05:48.217 INFO: Epoch 240: head: default, loss=  0.7339, RMSE_E_per_atom=   352.5 meV, RMSE_F=   247.7 meV / A\n",
            "2024-09-05 17:05:48.661 INFO: Epoch 241: head: default, loss=  0.6253, RMSE_E_per_atom=   355.2 meV, RMSE_F=   220.8 meV / A\n",
            "2024-09-05 17:05:49.106 INFO: Epoch 242: head: default, loss=  0.5476, RMSE_E_per_atom=   314.1 meV, RMSE_F=   207.1 meV / A\n",
            "2024-09-05 17:05:49.544 INFO: Epoch 243: head: default, loss=  0.7036, RMSE_E_per_atom=   378.9 meV, RMSE_F=   237.9 meV / A\n",
            "2024-09-05 17:05:49.973 INFO: Epoch 244: head: default, loss=  0.7073, RMSE_E_per_atom=   313.7 meV, RMSE_F=   237.0 meV / A\n",
            "2024-09-05 17:05:50.394 INFO: Epoch 245: head: default, loss=  0.5095, RMSE_E_per_atom=   329.3 meV, RMSE_F=   200.5 meV / A\n",
            "2024-09-05 17:05:50.827 INFO: Epoch 246: head: default, loss=  0.6954, RMSE_E_per_atom=   293.6 meV, RMSE_F=   234.3 meV / A\n",
            "2024-09-05 17:05:51.251 INFO: Epoch 247: head: default, loss=  0.5317, RMSE_E_per_atom=   379.1 meV, RMSE_F=   207.0 meV / A\n",
            "2024-09-05 17:05:51.692 INFO: Epoch 248: head: default, loss=  0.6022, RMSE_E_per_atom=   311.7 meV, RMSE_F=   219.6 meV / A\n",
            "2024-09-05 17:05:52.113 INFO: Epoch 249: head: default, loss=  0.5567, RMSE_E_per_atom=   344.5 meV, RMSE_F=   211.9 meV / A\n",
            "2024-09-05 17:05:52.545 INFO: Epoch 250: head: default, loss=  0.5905, RMSE_E_per_atom=   294.2 meV, RMSE_F=   215.4 meV / A\n",
            "2024-09-05 17:05:52.972 INFO: Epoch 251: head: default, loss=  0.5614, RMSE_E_per_atom=   277.8 meV, RMSE_F=   207.8 meV / A\n",
            "2024-09-05 17:05:53.403 INFO: Epoch 252: head: default, loss=  0.5543, RMSE_E_per_atom=   323.6 meV, RMSE_F=   210.7 meV / A\n",
            "2024-09-05 17:05:53.821 INFO: Epoch 253: head: default, loss=  0.4813, RMSE_E_per_atom=   319.3 meV, RMSE_F=   193.0 meV / A\n",
            "2024-09-05 17:05:54.293 INFO: Epoch 254: head: default, loss=  0.5353, RMSE_E_per_atom=   302.8 meV, RMSE_F=   203.1 meV / A\n",
            "2024-09-05 17:05:54.721 INFO: Epoch 255: head: default, loss=  0.9047, RMSE_E_per_atom=   279.1 meV, RMSE_F=   272.6 meV / A\n",
            "2024-09-05 17:05:55.169 INFO: Epoch 256: head: default, loss=  0.8548, RMSE_E_per_atom=   289.9 meV, RMSE_F=   263.4 meV / A\n",
            "2024-09-05 17:05:55.598 INFO: Epoch 257: head: default, loss=  0.7116, RMSE_E_per_atom=   306.1 meV, RMSE_F=   239.9 meV / A\n",
            "2024-09-05 17:05:56.021 INFO: Epoch 258: head: default, loss=  0.5458, RMSE_E_per_atom=   268.7 meV, RMSE_F=   209.5 meV / A\n",
            "2024-09-05 17:05:56.442 INFO: Epoch 259: head: default, loss=  0.5485, RMSE_E_per_atom=   295.5 meV, RMSE_F=   203.9 meV / A\n",
            "2024-09-05 17:05:56.874 INFO: Epoch 260: head: default, loss=  0.5962, RMSE_E_per_atom=   271.3 meV, RMSE_F=   217.3 meV / A\n",
            "2024-09-05 17:05:57.338 INFO: Epoch 261: head: default, loss=  0.5703, RMSE_E_per_atom=   331.5 meV, RMSE_F=   211.5 meV / A\n",
            "2024-09-05 17:05:57.760 INFO: Epoch 262: head: default, loss=  0.5092, RMSE_E_per_atom=   325.6 meV, RMSE_F=   199.7 meV / A\n",
            "2024-09-05 17:05:58.208 INFO: Epoch 263: head: default, loss=  0.4771, RMSE_E_per_atom=   328.5 meV, RMSE_F=   190.5 meV / A\n",
            "2024-09-05 17:05:58.693 INFO: Epoch 264: head: default, loss=  0.5441, RMSE_E_per_atom=   306.8 meV, RMSE_F=   202.9 meV / A\n",
            "2024-09-05 17:05:59.140 INFO: Epoch 265: head: default, loss=  0.5700, RMSE_E_per_atom=   277.1 meV, RMSE_F=   213.9 meV / A\n",
            "2024-09-05 17:05:59.573 INFO: Epoch 266: head: default, loss=  0.4579, RMSE_E_per_atom=   304.8 meV, RMSE_F=   190.2 meV / A\n",
            "2024-09-05 17:06:00.032 INFO: Epoch 267: head: default, loss=  0.4849, RMSE_E_per_atom=   257.5 meV, RMSE_F=   189.7 meV / A\n",
            "2024-09-05 17:06:00.474 INFO: Epoch 268: head: default, loss=  0.4653, RMSE_E_per_atom=   264.1 meV, RMSE_F=   190.5 meV / A\n",
            "2024-09-05 17:06:00.904 INFO: Epoch 269: head: default, loss=  0.4788, RMSE_E_per_atom=   283.5 meV, RMSE_F=   191.7 meV / A\n",
            "2024-09-05 17:06:01.307 INFO: Epoch 270: head: default, loss=  0.4847, RMSE_E_per_atom=   280.3 meV, RMSE_F=   194.7 meV / A\n",
            "2024-09-05 17:06:01.717 INFO: Epoch 271: head: default, loss=  0.4713, RMSE_E_per_atom=   262.4 meV, RMSE_F=   191.0 meV / A\n",
            "2024-09-05 17:06:02.125 INFO: Epoch 272: head: default, loss=  0.5808, RMSE_E_per_atom=   269.5 meV, RMSE_F=   210.4 meV / A\n",
            "2024-09-05 17:06:02.541 INFO: Epoch 273: head: default, loss=  0.4626, RMSE_E_per_atom=   260.3 meV, RMSE_F=   192.0 meV / A\n",
            "2024-09-05 17:06:02.957 INFO: Epoch 274: head: default, loss=  0.4220, RMSE_E_per_atom=   280.1 meV, RMSE_F=   179.2 meV / A\n",
            "2024-09-05 17:06:03.398 INFO: Epoch 275: head: default, loss=  0.4909, RMSE_E_per_atom=   257.7 meV, RMSE_F=   193.9 meV / A\n",
            "2024-09-05 17:06:03.813 INFO: Epoch 276: head: default, loss=  0.4812, RMSE_E_per_atom=   291.1 meV, RMSE_F=   196.0 meV / A\n",
            "2024-09-05 17:06:04.243 INFO: Epoch 277: head: default, loss=  0.4864, RMSE_E_per_atom=   223.8 meV, RMSE_F=   192.6 meV / A\n",
            "2024-09-05 17:06:04.660 INFO: Epoch 278: head: default, loss=  0.4417, RMSE_E_per_atom=   279.8 meV, RMSE_F=   184.9 meV / A\n",
            "2024-09-05 17:06:05.090 INFO: Epoch 279: head: default, loss=  0.4483, RMSE_E_per_atom=   228.6 meV, RMSE_F=   187.0 meV / A\n",
            "2024-09-05 17:06:05.548 INFO: Epoch 280: head: default, loss=  0.4385, RMSE_E_per_atom=   257.2 meV, RMSE_F=   187.5 meV / A\n",
            "2024-09-05 17:06:05.961 INFO: Epoch 281: head: default, loss=  0.5200, RMSE_E_per_atom=   240.7 meV, RMSE_F=   199.2 meV / A\n",
            "2024-09-05 17:06:06.378 INFO: Epoch 282: head: default, loss=  0.5909, RMSE_E_per_atom=   283.2 meV, RMSE_F=   214.2 meV / A\n",
            "2024-09-05 17:06:06.793 INFO: Epoch 283: head: default, loss=  0.5567, RMSE_E_per_atom=   276.0 meV, RMSE_F=   210.2 meV / A\n",
            "2024-09-05 17:06:07.211 INFO: Epoch 284: head: default, loss=  0.4727, RMSE_E_per_atom=   286.4 meV, RMSE_F=   194.1 meV / A\n",
            "2024-09-05 17:06:07.625 INFO: Epoch 285: head: default, loss=  0.5876, RMSE_E_per_atom=   309.8 meV, RMSE_F=   213.2 meV / A\n",
            "2024-09-05 17:06:08.037 INFO: Epoch 286: head: default, loss=  0.4887, RMSE_E_per_atom=   260.2 meV, RMSE_F=   196.0 meV / A\n",
            "2024-09-05 17:06:08.467 INFO: Epoch 287: head: default, loss=  0.6032, RMSE_E_per_atom=   305.8 meV, RMSE_F=   222.5 meV / A\n",
            "2024-09-05 17:06:08.893 INFO: Epoch 288: head: default, loss=  0.6730, RMSE_E_per_atom=   279.7 meV, RMSE_F=   227.4 meV / A\n",
            "2024-09-05 17:06:09.321 INFO: Epoch 289: head: default, loss=  0.5494, RMSE_E_per_atom=   306.5 meV, RMSE_F=   210.7 meV / A\n",
            "2024-09-05 17:06:09.768 INFO: Epoch 290: head: default, loss=  0.5667, RMSE_E_per_atom=   288.5 meV, RMSE_F=   207.8 meV / A\n",
            "2024-09-05 17:06:10.197 INFO: Epoch 291: head: default, loss=  0.4364, RMSE_E_per_atom=   261.8 meV, RMSE_F=   182.4 meV / A\n",
            "2024-09-05 17:06:10.633 INFO: Epoch 292: head: default, loss=  0.5201, RMSE_E_per_atom=   295.7 meV, RMSE_F=   203.9 meV / A\n",
            "2024-09-05 17:06:11.072 INFO: Epoch 293: head: default, loss=  0.6357, RMSE_E_per_atom=   280.7 meV, RMSE_F=   221.0 meV / A\n",
            "2024-09-05 17:06:11.564 INFO: Epoch 294: head: default, loss=  0.6356, RMSE_E_per_atom=   280.4 meV, RMSE_F=   227.8 meV / A\n",
            "2024-09-05 17:06:12.016 INFO: Epoch 295: head: default, loss=  0.5815, RMSE_E_per_atom=   292.9 meV, RMSE_F=   212.8 meV / A\n",
            "2024-09-05 17:06:12.441 INFO: Epoch 296: head: default, loss=  0.4999, RMSE_E_per_atom=   265.1 meV, RMSE_F=   195.5 meV / A\n",
            "2024-09-05 17:06:12.861 INFO: Epoch 297: head: default, loss=  0.4776, RMSE_E_per_atom=   304.2 meV, RMSE_F=   194.2 meV / A\n",
            "2024-09-05 17:06:13.287 INFO: Epoch 298: head: default, loss=  0.4872, RMSE_E_per_atom=   259.7 meV, RMSE_F=   196.0 meV / A\n",
            "2024-09-05 17:06:13.706 INFO: Epoch 299: head: default, loss=  0.4213, RMSE_E_per_atom=   282.9 meV, RMSE_F=   178.0 meV / A\n",
            "2024-09-05 17:06:14.145 INFO: Epoch 300: head: default, loss=  0.4555, RMSE_E_per_atom=   251.5 meV, RMSE_F=   185.5 meV / A\n",
            "2024-09-05 17:06:14.603 INFO: Epoch 301: head: default, loss=  0.4363, RMSE_E_per_atom=   269.9 meV, RMSE_F=   182.8 meV / A\n",
            "2024-09-05 17:06:15.016 INFO: Epoch 302: head: default, loss=  0.4113, RMSE_E_per_atom=   214.0 meV, RMSE_F=   176.1 meV / A\n",
            "2024-09-05 17:06:15.456 INFO: Epoch 303: head: default, loss=  0.5015, RMSE_E_per_atom=   241.4 meV, RMSE_F=   202.2 meV / A\n",
            "2024-09-05 17:06:15.897 INFO: Epoch 304: head: default, loss=  0.5867, RMSE_E_per_atom=   204.0 meV, RMSE_F=   214.4 meV / A\n",
            "2024-09-05 17:06:16.317 INFO: Epoch 305: head: default, loss=  0.4763, RMSE_E_per_atom=   251.9 meV, RMSE_F=   191.3 meV / A\n",
            "2024-09-05 17:06:16.737 INFO: Epoch 306: head: default, loss=  0.5264, RMSE_E_per_atom=   293.8 meV, RMSE_F=   205.5 meV / A\n",
            "2024-09-05 17:06:17.153 INFO: Epoch 307: head: default, loss=  0.5008, RMSE_E_per_atom=   270.7 meV, RMSE_F=   197.1 meV / A\n",
            "2024-09-05 17:06:17.611 INFO: Epoch 308: head: default, loss=  0.4512, RMSE_E_per_atom=   335.4 meV, RMSE_F=   188.8 meV / A\n",
            "2024-09-05 17:06:18.026 INFO: Epoch 309: head: default, loss=  0.5263, RMSE_E_per_atom=   298.1 meV, RMSE_F=   200.5 meV / A\n",
            "2024-09-05 17:06:18.444 INFO: Epoch 310: head: default, loss=  0.5413, RMSE_E_per_atom=   291.1 meV, RMSE_F=   208.5 meV / A\n",
            "2024-09-05 17:06:18.858 INFO: Epoch 311: head: default, loss=  0.4941, RMSE_E_per_atom=   276.4 meV, RMSE_F=   199.8 meV / A\n",
            "2024-09-05 17:06:19.277 INFO: Epoch 312: head: default, loss=  0.5441, RMSE_E_per_atom=   280.9 meV, RMSE_F=   205.0 meV / A\n",
            "2024-09-05 17:06:19.694 INFO: Epoch 313: head: default, loss=  0.4489, RMSE_E_per_atom=   287.5 meV, RMSE_F=   186.4 meV / A\n",
            "2024-09-05 17:06:20.119 INFO: Epoch 314: head: default, loss=  0.5069, RMSE_E_per_atom=   273.1 meV, RMSE_F=   202.0 meV / A\n",
            "2024-09-05 17:06:20.539 INFO: Epoch 315: head: default, loss=  0.4955, RMSE_E_per_atom=   282.3 meV, RMSE_F=   193.8 meV / A\n",
            "2024-09-05 17:06:20.959 INFO: Epoch 316: head: default, loss=  0.6277, RMSE_E_per_atom=   264.3 meV, RMSE_F=   223.0 meV / A\n",
            "2024-09-05 17:06:21.411 INFO: Epoch 317: head: default, loss=  0.5948, RMSE_E_per_atom=   304.2 meV, RMSE_F=   218.4 meV / A\n",
            "2024-09-05 17:06:21.846 INFO: Epoch 318: head: default, loss=  0.4633, RMSE_E_per_atom=   329.1 meV, RMSE_F=   192.5 meV / A\n",
            "2024-09-05 17:06:22.299 INFO: Epoch 319: head: default, loss=  0.4739, RMSE_E_per_atom=   271.1 meV, RMSE_F=   187.4 meV / A\n",
            "2024-09-05 17:06:22.765 INFO: Epoch 320: head: default, loss=  0.4615, RMSE_E_per_atom=   286.4 meV, RMSE_F=   188.4 meV / A\n",
            "2024-09-05 17:06:23.246 INFO: Epoch 321: head: default, loss=  0.5795, RMSE_E_per_atom=   279.0 meV, RMSE_F=   213.0 meV / A\n",
            "2024-09-05 17:06:23.681 INFO: Epoch 322: head: default, loss=  0.4953, RMSE_E_per_atom=   296.5 meV, RMSE_F=   197.4 meV / A\n",
            "2024-09-05 17:06:24.095 INFO: Epoch 323: head: default, loss=  0.5180, RMSE_E_per_atom=   283.4 meV, RMSE_F=   198.5 meV / A\n",
            "2024-09-05 17:06:24.514 INFO: Epoch 324: head: default, loss=  0.5759, RMSE_E_per_atom=   280.9 meV, RMSE_F=   210.2 meV / A\n",
            "2024-09-05 17:06:24.944 INFO: Epoch 325: head: default, loss=  0.5952, RMSE_E_per_atom=   255.5 meV, RMSE_F=   222.0 meV / A\n",
            "2024-09-05 17:06:25.363 INFO: Epoch 326: head: default, loss=  0.5753, RMSE_E_per_atom=   274.3 meV, RMSE_F=   209.1 meV / A\n",
            "2024-09-05 17:06:25.793 INFO: Epoch 327: head: default, loss=  0.4851, RMSE_E_per_atom=   288.1 meV, RMSE_F=   194.9 meV / A\n",
            "2024-09-05 17:06:26.208 INFO: Epoch 328: head: default, loss=  0.4931, RMSE_E_per_atom=   288.2 meV, RMSE_F=   196.0 meV / A\n",
            "2024-09-05 17:06:26.627 INFO: Epoch 329: head: default, loss=  0.6420, RMSE_E_per_atom=   299.8 meV, RMSE_F=   224.7 meV / A\n",
            "2024-09-05 17:06:27.044 INFO: Epoch 330: head: default, loss=  0.7559, RMSE_E_per_atom=   268.9 meV, RMSE_F=   248.8 meV / A\n",
            "2024-09-05 17:06:27.460 INFO: Epoch 331: head: default, loss=  0.7775, RMSE_E_per_atom=   288.2 meV, RMSE_F=   251.7 meV / A\n",
            "2024-09-05 17:06:27.881 INFO: Epoch 332: head: default, loss=  0.5278, RMSE_E_per_atom=   295.4 meV, RMSE_F=   204.4 meV / A\n",
            "2024-09-05 17:06:28.307 INFO: Epoch 333: head: default, loss=  0.4300, RMSE_E_per_atom=   283.0 meV, RMSE_F=   179.5 meV / A\n",
            "2024-09-05 17:06:28.740 INFO: Epoch 334: head: default, loss=  0.4658, RMSE_E_per_atom=   316.2 meV, RMSE_F=   194.5 meV / A\n",
            "2024-09-05 17:06:29.161 INFO: Epoch 335: head: default, loss=  0.7360, RMSE_E_per_atom=   267.3 meV, RMSE_F=   237.7 meV / A\n",
            "2024-09-05 17:06:29.590 INFO: Epoch 336: head: default, loss=  0.7165, RMSE_E_per_atom=   328.6 meV, RMSE_F=   244.7 meV / A\n",
            "2024-09-05 17:06:30.017 INFO: Epoch 337: head: default, loss=  0.6825, RMSE_E_per_atom=   296.2 meV, RMSE_F=   233.4 meV / A\n",
            "2024-09-05 17:06:30.439 INFO: Epoch 338: head: default, loss=  0.5715, RMSE_E_per_atom=   280.8 meV, RMSE_F=   210.4 meV / A\n",
            "2024-09-05 17:06:30.882 INFO: Epoch 339: head: default, loss=  0.4529, RMSE_E_per_atom=   324.9 meV, RMSE_F=   188.1 meV / A\n",
            "2024-09-05 17:06:31.314 INFO: Epoch 340: head: default, loss=  0.4310, RMSE_E_per_atom=   272.6 meV, RMSE_F=   179.1 meV / A\n",
            "2024-09-05 17:06:31.729 INFO: Epoch 341: head: default, loss=  0.4103, RMSE_E_per_atom=   305.5 meV, RMSE_F=   177.8 meV / A\n",
            "2024-09-05 17:06:32.184 INFO: Epoch 342: head: default, loss=  0.4386, RMSE_E_per_atom=   267.3 meV, RMSE_F=   182.5 meV / A\n",
            "2024-09-05 17:06:32.607 INFO: Epoch 343: head: default, loss=  0.4173, RMSE_E_per_atom=   254.8 meV, RMSE_F=   178.5 meV / A\n",
            "2024-09-05 17:06:33.024 INFO: Epoch 344: head: default, loss=  0.4430, RMSE_E_per_atom=   276.4 meV, RMSE_F=   185.4 meV / A\n",
            "2024-09-05 17:06:33.467 INFO: Epoch 345: head: default, loss=  0.4724, RMSE_E_per_atom=   230.3 meV, RMSE_F=   191.0 meV / A\n",
            "2024-09-05 17:06:33.894 INFO: Epoch 346: head: default, loss=  0.4382, RMSE_E_per_atom=   286.3 meV, RMSE_F=   185.1 meV / A\n",
            "2024-09-05 17:06:34.342 INFO: Epoch 347: head: default, loss=  0.5058, RMSE_E_per_atom=   249.4 meV, RMSE_F=   197.0 meV / A\n",
            "2024-09-05 17:06:34.815 INFO: Epoch 348: head: default, loss=  0.4148, RMSE_E_per_atom=   289.7 meV, RMSE_F=   181.3 meV / A\n",
            "2024-09-05 17:06:35.244 INFO: Epoch 349: head: default, loss=  0.4323, RMSE_E_per_atom=   237.6 meV, RMSE_F=   180.5 meV / A\n",
            "2024-09-05 17:06:35.679 INFO: Epoch 350: head: default, loss=  0.4154, RMSE_E_per_atom=   238.5 meV, RMSE_F=   177.1 meV / A\n",
            "2024-09-05 17:06:36.102 INFO: Epoch 351: head: default, loss=  0.4261, RMSE_E_per_atom=   262.9 meV, RMSE_F=   180.0 meV / A\n",
            "2024-09-05 17:06:36.520 INFO: Epoch 352: head: default, loss=  0.5169, RMSE_E_per_atom=   250.6 meV, RMSE_F=   203.7 meV / A\n",
            "2024-09-05 17:06:36.934 INFO: Epoch 353: head: default, loss=  0.4299, RMSE_E_per_atom=   294.1 meV, RMSE_F=   184.5 meV / A\n",
            "2024-09-05 17:06:37.359 INFO: Epoch 354: head: default, loss=  0.4863, RMSE_E_per_atom=   235.6 meV, RMSE_F=   190.2 meV / A\n",
            "2024-09-05 17:06:37.774 INFO: Epoch 355: head: default, loss=  0.5284, RMSE_E_per_atom=   273.4 meV, RMSE_F=   202.9 meV / A\n",
            "2024-09-05 17:06:38.200 INFO: Epoch 356: head: default, loss=  0.4886, RMSE_E_per_atom=   268.8 meV, RMSE_F=   197.7 meV / A\n",
            "2024-09-05 17:06:38.605 INFO: Epoch 357: head: default, loss=  0.4115, RMSE_E_per_atom=   277.2 meV, RMSE_F=   179.7 meV / A\n",
            "2024-09-05 17:06:39.047 INFO: Epoch 358: head: default, loss=  0.3813, RMSE_E_per_atom=   254.0 meV, RMSE_F=   170.4 meV / A\n",
            "2024-09-05 17:06:39.477 INFO: Epoch 359: head: default, loss=  0.4121, RMSE_E_per_atom=   245.7 meV, RMSE_F=   175.5 meV / A\n",
            "2024-09-05 17:06:39.882 INFO: Epoch 360: head: default, loss=  0.4885, RMSE_E_per_atom=   292.8 meV, RMSE_F=   197.0 meV / A\n",
            "2024-09-05 17:06:40.327 INFO: Epoch 361: head: default, loss=  0.4707, RMSE_E_per_atom=   270.7 meV, RMSE_F=   188.7 meV / A\n",
            "2024-09-05 17:06:40.750 INFO: Epoch 362: head: default, loss=  0.5821, RMSE_E_per_atom=   239.2 meV, RMSE_F=   218.4 meV / A\n",
            "2024-09-05 17:06:41.186 INFO: Epoch 363: head: default, loss=  0.4977, RMSE_E_per_atom=   243.7 meV, RMSE_F=   195.5 meV / A\n",
            "2024-09-05 17:06:41.613 INFO: Epoch 364: head: default, loss=  0.4865, RMSE_E_per_atom=   233.2 meV, RMSE_F=   198.4 meV / A\n",
            "2024-09-05 17:06:42.061 INFO: Epoch 365: head: default, loss=  0.4982, RMSE_E_per_atom=   248.0 meV, RMSE_F=   196.2 meV / A\n",
            "2024-09-05 17:06:42.501 INFO: Epoch 366: head: default, loss=  0.4455, RMSE_E_per_atom=   262.2 meV, RMSE_F=   187.4 meV / A\n",
            "2024-09-05 17:06:42.947 INFO: Epoch 367: head: default, loss=  0.4576, RMSE_E_per_atom=   257.4 meV, RMSE_F=   187.3 meV / A\n",
            "2024-09-05 17:06:43.406 INFO: Epoch 368: head: default, loss=  0.4080, RMSE_E_per_atom=   248.5 meV, RMSE_F=   176.2 meV / A\n",
            "2024-09-05 17:06:43.869 INFO: Epoch 369: head: default, loss=  0.4595, RMSE_E_per_atom=   258.6 meV, RMSE_F=   186.2 meV / A\n",
            "2024-09-05 17:06:44.297 INFO: Epoch 370: head: default, loss=  0.4503, RMSE_E_per_atom=   247.8 meV, RMSE_F=   189.5 meV / A\n",
            "2024-09-05 17:06:44.709 INFO: Epoch 371: head: default, loss=  0.4392, RMSE_E_per_atom=   252.4 meV, RMSE_F=   184.5 meV / A\n",
            "2024-09-05 17:06:45.146 INFO: Epoch 372: head: default, loss=  0.4849, RMSE_E_per_atom=   240.5 meV, RMSE_F=   190.9 meV / A\n",
            "2024-09-05 17:06:45.602 INFO: Epoch 373: head: default, loss=  0.4356, RMSE_E_per_atom=   247.0 meV, RMSE_F=   186.1 meV / A\n",
            "2024-09-05 17:06:46.035 INFO: Epoch 374: head: default, loss=  0.3963, RMSE_E_per_atom=   241.4 meV, RMSE_F=   172.4 meV / A\n",
            "2024-09-05 17:06:46.036 INFO: Changing loss based on Stage Two Weights\n",
            "2024-09-05 17:06:46.506 INFO: Epoch 375: head: default, loss=  4.9621, RMSE_E_per_atom=   206.3 meV, RMSE_F=   181.9 meV / A\n",
            "2024-09-05 17:06:46.963 INFO: Epoch 376: head: default, loss=  3.9125, RMSE_E_per_atom=   181.3 meV, RMSE_F=   186.2 meV / A\n",
            "2024-09-05 17:06:47.416 INFO: Epoch 377: head: default, loss=  4.6539, RMSE_E_per_atom=   197.1 meV, RMSE_F=   190.0 meV / A\n",
            "2024-09-05 17:06:47.842 INFO: Epoch 378: head: default, loss=  3.5273, RMSE_E_per_atom=   168.0 meV, RMSE_F=   199.4 meV / A\n",
            "2024-09-05 17:06:48.282 INFO: Epoch 379: head: default, loss=  2.9471, RMSE_E_per_atom=   149.7 meV, RMSE_F=   209.4 meV / A\n",
            "2024-09-05 17:06:48.737 INFO: Epoch 380: head: default, loss=  2.0503, RMSE_E_per_atom=   117.3 meV, RMSE_F=   220.8 meV / A\n",
            "2024-09-05 17:06:49.184 INFO: Epoch 381: head: default, loss=  2.7689, RMSE_E_per_atom=   140.8 meV, RMSE_F=   221.2 meV / A\n",
            "2024-09-05 17:06:49.601 INFO: Epoch 382: head: default, loss=  2.6250, RMSE_E_per_atom=   135.7 meV, RMSE_F=   220.4 meV / A\n",
            "2024-09-05 17:06:50.022 INFO: Epoch 383: head: default, loss=  1.2695, RMSE_E_per_atom=    79.9 meV, RMSE_F=   220.2 meV / A\n",
            "2024-09-05 17:06:50.454 INFO: Epoch 384: head: default, loss=  1.0920, RMSE_E_per_atom=    68.5 meV, RMSE_F=   219.9 meV / A\n",
            "2024-09-05 17:06:50.898 INFO: Epoch 385: head: default, loss=  1.1929, RMSE_E_per_atom=    76.0 meV, RMSE_F=   213.3 meV / A\n",
            "2024-09-05 17:06:51.312 INFO: Epoch 386: head: default, loss=  1.4451, RMSE_E_per_atom=    90.1 meV, RMSE_F=   208.3 meV / A\n",
            "2024-09-05 17:06:51.754 INFO: Epoch 387: head: default, loss=  0.8275, RMSE_E_per_atom=    51.2 meV, RMSE_F=   208.8 meV / A\n",
            "2024-09-05 17:06:52.198 INFO: Epoch 388: head: default, loss=  0.8216, RMSE_E_per_atom=    52.5 meV, RMSE_F=   204.0 meV / A\n",
            "2024-09-05 17:06:52.658 INFO: Epoch 389: head: default, loss=  0.7509, RMSE_E_per_atom=    47.8 meV, RMSE_F=   200.3 meV / A\n",
            "2024-09-05 17:06:53.092 INFO: Epoch 390: head: default, loss=  0.7387, RMSE_E_per_atom=    49.0 meV, RMSE_F=   194.2 meV / A\n",
            "2024-09-05 17:06:53.537 INFO: Epoch 391: head: default, loss=  0.6015, RMSE_E_per_atom=    36.3 meV, RMSE_F=   190.5 meV / A\n",
            "2024-09-05 17:06:54.000 INFO: Epoch 392: head: default, loss=  0.5588, RMSE_E_per_atom=    33.2 meV, RMSE_F=   186.1 meV / A\n",
            "2024-09-05 17:06:54.438 INFO: Epoch 393: head: default, loss=  0.9605, RMSE_E_per_atom=    68.8 meV, RMSE_F=   183.7 meV / A\n",
            "2024-09-05 17:06:54.865 INFO: Epoch 394: head: default, loss=  0.6155, RMSE_E_per_atom=    41.6 meV, RMSE_F=   182.3 meV / A\n",
            "2024-09-05 17:06:55.293 INFO: Epoch 395: head: default, loss=  0.5389, RMSE_E_per_atom=    31.1 meV, RMSE_F=   183.7 meV / A\n",
            "2024-09-05 17:06:55.757 INFO: Epoch 396: head: default, loss=  0.5320, RMSE_E_per_atom=    30.9 meV, RMSE_F=   182.2 meV / A\n",
            "2024-09-05 17:06:56.195 INFO: Epoch 397: head: default, loss=  0.5079, RMSE_E_per_atom=    27.5 meV, RMSE_F=   182.1 meV / A\n",
            "2024-09-05 17:06:56.650 INFO: Epoch 398: head: default, loss=  0.5014, RMSE_E_per_atom=    26.4 meV, RMSE_F=   182.5 meV / A\n",
            "2024-09-05 17:06:57.102 INFO: Epoch 399: head: default, loss=  0.5932, RMSE_E_per_atom=    41.1 meV, RMSE_F=   177.2 meV / A\n",
            "2024-09-05 17:06:57.572 INFO: Epoch 400: head: default, loss=  0.5575, RMSE_E_per_atom=    38.5 meV, RMSE_F=   173.7 meV / A\n",
            "2024-09-05 17:06:58.002 INFO: Epoch 401: head: default, loss=  0.4382, RMSE_E_per_atom=    20.1 meV, RMSE_F=   174.2 meV / A\n",
            "2024-09-05 17:06:58.479 INFO: Epoch 402: head: default, loss=  0.5575, RMSE_E_per_atom=    38.0 meV, RMSE_F=   175.6 meV / A\n",
            "2024-09-05 17:06:58.902 INFO: Epoch 403: head: default, loss=  0.4566, RMSE_E_per_atom=    22.5 meV, RMSE_F=   176.4 meV / A\n",
            "2024-09-05 17:06:59.335 INFO: Epoch 404: head: default, loss=  0.4373, RMSE_E_per_atom=    20.1 meV, RMSE_F=   174.4 meV / A\n",
            "2024-09-05 17:06:59.813 INFO: Epoch 405: head: default, loss=  0.8509, RMSE_E_per_atom=    64.9 meV, RMSE_F=   170.0 meV / A\n",
            "2024-09-05 17:07:00.239 INFO: Epoch 406: head: default, loss=  0.5818, RMSE_E_per_atom=    43.3 meV, RMSE_F=   168.5 meV / A\n",
            "2024-09-05 17:07:00.670 INFO: Epoch 407: head: default, loss=  0.4593, RMSE_E_per_atom=    28.0 meV, RMSE_F=   168.7 meV / A\n",
            "2024-09-05 17:07:01.138 INFO: Epoch 408: head: default, loss=  0.4162, RMSE_E_per_atom=    21.1 meV, RMSE_F=   169.2 meV / A\n",
            "2024-09-05 17:07:01.585 INFO: Epoch 409: head: default, loss=  0.3998, RMSE_E_per_atom=    18.2 meV, RMSE_F=   168.6 meV / A\n",
            "2024-09-05 17:07:02.075 INFO: Epoch 410: head: default, loss=  0.4212, RMSE_E_per_atom=    19.1 meV, RMSE_F=   170.4 meV / A\n",
            "2024-09-05 17:07:02.497 INFO: Epoch 411: head: default, loss=  0.5137, RMSE_E_per_atom=    37.6 meV, RMSE_F=   164.9 meV / A\n",
            "2024-09-05 17:07:02.944 INFO: Epoch 412: head: default, loss=  0.4578, RMSE_E_per_atom=    29.6 meV, RMSE_F=   167.8 meV / A\n",
            "2024-09-05 17:07:03.376 INFO: Epoch 413: head: default, loss=  0.3999, RMSE_E_per_atom=    19.9 meV, RMSE_F=   166.1 meV / A\n",
            "2024-09-05 17:07:03.823 INFO: Epoch 414: head: default, loss=  0.4593, RMSE_E_per_atom=    30.3 meV, RMSE_F=   164.6 meV / A\n",
            "2024-09-05 17:07:04.280 INFO: Epoch 415: head: default, loss=  0.4073, RMSE_E_per_atom=    15.2 meV, RMSE_F=   170.0 meV / A\n",
            "2024-09-05 17:07:04.729 INFO: Epoch 416: head: default, loss=  0.4212, RMSE_E_per_atom=    25.1 meV, RMSE_F=   163.3 meV / A\n",
            "2024-09-05 17:07:05.177 INFO: Epoch 417: head: default, loss=  0.3809, RMSE_E_per_atom=    17.5 meV, RMSE_F=   163.4 meV / A\n",
            "2024-09-05 17:07:05.629 INFO: Epoch 418: head: default, loss=  0.3609, RMSE_E_per_atom=    13.6 meV, RMSE_F=   161.7 meV / A\n",
            "2024-09-05 17:07:06.099 INFO: Epoch 419: head: default, loss=  0.3842, RMSE_E_per_atom=    19.5 meV, RMSE_F=   160.4 meV / A\n",
            "2024-09-05 17:07:06.537 INFO: Epoch 420: head: default, loss=  0.3988, RMSE_E_per_atom=    21.6 meV, RMSE_F=   161.7 meV / A\n",
            "2024-09-05 17:07:06.978 INFO: Epoch 421: head: default, loss=  0.4088, RMSE_E_per_atom=    24.8 meV, RMSE_F=   160.8 meV / A\n",
            "2024-09-05 17:07:07.399 INFO: Epoch 422: head: default, loss=  0.3555, RMSE_E_per_atom=    11.6 meV, RMSE_F=   159.9 meV / A\n",
            "2024-09-05 17:07:07.835 INFO: Epoch 423: head: default, loss=  0.3575, RMSE_E_per_atom=    15.7 meV, RMSE_F=   157.8 meV / A\n",
            "2024-09-05 17:07:08.296 INFO: Epoch 424: head: default, loss=  0.5352, RMSE_E_per_atom=    42.6 meV, RMSE_F=   158.6 meV / A\n",
            "2024-09-05 17:07:08.730 INFO: Epoch 425: head: default, loss=  0.4294, RMSE_E_per_atom=    28.4 meV, RMSE_F=   159.2 meV / A\n",
            "2024-09-05 17:07:09.199 INFO: Epoch 426: head: default, loss=  0.5185, RMSE_E_per_atom=    38.4 meV, RMSE_F=   161.3 meV / A\n",
            "2024-09-05 17:07:09.645 INFO: Epoch 427: head: default, loss=  0.4058, RMSE_E_per_atom=    24.7 meV, RMSE_F=   158.8 meV / A\n",
            "2024-09-05 17:07:10.083 INFO: Epoch 428: head: default, loss=  0.3518, RMSE_E_per_atom=    13.4 meV, RMSE_F=   157.8 meV / A\n",
            "2024-09-05 17:07:10.530 INFO: Epoch 429: head: default, loss=  0.3409, RMSE_E_per_atom=    11.0 meV, RMSE_F=   157.5 meV / A\n",
            "2024-09-05 17:07:10.989 INFO: Epoch 430: head: default, loss=  0.4993, RMSE_E_per_atom=    38.9 meV, RMSE_F=   157.5 meV / A\n",
            "2024-09-05 17:07:11.418 INFO: Epoch 431: head: default, loss=  0.4181, RMSE_E_per_atom=    26.8 meV, RMSE_F=   158.5 meV / A\n",
            "2024-09-05 17:07:11.835 INFO: Epoch 432: head: default, loss=  0.4637, RMSE_E_per_atom=    33.5 meV, RMSE_F=   159.2 meV / A\n",
            "2024-09-05 17:07:12.311 INFO: Epoch 433: head: default, loss=  0.4598, RMSE_E_per_atom=    33.7 meV, RMSE_F=   159.3 meV / A\n",
            "2024-09-05 17:07:12.739 INFO: Epoch 434: head: default, loss=  0.3470, RMSE_E_per_atom=    12.8 meV, RMSE_F=   157.5 meV / A\n",
            "2024-09-05 17:07:13.169 INFO: Epoch 435: head: default, loss=  0.4680, RMSE_E_per_atom=    33.1 meV, RMSE_F=   159.4 meV / A\n",
            "2024-09-05 17:07:13.618 INFO: Epoch 436: head: default, loss=  0.4307, RMSE_E_per_atom=    30.1 meV, RMSE_F=   156.5 meV / A\n",
            "2024-09-05 17:07:14.046 INFO: Epoch 437: head: default, loss=  0.4936, RMSE_E_per_atom=    39.0 meV, RMSE_F=   155.4 meV / A\n",
            "2024-09-05 17:07:14.491 INFO: Epoch 438: head: default, loss=  0.3922, RMSE_E_per_atom=    24.8 meV, RMSE_F=   155.2 meV / A\n",
            "2024-09-05 17:07:14.950 INFO: Epoch 439: head: default, loss=  0.3336, RMSE_E_per_atom=    11.0 meV, RMSE_F=   155.5 meV / A\n",
            "2024-09-05 17:07:15.428 INFO: Epoch 440: head: default, loss=  0.5482, RMSE_E_per_atom=    45.0 meV, RMSE_F=   154.9 meV / A\n",
            "2024-09-05 17:07:15.870 INFO: Epoch 441: head: default, loss=  0.3707, RMSE_E_per_atom=    18.4 meV, RMSE_F=   156.8 meV / A\n",
            "2024-09-05 17:07:16.302 INFO: Epoch 442: head: default, loss=  0.4229, RMSE_E_per_atom=    27.7 meV, RMSE_F=   157.4 meV / A\n",
            "2024-09-05 17:07:16.766 INFO: Epoch 443: head: default, loss=  0.4590, RMSE_E_per_atom=    35.2 meV, RMSE_F=   154.4 meV / A\n",
            "2024-09-05 17:07:17.187 INFO: Epoch 444: head: default, loss=  0.3357, RMSE_E_per_atom=    11.9 meV, RMSE_F=   154.8 meV / A\n",
            "2024-09-05 17:07:17.625 INFO: Epoch 445: head: default, loss=  0.4749, RMSE_E_per_atom=    36.5 meV, RMSE_F=   155.0 meV / A\n",
            "2024-09-05 17:07:18.045 INFO: Epoch 446: head: default, loss=  0.3816, RMSE_E_per_atom=    23.7 meV, RMSE_F=   154.8 meV / A\n",
            "2024-09-05 17:07:18.508 INFO: Epoch 447: head: default, loss=  0.4249, RMSE_E_per_atom=    30.5 meV, RMSE_F=   154.6 meV / A\n",
            "2024-09-05 17:07:18.947 INFO: Epoch 448: head: default, loss=  0.4626, RMSE_E_per_atom=    33.5 meV, RMSE_F=   156.9 meV / A\n",
            "2024-09-05 17:07:19.398 INFO: Epoch 449: head: default, loss=  0.3456, RMSE_E_per_atom=    11.5 meV, RMSE_F=   156.2 meV / A\n",
            "2024-09-05 17:07:19.843 INFO: Epoch 450: head: default, loss=  0.4773, RMSE_E_per_atom=    37.0 meV, RMSE_F=   155.0 meV / A\n",
            "2024-09-05 17:07:20.263 INFO: Epoch 451: head: default, loss=  0.3806, RMSE_E_per_atom=    22.4 meV, RMSE_F=   155.1 meV / A\n",
            "2024-09-05 17:07:20.721 INFO: Epoch 452: head: default, loss=  0.4152, RMSE_E_per_atom=    28.8 meV, RMSE_F=   154.4 meV / A\n",
            "2024-09-05 17:07:21.152 INFO: Epoch 453: head: default, loss=  0.4547, RMSE_E_per_atom=    35.3 meV, RMSE_F=   153.4 meV / A\n",
            "2024-09-05 17:07:21.591 INFO: Epoch 454: head: default, loss=  0.3343, RMSE_E_per_atom=    13.3 meV, RMSE_F=   152.9 meV / A\n",
            "2024-09-05 17:07:22.019 INFO: Epoch 455: head: default, loss=  0.4650, RMSE_E_per_atom=    35.0 meV, RMSE_F=   154.7 meV / A\n",
            "2024-09-05 17:07:22.437 INFO: Epoch 456: head: default, loss=  0.3754, RMSE_E_per_atom=    22.9 meV, RMSE_F=   153.4 meV / A\n",
            "2024-09-05 17:07:22.871 INFO: Epoch 457: head: default, loss=  0.4114, RMSE_E_per_atom=    29.4 meV, RMSE_F=   153.3 meV / A\n",
            "2024-09-05 17:07:23.298 INFO: Epoch 458: head: default, loss=  0.4451, RMSE_E_per_atom=    33.3 meV, RMSE_F=   153.6 meV / A\n",
            "2024-09-05 17:07:23.719 INFO: Epoch 459: head: default, loss=  0.3273, RMSE_E_per_atom=    10.9 meV, RMSE_F=   152.8 meV / A\n",
            "2024-09-05 17:07:24.177 INFO: Epoch 460: head: default, loss=  0.4872, RMSE_E_per_atom=    39.3 meV, RMSE_F=   153.1 meV / A\n",
            "2024-09-05 17:07:24.609 INFO: Epoch 461: head: default, loss=  0.3533, RMSE_E_per_atom=    17.8 meV, RMSE_F=   153.1 meV / A\n",
            "2024-09-05 17:07:25.055 INFO: Epoch 462: head: default, loss=  0.3796, RMSE_E_per_atom=    23.1 meV, RMSE_F=   153.3 meV / A\n",
            "2024-09-05 17:07:25.477 INFO: Epoch 463: head: default, loss=  0.4947, RMSE_E_per_atom=    40.1 meV, RMSE_F=   152.9 meV / A\n",
            "2024-09-05 17:07:25.913 INFO: Epoch 464: head: default, loss=  0.3437, RMSE_E_per_atom=    16.7 meV, RMSE_F=   152.6 meV / A\n",
            "2024-09-05 17:07:26.353 INFO: Epoch 465: head: default, loss=  0.4180, RMSE_E_per_atom=    29.9 meV, RMSE_F=   152.9 meV / A\n",
            "2024-09-05 17:07:26.796 INFO: Epoch 466: head: default, loss=  0.3897, RMSE_E_per_atom=    26.3 meV, RMSE_F=   152.6 meV / A\n",
            "2024-09-05 17:07:27.238 INFO: Epoch 467: head: default, loss=  0.4224, RMSE_E_per_atom=    30.7 meV, RMSE_F=   153.2 meV / A\n",
            "2024-09-05 17:07:27.675 INFO: Epoch 468: head: default, loss=  0.4419, RMSE_E_per_atom=    32.1 meV, RMSE_F=   154.6 meV / A\n",
            "2024-09-05 17:07:28.101 INFO: Epoch 469: head: default, loss=  0.3256, RMSE_E_per_atom=    10.1 meV, RMSE_F=   152.7 meV / A\n",
            "2024-09-05 17:07:28.542 INFO: Epoch 470: head: default, loss=  0.4701, RMSE_E_per_atom=    37.6 meV, RMSE_F=   152.9 meV / A\n",
            "2024-09-05 17:07:28.973 INFO: Epoch 471: head: default, loss=  0.3544, RMSE_E_per_atom=    19.0 meV, RMSE_F=   152.5 meV / A\n",
            "2024-09-05 17:07:29.388 INFO: Epoch 472: head: default, loss=  0.3903, RMSE_E_per_atom=    25.4 meV, RMSE_F=   152.8 meV / A\n",
            "2024-09-05 17:07:29.807 INFO: Epoch 473: head: default, loss=  0.4555, RMSE_E_per_atom=    36.0 meV, RMSE_F=   151.9 meV / A\n",
            "2024-09-05 17:07:30.223 INFO: Epoch 474: head: default, loss=  0.3286, RMSE_E_per_atom=    13.1 meV, RMSE_F=   151.3 meV / A\n",
            "2024-09-05 17:07:30.648 INFO: Epoch 475: head: default, loss=  0.4462, RMSE_E_per_atom=    33.8 meV, RMSE_F=   152.2 meV / A\n",
            "2024-09-05 17:07:31.108 INFO: Epoch 476: head: default, loss=  0.3634, RMSE_E_per_atom=    22.0 meV, RMSE_F=   151.6 meV / A\n",
            "2024-09-05 17:07:31.534 INFO: Epoch 477: head: default, loss=  0.3995, RMSE_E_per_atom=    28.4 meV, RMSE_F=   151.8 meV / A\n",
            "2024-09-05 17:07:32.013 INFO: Epoch 478: head: default, loss=  0.4293, RMSE_E_per_atom=    31.8 meV, RMSE_F=   151.9 meV / A\n",
            "2024-09-05 17:07:32.466 INFO: Epoch 479: head: default, loss=  0.3177, RMSE_E_per_atom=     9.1 meV, RMSE_F=   150.9 meV / A\n",
            "2024-09-05 17:07:32.916 INFO: Epoch 480: head: default, loss=  0.4735, RMSE_E_per_atom=    38.4 meV, RMSE_F=   151.2 meV / A\n",
            "2024-09-05 17:07:33.385 INFO: Epoch 481: head: default, loss=  0.3465, RMSE_E_per_atom=    17.6 meV, RMSE_F=   151.5 meV / A\n",
            "2024-09-05 17:07:33.807 INFO: Epoch 482: head: default, loss=  0.3786, RMSE_E_per_atom=    24.1 meV, RMSE_F=   151.7 meV / A\n",
            "2024-09-05 17:07:34.226 INFO: Epoch 483: head: default, loss=  0.4554, RMSE_E_per_atom=    36.1 meV, RMSE_F=   151.8 meV / A\n",
            "2024-09-05 17:07:34.641 INFO: Epoch 484: head: default, loss=  0.3273, RMSE_E_per_atom=    12.8 meV, RMSE_F=   151.5 meV / A\n",
            "2024-09-05 17:07:35.064 INFO: Epoch 485: head: default, loss=  0.4401, RMSE_E_per_atom=    32.8 meV, RMSE_F=   152.6 meV / A\n",
            "2024-09-05 17:07:35.477 INFO: Epoch 486: head: default, loss=  0.3730, RMSE_E_per_atom=    23.9 meV, RMSE_F=   151.3 meV / A\n",
            "2024-09-05 17:07:35.902 INFO: Epoch 487: head: default, loss=  0.4146, RMSE_E_per_atom=    30.7 meV, RMSE_F=   151.2 meV / A\n",
            "2024-09-05 17:07:36.337 INFO: Epoch 488: head: default, loss=  0.4130, RMSE_E_per_atom=    29.6 meV, RMSE_F=   151.6 meV / A\n",
            "2024-09-05 17:07:36.759 INFO: Epoch 489: head: default, loss=  0.3171, RMSE_E_per_atom=     9.1 meV, RMSE_F=   150.8 meV / A\n",
            "2024-09-05 17:07:37.201 INFO: Epoch 490: head: default, loss=  0.4869, RMSE_E_per_atom=    40.0 meV, RMSE_F=   151.4 meV / A\n",
            "2024-09-05 17:07:37.622 INFO: Epoch 491: head: default, loss=  0.3369, RMSE_E_per_atom=    16.4 meV, RMSE_F=   150.6 meV / A\n",
            "2024-09-05 17:07:38.094 INFO: Epoch 492: head: default, loss=  0.3654, RMSE_E_per_atom=    22.3 meV, RMSE_F=   150.8 meV / A\n",
            "2024-09-05 17:07:38.548 INFO: Epoch 493: head: default, loss=  0.4667, RMSE_E_per_atom=    37.5 meV, RMSE_F=   150.9 meV / A\n",
            "2024-09-05 17:07:38.980 INFO: Epoch 494: head: default, loss=  0.3313, RMSE_E_per_atom=    13.2 meV, RMSE_F=   151.4 meV / A\n",
            "2024-09-05 17:07:39.409 INFO: Epoch 495: head: default, loss=  0.4538, RMSE_E_per_atom=    34.2 meV, RMSE_F=   153.0 meV / A\n",
            "2024-09-05 17:07:39.837 INFO: Epoch 496: head: default, loss=  0.3578, RMSE_E_per_atom=    20.8 meV, RMSE_F=   151.3 meV / A\n",
            "2024-09-05 17:07:40.262 INFO: Epoch 497: head: default, loss=  0.3868, RMSE_E_per_atom=    26.6 meV, RMSE_F=   151.2 meV / A\n",
            "2024-09-05 17:07:40.711 INFO: Epoch 498: head: default, loss=  0.4417, RMSE_E_per_atom=    33.6 meV, RMSE_F=   151.5 meV / A\n",
            "2024-09-05 17:07:41.153 INFO: Epoch 499: head: default, loss=  0.3225, RMSE_E_per_atom=    10.6 meV, RMSE_F=   150.8 meV / A\n",
            "2024-09-05 17:07:41.154 INFO: Training complete\n",
            "2024-09-05 17:07:41.155 INFO: \n",
            "2024-09-05 17:07:41.156 INFO: ===========RESULTS===========\n",
            "2024-09-05 17:07:41.156 INFO: Computing metrics for training, validation, and test sets\n",
            "data/solvent_xtb_test.xyz\n",
            "Default_Default\n",
            "Default_Default\n",
            "2024-09-05 17:07:41.852 INFO: Loading checkpoint: MACE_models/mace02_com1_gen1_run-123_epoch-358.pt\n",
            "2024-09-05 17:07:41.887 INFO: Loaded Stage one model from epoch 358 for evaluation\n",
            "2024-09-05 17:07:41.889 INFO: Evaluating train_default ...\n",
            "2024-09-05 17:07:42.016 INFO: Evaluating valid_default ...\n",
            "2024-09-05 17:07:42.218 INFO: Error-table on TRAIN and VALID:\n",
            "+---------------+---------------------+------------------+-------------------+\n",
            "|  config_type  | RMSE E / meV / atom | RMSE F / meV / A | relative F RMSE % |\n",
            "+---------------+---------------------+------------------+-------------------+\n",
            "| train_default |          200.4      |        133.0     |          5.45     |\n",
            "| valid_default |          254.0      |        170.4     |          9.55     |\n",
            "+---------------+---------------------+------------------+-------------------+\n",
            "2024-09-05 17:07:42.219 INFO: Evaluating Default_Default ...\n",
            "2024-09-05 17:07:46.572 INFO: Error-table on TEST:\n",
            "+-----------------+---------------------+------------------+-------------------+\n",
            "|   config_type   | RMSE E / meV / atom | RMSE F / meV / A | relative F RMSE % |\n",
            "+-----------------+---------------------+------------------+-------------------+\n",
            "| Default_Default |          237.0      |        402.8     |         17.59     |\n",
            "+-----------------+---------------------+------------------+-------------------+\n",
            "2024-09-05 17:07:46.574 INFO: Saving model to MACE_models/mace02_com1_gen1_run-123.model\n",
            "2024-09-05 17:07:46.650 INFO: Compiling model, saving metadata to MACE_models/mace02_com1_gen1_compiled.model\n",
            "2024-09-05 17:07:47.400 INFO: Loading checkpoint: MACE_models/mace02_com1_gen1_run-123_epoch-489_swa.pt\n",
            "2024-09-05 17:07:47.432 INFO: Loaded Stage two model from epoch 489 for evaluation\n",
            "2024-09-05 17:07:47.433 INFO: Evaluating train_default ...\n",
            "2024-09-05 17:07:47.538 INFO: Evaluating valid_default ...\n",
            "2024-09-05 17:07:47.735 INFO: Error-table on TRAIN and VALID:\n",
            "+---------------+---------------------+------------------+-------------------+\n",
            "|  config_type  | RMSE E / meV / atom | RMSE F / meV / A | relative F RMSE % |\n",
            "+---------------+---------------------+------------------+-------------------+\n",
            "| train_default |           11.3      |        100.5     |          4.12     |\n",
            "| valid_default |            9.1      |        150.8     |          8.45     |\n",
            "+---------------+---------------------+------------------+-------------------+\n",
            "2024-09-05 17:07:47.736 INFO: Evaluating Default_Default ...\n",
            "2024-09-05 17:07:51.770 INFO: Error-table on TEST:\n",
            "+-----------------+---------------------+------------------+-------------------+\n",
            "|   config_type   | RMSE E / meV / atom | RMSE F / meV / A | relative F RMSE % |\n",
            "+-----------------+---------------------+------------------+-------------------+\n",
            "| Default_Default |           12.2      |        388.4     |         16.96     |\n",
            "+-----------------+---------------------+------------------+-------------------+\n",
            "2024-09-05 17:07:51.772 INFO: Saving model to MACE_models/mace02_com1_gen1_run-123_stagetwo.model\n",
            "2024-09-05 17:07:51.845 INFO: Compiling model, saving metadata MACE_models/mace02_com1_gen1_stagetwo_compiled.model\n"
          ]
        }
      ],
      "source": [
        "train_mace(\"config/config-04.yml\")"
      ]
    },
    {
      "cell_type": "code",
      "execution_count": null,
      "metadata": {
        "id": "knsX6u-ZxNVO"
      },
      "outputs": [],
      "source": [
        "#remove checkpoints since they may cause errors on retraining a model with the same name but a different architecture\n",
        "import glob\n",
        "import os\n",
        "for file in glob.glob(\"MACE_models/*.pt\"):\n",
        "    os.remove(file)"
      ]
    },
    {
      "cell_type": "markdown",
      "metadata": {
        "id": "yfYqcls4xNVO"
      },
      "source": [
        "For some reason the energy error on the training set is now huge - can you work out why this is?\n",
        "\n",
        "What does this imply about how we do iterative training?"
      ]
    },
    {
      "cell_type": "code",
      "execution_count": null,
      "metadata": {
        "id": "VyJ_sBJTxNVO"
      },
      "outputs": [],
      "source": [
        "mace_calc = MACECalculator(model_paths=['MACE_models/mace02_com1_gen1_run-123_stagetwo.model'], device='cuda')\n",
        "init_conf = ea.sel_by_info_val(read('data/solvent_molecs.xyz',':'), 'Nmols', 1)[0].copy()\n",
        "simpleMD(init_conf, temp=1200, calc=mace_calc, fname='moldyn/mace02_md_gen1.xyz', s=10, T=2000)"
      ]
    },
    {
      "cell_type": "code",
      "execution_count": null,
      "metadata": {
        "id": "RDR3fOAVxNVO"
      },
      "outputs": [],
      "source": [
        "traj = read('moldyn/mace02_md_gen1.xyz', ':')\n",
        "view_x3d_n(traj)"
      ]
    },
    {
      "cell_type": "markdown",
      "metadata": {
        "id": "EuaTYEsjxNVP"
      },
      "source": [
        "Great! The dynamics is already looking better, however its hard to tell if it is really correct. To do this we cuold look at the radial distribution function compared to a ground truth trajectory, but if the ground truth is too expensive its not so easy.\n",
        "\n",
        "If we have reason to believe the model is wrong, we could continue the iterative process and gradually improve the potential. This is an arduous process, because we need to carefully investigate the trajectories and decide which configs to add back to training. We could instead automate this protocol by predicting errors on the fly and picking configs which are not well predicted: this is called active learning."
      ]
    },
    {
      "cell_type": "markdown",
      "metadata": {
        "cell_id": "a00c92d61afc4adcb493f1cc7b2ee3a6",
        "deepnote_cell_type": "markdown",
        "id": "DpH3OgAyxNVP"
      },
      "source": [
        "## 2. Active Learning with MACE"
      ]
    },
    {
      "cell_type": "markdown",
      "metadata": {
        "id": "IFMwXevOxNVP"
      },
      "source": [
        "### 2.1 Preparing a committee of models"
      ]
    },
    {
      "cell_type": "markdown",
      "metadata": {
        "cell_id": "588eeeda5dc94c76841aba2af1c4f90a",
        "deepnote_cell_type": "markdown",
        "id": "PzmSnYbAxNVP"
      },
      "source": [
        "We can compute errors by evaluating the reference energy and forces (in our case XTB) and computing the difference to MACE predictions. In real research applications, this can be very expensive to evaluate depending on the reference level of theory. Alternatively, we can estimate errors based on a committee of models. Let's train a committee of MACE models by adding some randomness to the optimization process. We can achieve this by changing the `--seed`. We already have a model, we will fit two more, on the same data:"
      ]
    },
    {
      "cell_type": "code",
      "execution_count": null,
      "metadata": {
        "id": "-C7jn1B8D2yM"
      },
      "outputs": [],
      "source": [
        "%%writefile config/config-05.yml\n",
        "\n",
        "model: \"MACE\"\n",
        "num_channels: 32\n",
        "max_L: 0\n",
        "r_max: 4.0\n",
        "name: \"mace02_com2\"\n",
        "model_dir: \"MACE_models\"\n",
        "log_dir: \"MACE_models\"\n",
        "checkpoints_dir: \"MACE_models\"\n",
        "results_dir: \"MACE_models\"\n",
        "train_file: \"data/solvent_xtb_train_23_gen1.xyz\"\n",
        "valid_file: \"data/solvent_xtb_train_50.xyz\"\n",
        "test_file: \"data/solvent_xtb_test.xyz\"\n",
        "energy_key: \"energy_xtb\"\n",
        "forces_key: \"forces_xtb\"\n",
        "device: cuda\n",
        "batch_size: 10\n",
        "max_num_epochs: 500\n",
        "swa: True\n",
        "seed: 345"
      ]
    },
    {
      "cell_type": "code",
      "execution_count": null,
      "metadata": {
        "id": "JMDC9wBWD2yM"
      },
      "outputs": [],
      "source": [
        "%%writefile config/config-06.yml\n",
        "\n",
        "model: \"MACE\"\n",
        "num_channels: 32\n",
        "max_L: 0\n",
        "r_max: 4.0\n",
        "name: \"mace02_com3\"\n",
        "model_dir: \"MACE_models\"\n",
        "log_dir: \"MACE_models\"\n",
        "checkpoints_dir: \"MACE_models\"\n",
        "results_dir: \"MACE_models\"\n",
        "train_file: \"data/solvent_xtb_train_23_gen1.xyz\"\n",
        "valid_file: \"data/solvent_xtb_train_50.xyz\"\n",
        "test_file: \"data/solvent_xtb_test.xyz\"\n",
        "energy_key: \"energy_xtb\"\n",
        "forces_key: \"forces_xtb\"\n",
        "device: cuda\n",
        "batch_size: 10\n",
        "max_num_epochs: 500\n",
        "swa: True\n",
        "seed: 567"
      ]
    },
    {
      "cell_type": "code",
      "execution_count": null,
      "metadata": {
        "id": "2-d7doFND2yM"
      },
      "outputs": [],
      "source": [
        "train_mace(\"config/config-05.yml\")\n",
        "train_mace(\"config/config-06.yml\")"
      ]
    },
    {
      "cell_type": "code",
      "execution_count": null,
      "metadata": {
        "id": "FoL5JoLExNVP"
      },
      "outputs": [],
      "source": [
        "#remove checkpoints since they may cause errors on retraining a model with the same name but a different architecture\n",
        "import glob\n",
        "import os\n",
        "for file in glob.glob(\"MACE_models/*.pt\"):\n",
        "    os.remove(file)"
      ]
    },
    {
      "cell_type": "markdown",
      "metadata": {
        "id": "09GP4CZVxNVP"
      },
      "source": [
        "Perfect, we have two new models. Let's start by testing the commitee on the first 100 frames of the first trajectory we generated. The `MACECalculator` can conveniently take a list of calculators as input and will compute separate energies from each calculator."
      ]
    },
    {
      "cell_type": "code",
      "execution_count": null,
      "metadata": {
        "id": "U2SaupbgxNVP"
      },
      "outputs": [],
      "source": [
        "import numpy as np\n",
        "from ase.io import read\n",
        "from aseMolec import extAtoms as ea\n",
        "from matplotlib import pyplot as plt\n",
        "from mace.calculators import MACECalculator\n",
        "from tqdm import tqdm\n",
        "\n",
        "model_paths = ['MACE_models/mace02_com3_run-567_stagetwo.model',\n",
        "               'MACE_models/mace02_com2_run-345_stagetwo.model',\n",
        "               'MACE_models/mace02_com1_gen1_run-123_stagetwo.model']\n",
        "mace_calcs = MACECalculator(model_paths=model_paths, device='cuda')\n",
        "\n",
        "traj = read('data/mace02_md_100_xtb.xyz', ':')\n",
        "for at in tqdm(traj):\n",
        "    at.calc = mace_calcs\n",
        "    engs = at.get_potential_energies()\n",
        "    at.info['energy_mace_1'] = at.info.pop('energy_mace') #rename value obtained with first member of the committee\n",
        "    at.info['energy_mace_2'] = engs[1]\n",
        "    at.info['energy_mace_3'] = engs[2]\n",
        "    at.info['variance'] = np.std(engs)\n",
        "    at.info['average_mace_energy'] = np.average(engs)\n",
        "    at.info['true_error'] = np.abs(at.info['average_mace_energy'] - at.info['energy_xtb'])\n",
        "\n",
        "#Let's check the energies of the MACE committee vs XTB energy\n",
        "plt.plot(np.arange(len(traj)), ea.get_prop(traj, 'info', 'energy_xtb', peratom=True), label='XTB')\n",
        "plt.plot(np.arange(len(traj)), ea.get_prop(traj, 'info', 'energy_mace_1', peratom=True), label='MACE_1')\n",
        "plt.plot(np.arange(len(traj)), ea.get_prop(traj, 'info', 'energy_mace_2', peratom=True), label='MACE_2')\n",
        "plt.plot(np.arange(len(traj)), ea.get_prop(traj, 'info', 'energy_mace_3', peratom=True), label='MACE_3')\n",
        "plt.legend()\n",
        "plt.xlabel('Time (fs)')\n",
        "plt.ylabel('Energy per Atom (eV)')\n",
        "plt.show()\n",
        "\n",
        "\n",
        "#plt.plot(np.arange(len(traj)), ea.get_prop(traj, 'info', 'variance', peratom=True), label='committee variance')\n",
        "#plt.plot(np.arange(len(traj)), ea.get_prop(traj, 'info', 'true_error', peratom=True), label='error w.r.t XTB')\n",
        "\n",
        "fig, ax1 = plt.subplots()\n",
        "ax2 = ax1.twinx()\n",
        "ax1.plot(np.arange(len(traj)), ea.get_prop(traj, 'info', 'variance', peratom=True), label='committee variance', color='tab:blue')\n",
        "#ax2.plot(np.arange(len(traj)), ea.get_prop(traj, 'info', 'true_error', peratom=True), label='error w.r.t XTB', color='tab:orange')\n",
        "\n",
        "ax1.set_xlabel('time (fs)')\n",
        "ax1.set_ylabel('committee energy variance', color='tab:blue')\n",
        "#ax2.set_ylabel('error w.r.t XTB', color='tab:orange')\n",
        "\n",
        "plt.show()"
      ]
    },
    {
      "cell_type": "markdown",
      "metadata": {
        "cell_id": "ec2e91aa94044d14aeadea824b5fecbe",
        "deepnote_cell_type": "markdown",
        "id": "5yXhlCtVxNVQ"
      },
      "source": [
        "Notice how the variance (disagreement between models) increases around the same config where the true error with respect to XTB diverges. This is good news because it indicates the variance is a good proxy for true error.\n",
        "\n",
        "Now we can run dynamics with a commitee of models and monitor the variance in the energy prediction. Because XTB is cheap enough we can also compare that variance with the true error. Do they correlate?"
      ]
    },
    {
      "cell_type": "markdown",
      "metadata": {
        "id": "ZPX9TP7fxNVQ"
      },
      "source": [
        "### 2.2 Running MD with the MACE committee"
      ]
    },
    {
      "cell_type": "code",
      "execution_count": null,
      "metadata": {
        "cell_id": "763720f0e2ed4ea7a27db276507b4fa9",
        "deepnote_cell_type": "code",
        "deepnote_to_be_reexecuted": false,
        "execution_millis": 741598,
        "execution_start": 1690390325607,
        "id": "yOSnpIJUxNVQ",
        "source_hash": null
      },
      "outputs": [],
      "source": [
        "from aseMolec import extAtoms as ea\n",
        "from ase import units\n",
        "from ase.md.langevin import Langevin\n",
        "from ase.md.velocitydistribution import Stationary, ZeroRotation, MaxwellBoltzmannDistribution\n",
        "from ase.io import read, write\n",
        "\n",
        "import random\n",
        "import numpy as np\n",
        "import time\n",
        "import pylab as pl\n",
        "from IPython import display\n",
        "\n",
        "from mace.calculators import MACECalculator\n",
        "from xtb.ase.calculator import XTB\n",
        "\n",
        "model_paths = ['MACE_models/mace02_com3_run-567_stagetwo.model',\n",
        "               'MACE_models/mace02_com2_run-345_stagetwo.model',\n",
        "               'MACE_models/mace02_com1_gen1_run-123_stagetwo.model']\n",
        "\n",
        "xtb_calc = XTB(method=\"GFN2-xTB\")\n",
        "mace_calc = MACECalculator(model_paths=model_paths, device='cpu')\n",
        "\n",
        "init_conf = ea.sel_by_info_val(read('data/solvent_molecs.xyz',':'), 'Nmols', 1)[0].copy()\n",
        "init_conf.calc = mace_calc\n",
        "\n",
        "#initialize the temperature\n",
        "np.random.seed(701)\n",
        "MaxwellBoltzmannDistribution(init_conf, temperature_K=300)\n",
        "Stationary(init_conf)\n",
        "ZeroRotation(init_conf)\n",
        "\n",
        "dyn = Langevin(init_conf, 1*units.fs, temperature_K=1200, friction=0.1)\n",
        "\n",
        "%matplotlib inline\n",
        "\n",
        "time_fs = []\n",
        "temperature = []\n",
        "energies_1 = []\n",
        "energies_2 = []\n",
        "energies_3 = []\n",
        "variances = []\n",
        "xtb_energies = []\n",
        "true_errors = []\n",
        "\n",
        "!rm -rfv moldyn/mace02_md_committee.xyz\n",
        "fig, ax = pl.subplots(4, 1, figsize=(8,8), sharex='all', gridspec_kw={'hspace': 0, 'wspace': 0})\n",
        "\n",
        "\n",
        "def write_frame():\n",
        "        at = dyn.atoms.copy()\n",
        "        at.calc = xtb_calc\n",
        "        xtb_energy = at.get_potential_energy()\n",
        "\n",
        "        dyn.atoms.write('moldyn/mace02_md_committee.xyz', append=True, write_results=False)\n",
        "        time_fs.append(dyn.get_time()/units.fs)\n",
        "        temperature.append(dyn.atoms.get_temperature())\n",
        "        energies_1.append(dyn.atoms.calc.results[\"energies\"][0]/len(dyn.atoms))\n",
        "        energies_2.append(dyn.atoms.calc.results[\"energies\"][1]/len(dyn.atoms))\n",
        "        energies_3.append(dyn.atoms.calc.results[\"energies\"][2]/len(dyn.atoms))\n",
        "        variances.append(dyn.atoms.calc.results[\"energy_var\"]/len(dyn.atoms))\n",
        "        xtb_energies.append(xtb_energy/len(dyn.atoms))\n",
        "        true_errors.append(np.var([dyn.atoms.calc.results[\"energy\"],xtb_energy])/len(dyn.atoms))\n",
        "\n",
        "        # plot the true error\n",
        "        ax[0].plot(np.array(time_fs), np.array(true_errors), color=\"black\")\n",
        "        ax[0].set_ylabel(r'$\\Delta$ E (eV$^2$/atom)')\n",
        "        ax[0].legend(['Error w.r.t. XTB'], loc='upper left')\n",
        "\n",
        "        # plot committee variance\n",
        "        ax[1].plot(np.array(time_fs), np.array(variances), color=\"y\")\n",
        "        ax[1].set_ylabel(r'committee variance')\n",
        "        ax[1].legend(['Estimated Error (committee variances)'], loc='upper left')\n",
        "\n",
        "        # plot the temperature of the system as subplots\n",
        "        ax[2].plot(np.array(time_fs), temperature, color=\"r\", label='Temperature')\n",
        "        ax[2].set_ylabel(\"T (K)\")\n",
        "\n",
        "        ax[3].plot(np.array(time_fs), energies_1, color=\"g\")\n",
        "        ax[3].plot(np.array(time_fs), energies_2, color=\"y\")\n",
        "        ax[3].plot(np.array(time_fs), energies_3, color=\"olive\")\n",
        "        ax[3].plot(np.array(time_fs), xtb_energies, color=\"black\")\n",
        "        ax[3].set_ylabel(\"E (eV/atom)\")\n",
        "        ax[3].set_xlabel('Time (fs)')\n",
        "        ax[3].legend(['E mace1', 'E mace2', 'E mace3', 'E xtb'], loc='upper left')\n",
        "\n",
        "        display.clear_output(wait=True)\n",
        "        display.display(fig)\n",
        "        time.sleep(0.01)\n",
        "\n",
        "dyn.attach(write_frame, interval=10)\n",
        "dyn.run(500)\n",
        "print(\"MD finished!\")"
      ]
    },
    {
      "cell_type": "markdown",
      "metadata": {
        "id": "8MNDXXavxNVQ"
      },
      "source": [
        "NOTE: if you get the error `xtb could not evalute the config` that means the dynamics went so crazy and gave such strange configurations, that xtb refused to run! thats to be expected if the model is really bad. Copy some of the code above to have a look at the trajectory if you'd like to see this.\n",
        "\n",
        "Closely observe the dynamics. Notice how good the committee error is as a proxy for the true error. In this case the true is cheap to compute, but in most practical applications it won't be. Therefore, we will need to rely on the committee error to identy configurations that should be added back to the training set. This is called active learning:"
      ]
    },
    {
      "cell_type": "markdown",
      "metadata": {
        "id": "aqbEUoAPxNVR"
      },
      "source": [
        "![alt text](https://github.com/imagdau/Tutorials/blob/main/figures/active_learning.png?raw=1)"
      ]
    },
    {
      "cell_type": "markdown",
      "metadata": {
        "id": "2kkq8XlAxNVR"
      },
      "source": [
        "### Active learning in practice\n",
        "\n",
        "The way to use active learning to improve the model is as follows:\n",
        "1. run dynmics, track the uncertainty.\n",
        "2. if the uncertainty breaches some predeterined value, stop the simulation and peform the ground truth calculation.\n",
        "3. and the new config to the dataset, and retrain\n",
        "4. repeat steps 1-3 until the uncertainty never crosses the threshold\n",
        "\n",
        "This can be done without human supervision - you can write a program which loops this process.\n",
        "\n",
        "As an exercise at the end of the notebook, try writing an active learing loop to gradually grow the dataset and produce a good model, without ever running XTB dynamics."
      ]
    },
    {
      "cell_type": "markdown",
      "metadata": {
        "id": "P9x25o-PxNVR"
      },
      "source": [
        "## 3 Foundational Models"
      ]
    },
    {
      "cell_type": "markdown",
      "metadata": {
        "id": "qoh5bDxqxNVR"
      },
      "source": [
        "### 3.1 Molecular Dynamics with MACE-MP-0"
      ]
    },
    {
      "cell_type": "markdown",
      "metadata": {
        "id": "maotXGR3xNVR"
      },
      "source": [
        "Foundation models changed everything. MACE-MP-0 is a model trained on >1 million DFT calcuations, and can run dynamics for the whole periodic table.\n",
        "\n",
        "Mace provides a simple interface to load a foundational model, which we can use mow. Check the [documentation](https://mace-docs.readthedocs.io/en/latest/guide/foundation_models.html) for more details."
      ]
    },
    {
      "cell_type": "code",
      "execution_count": null,
      "metadata": {
        "id": "ySF0cKm1xNVR"
      },
      "outputs": [],
      "source": [
        "from mace.calculators import mace_mp\n",
        "\n",
        "macemp = mace_mp(model=\"mace_agnesi_small.model\", device=\"cuda\")\n",
        "init_conf = ea.sel_by_info_val(read('data/solvent_molecs.xyz',':'), 'Nmols', 1)[0].copy()\n",
        "simpleMD(init_conf, temp=1200, calc=macemp, fname='moldyn/mace03_md.xyz', s=10, T=2000)"
      ]
    },
    {
      "cell_type": "markdown",
      "metadata": {
        "id": "KRMKjfYBxNVW"
      },
      "source": [
        "OMG, look at that dynamics! Stable out-of-the-box, sign me up! Let's view the trajectory:"
      ]
    },
    {
      "cell_type": "code",
      "execution_count": null,
      "metadata": {
        "id": "PK9nLfWPxNVW"
      },
      "outputs": [],
      "source": [
        "from ase.io import read, write\n",
        "\n",
        "traj = read('moldyn/mace03_md.xyz', ':')\n",
        "view_x3d_n(traj)"
      ]
    },
    {
      "cell_type": "markdown",
      "metadata": {
        "id": "idQExiN2xNVW"
      },
      "source": [
        "### 3.2 Compare to XTB"
      ]
    },
    {
      "cell_type": "markdown",
      "metadata": {
        "id": "nlh6ZyTGxNVW"
      },
      "source": [
        "Let's compute the radial distribution functions of this very stable trajectory and compare them to XTB. Remember MACE-MP was trained on PBE level of theory so we don't necessarily expect them to match:"
      ]
    },
    {
      "cell_type": "code",
      "execution_count": null,
      "metadata": {
        "id": "3W2GjUexxNVX"
      },
      "outputs": [],
      "source": [
        "from matplotlib import pyplot as plt\n",
        "from aseMolec import anaAtoms as aa\n",
        "\n",
        "tag = 'OO_intra' #choose one of 'HH_intra', 'HC_intra', 'HO_intra', 'CC_intra', 'CO_intra', 'OO_intra'\n",
        "\n",
        "for f in ['xtb_md', 'mace03_md']:\n",
        "    traj = read('moldyn/'+f+'.xyz', '50:') #ignore first 50 frames\n",
        "    for at in traj:\n",
        "        at.pbc = True #create a fake box for rdf compatibility\n",
        "        at.cell = [100,100,100]\n",
        "    rdf = aa.compute_rdfs_traj_avg(traj, rmax=5, nbins=70) #aseMolec provides functionality to compute RDFs\n",
        "    plt.plot(rdf[1], rdf[0][tag], '.-', label=f, alpha=0.7, linewidth=3)\n",
        "\n",
        "plt.legend();\n",
        "plt.yticks([]);\n",
        "plt.xlabel(r'R ($\\rm \\AA$)');\n",
        "plt.ylabel('RDF '+tag);"
      ]
    },
    {
      "cell_type": "markdown",
      "metadata": {
        "id": "16UZzmpexNVX"
      },
      "source": [
        "Notice there's a slight shift in the O-O RDF peak. This is likely due to the different level of reference theory. Can we fix by fine tuning MACE-MP-0?\n",
        "\n",
        "Depending on your application, the PBE reference using in MACE-MP-0 may not be appropriate. It is probably better than XTB, but thats because for this notebook we are using XTB since it is extremely fast, so we can check the model's true error very easily.\n",
        "\n",
        "In practice, you might want to run dynamics of this small molecule at the MP2 or coupled cluster level (which is the 'gold standard' of molecular quantum chemistry). In that case, you would want to finetune MACE-MP-0 onto a small amount of very expensive couple cluster data."
      ]
    },
    {
      "cell_type": "markdown",
      "metadata": {
        "id": "H_kSVlzxxNVX"
      },
      "source": [
        "### 3.3 Fine tune MACE-MP to XTB"
      ]
    },
    {
      "cell_type": "markdown",
      "metadata": {
        "id": "vF-sDD9ED2yP"
      },
      "source": [
        "As described in the previous section, MACE-MP-0 offers qualitatively good performance across a wide range of chemistries and materials at the PBE+U level of theory.\n",
        "However, for specific applications, it may be beneficial to fine-tune the model to improve its accuracy.\n",
        "The fine-tuning process involves training a pre-trained model on a new dataset, called the fine-tuning dataset, which contains a limited amount of data that are only relevant to the specific application.\n",
        "\n",
        "There exists two ways of finetuning a MACE mode: (1) ***standard*** approach which just restarts training using the parameters of the pretrained model (2) ***multi-head*** approach which ensures that the model does not forget too much about its pretraining.\n",
        "\n",
        "We will start with the ***standard*** aproach below by setting `multiheads_finetuning: False` in the config. When finishing the training, you try to train another model with the ***multi-head*** approach and compare performances in MD. Remember to change the name both in the config and when running MD."
      ]
    },
    {
      "cell_type": "code",
      "execution_count": null,
      "metadata": {
        "id": "0mTww8OmD2yP"
      },
      "outputs": [],
      "source": [
        "%%writefile config/config-07.yml\n",
        "\n",
        "model: \"MACE\"\n",
        "stress_weight: 0.0\n",
        "forces_weight: 10.0\n",
        "energy_weight: 1.0\n",
        "foundation_model: \"mace_agnesi_small.model\"\n",
        "multiheads_finetuning: False\n",
        "name: \"finetuned_MACE\"\n",
        "model_dir: \"MACE_models\"\n",
        "log_dir: \"MACE_models\"\n",
        "checkpoints_dir: \"MACE_models\"\n",
        "results_dir: \"MACE_models\"\n",
        "train_file: \"data/solvent_xtb_train_50.xyz\"\n",
        "valid_fraction: 0.10\n",
        "test_file: \"data/solvent_xtb_test.xyz\"\n",
        "energy_key: \"energy_xtb\"\n",
        "forces_key: \"forces_xtb\"\n",
        "device: cuda\n",
        "batch_size: 10\n",
        "max_num_epochs: 500\n",
        "num_samples_pt: 300\n",
        "swa: True\n",
        "seed: 345"
      ]
    },
    {
      "cell_type": "code",
      "execution_count": null,
      "metadata": {
        "id": "yc4sneynxNVX"
      },
      "outputs": [],
      "source": [
        "train_mace(\"config/config-07.yml\")"
      ]
    },
    {
      "cell_type": "markdown",
      "metadata": {
        "id": "qT23YJaBD2yP"
      },
      "source": [
        "Compare the final accuracy to the models trained from scratch. You should see that the errors are much better when doing finetuning."
      ]
    },
    {
      "cell_type": "code",
      "execution_count": null,
      "metadata": {
        "id": "iBaqOL9_xNVX"
      },
      "outputs": [],
      "source": [
        "mace_calc = MACECalculator(model_paths=['MACE_models/finetuned_MACE_run-345_stagetwo.model'], device='cuda')\n",
        "\n",
        "init_conf = ea.sel_by_info_val(read('data/solvent_molecs.xyz',':'), 'Nmols', 1)[0].copy()\n",
        "simpleMD(init_conf, temp=1200, calc=mace_calc, fname='moldyn/mace_finetuned_md.xyz', s=10, T=2000)"
      ]
    },
    {
      "cell_type": "code",
      "execution_count": null,
      "metadata": {
        "id": "61qwBSW3xNVY"
      },
      "outputs": [],
      "source": [
        "from matplotlib import pyplot as plt\n",
        "from aseMolec import anaAtoms as aa\n",
        "\n",
        "tag = 'OO_intra' # 'OO_intra' #choose one of 'HH_intra', 'HC_intra', 'HO_intra', 'CC_intra', 'CO_intra', 'OO_intra'\n",
        "\n",
        "for f in ['xtb_md', 'mace_finetuned_md']:\n",
        "    traj = read('moldyn/'+f+'.xyz', '50:') #ignore first 50 frames\n",
        "    for at in traj:\n",
        "        at.pbc = True #create a fake box for rdf compatibility\n",
        "        at.cell = [100,100,100]\n",
        "    rdf = aa.compute_rdfs_traj_avg(traj, rmax=5, nbins=70) #aseMolec provides functionality to compute RDFs\n",
        "    plt.plot(rdf[1], rdf[0][tag], '.-', label=f, alpha=0.7, linewidth=3)\n",
        "\n",
        "plt.legend();\n",
        "plt.yticks([]);\n",
        "plt.xlabel(r'R ($\\rm \\AA$)');\n",
        "plt.ylabel('RDF '+tag);"
      ]
    },
    {
      "cell_type": "code",
      "execution_count": null,
      "metadata": {
        "id": "nGjLB6hvxNVY"
      },
      "outputs": [],
      "source": [
        "from ase.io import read, write\n",
        "import nglview as nv\n",
        "\n",
        "traj = read('moldyn/mace_finetuned_md.xyz', ':')\n",
        "view_x3d_n(traj)"
      ]
    },
    {
      "cell_type": "markdown",
      "metadata": {
        "id": "EtaCf0BixNVY"
      },
      "source": [
        "What are the results - does it work?\n",
        "\n",
        "Consider comparing more than one of the rdfs, and looking at how the MP0-model did (as we saw above) vs the finetuned version."
      ]
    }
  ],
  "metadata": {
    "colab": {
      "provenance": [],
      "machine_shape": "hm",
      "gpuType": "T4",
      "include_colab_link": true
    },
    "deepnote": {
      "is_reactive": false
    },
    "deepnote_execution_queue": [],
    "deepnote_notebook_id": "2a16e1e8a7ad42a8825007f5cff15d19",
    "kernelspec": {
      "display_name": "Python (mace_env)",
      "language": "python",
      "name": "mace_env"
    },
    "language_info": {
      "codemirror_mode": {
        "name": "ipython",
        "version": 3
      },
      "file_extension": ".py",
      "mimetype": "text/x-python",
      "name": "python",
      "nbconvert_exporter": "python",
      "pygments_lexer": "ipython3",
      "version": "3.10.14"
    },
    "accelerator": "GPU"
  },
  "nbformat": 4,
  "nbformat_minor": 0
}